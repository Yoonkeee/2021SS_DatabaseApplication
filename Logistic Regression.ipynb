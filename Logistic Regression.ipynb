{
 "cells": [
  {
   "cell_type": "code",
   "execution_count": 1,
   "metadata": {
    "ExecuteTime": {
     "end_time": "2021-03-29T19:23:40.435083Z",
     "start_time": "2021-03-29T19:23:39.518518Z"
    }
   },
   "outputs": [
    {
     "name": "stderr",
     "output_type": "stream",
     "text": [
      "/Library/Frameworks/Python.framework/Versions/3.7/lib/python3.7/site-packages/sklearn/externals/joblib/__init__.py:15: DeprecationWarning: sklearn.externals.joblib is deprecated in 0.21 and will be removed in 0.23. Please import this functionality directly from joblib, which can be installed with: pip install joblib. If this warning is raised when loading pickled models, you may need to re-serialize those models with scikit-learn 0.21+.\n",
      "  warnings.warn(msg, category=DeprecationWarning)\n"
     ]
    }
   ],
   "source": [
    "import os\n",
    "import csv\n",
    "import struct\n",
    "import chardet\n",
    "import numpy as np\n",
    "import collections\n",
    "from typing import *\n",
    "from time import time\n",
    "from numpy import random as rnd\n",
    "import matplotlib.pyplot as plt\n",
    "import matplotlib.pyplot as pyplot\n",
    "from sklearn.utils import shuffle\n",
    "from sklearn.externals import joblib\n",
    "from sklearn.metrics import f1_score\n",
    "from sklearn.metrics import make_scorer\n",
    "from IPython.display import clear_output\n",
    "from sklearn.metrics import accuracy_score\n",
    "from sklearn.metrics import confusion_matrix\n",
    "from sklearn.preprocessing import StandardScaler\n",
    "from sklearn.model_selection import GridSearchCV\n",
    "from sklearn.metrics import classification_report\n",
    "from sklearn.linear_model import LogisticRegression\n",
    "from sklearn.model_selection import train_test_split\n",
    "from sklearn.linear_model import LogisticRegressionCV"
   ]
  },
  {
   "cell_type": "code",
   "execution_count": 2,
   "metadata": {
    "ExecuteTime": {
     "end_time": "2021-03-29T19:23:40.562740Z",
     "start_time": "2021-03-29T19:23:40.438627Z"
    }
   },
   "outputs": [
    {
     "name": "stdout",
     "output_type": "stream",
     "text": [
      "Logistic Regression.ipynb \u001b[31mNHIS_OPEN_GJ_2018_100.csv\u001b[m\u001b[m \u001b[31mSVM.ipynb\u001b[m\u001b[m\r\n",
      "\u001b[31mNHIS_OPEN_GJ_2017_100.csv\u001b[m\u001b[m README.md\r\n"
     ]
    }
   ],
   "source": [
    "!ls"
   ]
  },
  {
   "cell_type": "markdown",
   "metadata": {},
   "source": [
    "# Data Reading"
   ]
  },
  {
   "cell_type": "code",
   "execution_count": 3,
   "metadata": {
    "ExecuteTime": {
     "end_time": "2021-03-29T19:23:40.588899Z",
     "start_time": "2021-03-29T19:23:40.566588Z"
    }
   },
   "outputs": [],
   "source": [
    "class ReadData():\n",
    "    def __init__(self, year=2017):\n",
    "        self.year = year\n",
    "        self.infos = []\n",
    "        self.data = []\n",
    "        self.labels = []\n",
    "        self.no_data = []\n",
    "        self.data_infos = []\n",
    "        self.required_info_index = [2, 3, 5, 6, 7, 12, 13, 15, 16, 17, 18, \n",
    "                               19, 20, 21, 22, 23, 24, 25, 26]\n",
    "        self.no_data_count = collections.defaultdict(int)\n",
    "        \n",
    "    def read(self, no_npz = True, DATASIZE=None, FBS_PIVOT=120):\n",
    "        year = self.year\n",
    "        print(f'Reading year {self.year}')\n",
    "        if not DATASIZE:\n",
    "            DATASIZE = float('inf')\n",
    "        if year == 2017:\n",
    "            FILENAME = 'NHIS_OPEN_GJ_2017_100.csv'\n",
    "        elif year == 2018:\n",
    "            FILENAME = 'NHIS_OPEN_GJ_2018_100.csv'\n",
    "        else:\n",
    "            raise Exception('year should be 2017 or 2018. default=2017')\n",
    "            \n",
    "        with open(FILENAME, 'rb') as f:\n",
    "            ENCODING = chardet.detect(f.readline())['encoding']\n",
    "            \n",
    "        f = open(FILENAME, 'r', encoding=ENCODING)\n",
    "        rdr = csv.reader(f)\n",
    "        \n",
    "        required_info_index = self.required_info_index\n",
    "\n",
    "        for n, col in enumerate(rdr):\n",
    "            required_data = [info for index, info in enumerate(col) if index in required_info_index]\n",
    "            if n == 0:\n",
    "                self.infos.append(col)\n",
    "                self.infos = self.infos[0]\n",
    "                self.data_infos.append(required_data)\n",
    "                self.data_infos = self.data_infos[0]\n",
    "                FBS_INDEX = self.infos.index('식전혈당(공복혈당)')\n",
    "            else:\n",
    "                FBS = col[FBS_INDEX]\n",
    "                if '' in required_data or FBS == '':\n",
    "#                     print(required_data)\n",
    "                    l = [self.data_infos[i] for i, d in enumerate(required_data) if d == '']\n",
    "                    for s in l: self.no_data_count[s] += 1\n",
    "                    self.no_data.append(n)\n",
    "                else:\n",
    "                    self.data.append(required_data)\n",
    "                    self.labels.append(1) if int(FBS) >= FBS_PIVOT else self.labels.append(0)\n",
    "                    \n",
    "            if n >= DATASIZE:\n",
    "                break\n",
    "\n",
    "        f.close()\n",
    "        \n",
    "        X = np.array(self.data)\n",
    "        X = X.astype(np.float64)\n",
    "        y = np.array(self.labels)\n",
    "        \n",
    "        print(f\"Reading year {year}'s data done\")\n",
    "        print(f'Size of X = {len(X)}, y = {len(y)}')\n",
    "        print(f'X has {X.shape[1]} features')\n",
    "        print(f'Size of data with empty value = {len(self.no_data)}\\n')\n",
    "        return [X, y]"
   ]
  },
  {
   "cell_type": "code",
   "execution_count": 4,
   "metadata": {
    "ExecuteTime": {
     "end_time": "2021-03-29T19:24:11.403895Z",
     "start_time": "2021-03-29T19:23:40.591550Z"
    }
   },
   "outputs": [
    {
     "name": "stdout",
     "output_type": "stream",
     "text": [
      "Reading year 2017\n",
      "Reading year 2017's data done\n",
      "Size of X = 991603, y = 991603\n",
      "X has 19 features\n",
      "Size of data with empty value = 8397\n",
      "\n"
     ]
    }
   ],
   "source": [
    "data2017 = ReadData(year=2017)\n",
    "# data2018 = ReadData(year=2018)\n",
    "X, y = data2017.read()\n",
    "# X_train, y_train = data2017.read()\n",
    "# X_test, y_test = data2018.read()"
   ]
  },
  {
   "cell_type": "code",
   "execution_count": 5,
   "metadata": {
    "ExecuteTime": {
     "end_time": "2021-03-29T19:24:11.412613Z",
     "start_time": "2021-03-29T19:24:11.406372Z"
    }
   },
   "outputs": [
    {
     "data": {
      "text/plain": [
       "{'요단백': 4592,\n",
       " 'LDL콜레스테롤': 2912,\n",
       " '음주여부': 536,\n",
       " '허리둘레': 266,\n",
       " '흡연상태': 144,\n",
       " '총콜레스테롤': 43,\n",
       " '트리글리세라이드': 45,\n",
       " 'HDL콜레스테롤': 44,\n",
       " '혈색소': 52,\n",
       " '혈청크레아티닌': 43,\n",
       " '(혈청지오티)AST': 41,\n",
       " '(혈청지오티)ALT': 42,\n",
       " '감마지티피': 42,\n",
       " '수축기혈압': 19,\n",
       " '이완기혈압': 18}"
      ]
     },
     "execution_count": 5,
     "metadata": {},
     "output_type": "execute_result"
    }
   ],
   "source": [
    "dict(data2017.no_data_count)"
   ]
  },
  {
   "cell_type": "code",
   "execution_count": 6,
   "metadata": {
    "ExecuteTime": {
     "end_time": "2021-03-29T19:24:31.492612Z",
     "start_time": "2021-03-29T19:24:11.414878Z"
    },
    "scrolled": true
   },
   "outputs": [
    {
     "data": {
      "text/plain": [
       "{'총콜레스테롤': 667244,\n",
       " '트리글리세라이드': 667252,\n",
       " 'HDL콜레스테롤': 667254,\n",
       " 'LDL콜레스테롤': 674122,\n",
       " '음주여부': 354943,\n",
       " '요단백': 10570,\n",
       " '수축기혈압': 5730,\n",
       " '이완기혈압': 5730,\n",
       " '혈색소': 5914,\n",
       " '혈청크레아티닌': 5906,\n",
       " '(혈청지오티)AST': 5906,\n",
       " '(혈청지오티)ALT': 5906,\n",
       " '감마지티피': 5909,\n",
       " '허리둘레': 414,\n",
       " '흡연상태': 234}"
      ]
     },
     "execution_count": 6,
     "metadata": {},
     "output_type": "execute_result"
    }
   ],
   "source": [
    "data2018 = ReadData(year=2018)\n",
    "data2018.read()\n",
    "clear_output()\n",
    "dict(data2018.no_data_count)"
   ]
  },
  {
   "cell_type": "markdown",
   "metadata": {},
   "source": [
    "# Split Training, Test Set\n",
    "(If required)"
   ]
  },
  {
   "cell_type": "code",
   "execution_count": 7,
   "metadata": {
    "ExecuteTime": {
     "end_time": "2021-03-29T19:24:31.503714Z",
     "start_time": "2021-03-29T19:24:31.498888Z"
    }
   },
   "outputs": [],
   "source": [
    "def split_set(X, y):\n",
    "    return train_test_split(X, y, test_size=0.2, random_state=42, stratify=y)\n",
    "    # X_train, X_test, y_train, y_test"
   ]
  },
  {
   "cell_type": "markdown",
   "metadata": {},
   "source": [
    "# Reset Labels with new FBS Pivot"
   ]
  },
  {
   "cell_type": "code",
   "execution_count": 8,
   "metadata": {
    "ExecuteTime": {
     "end_time": "2021-03-29T19:24:31.512348Z",
     "start_time": "2021-03-29T19:24:31.508543Z"
    }
   },
   "outputs": [],
   "source": [
    "def reset_fbs(fbs:int, year):\n",
    "    read_new = ReadData(year=year)\n",
    "    X, y = read_new.read(FBS_PIVOT=fbs)\n",
    "    return [X,y]"
   ]
  },
  {
   "cell_type": "markdown",
   "metadata": {},
   "source": [
    "# Logistic Regression"
   ]
  },
  {
   "cell_type": "code",
   "execution_count": 9,
   "metadata": {
    "ExecuteTime": {
     "end_time": "2021-03-29T19:24:31.531505Z",
     "start_time": "2021-03-29T19:24:31.515082Z"
    }
   },
   "outputs": [],
   "source": [
    "class DiabetesModeling():\n",
    "    def __init__(self, X=None, y=None):\n",
    "        self.X = X\n",
    "        self.y = y\n",
    "        self.X_train = None\n",
    "        self.y_train = None\n",
    "        self.X_test = None\n",
    "        self.y_test = None\n",
    "        self.clf = None\n",
    "        self.training_size = None\n",
    "        self.testing_size = None\n",
    "        self.CROSSVAL=False\n",
    "        self.SPLIT_DATA = True\n",
    "        self.RESET_FBS = False\n",
    "    def LR(self):\n",
    "        X, y = self.X, self.y\n",
    "        if self.RESET_FBS:\n",
    "            FBS = 120\n",
    "            year = 2017\n",
    "            X, y = reset_fbs(fbs=FBS, year=year)\n",
    "        if self.SPLIT_DATA:\n",
    "            X_train, X_test, y_train, y_test = split_set(X, y)\n",
    "            self.X_train, self.X_test, self.y_train, self.y_test = [\n",
    "                X_train, X_test, y_train, y_test]\n",
    "        if X_train.shape[1] != X_test.shape[1]:\n",
    "            raise Exception('Training Set과 Test Set의 Feature가 다릅니다.')\n",
    "\n",
    "        self.training_size = len(X_train)\n",
    "        self.testing_size = len(X_test)\n",
    "        self.clf = LogisticRegression(C=1, multi_class='multinomial',\n",
    "                                 penalty='l2', solver='saga', tol=0.1)\n",
    "        if self.CROSSVAL:\n",
    "            self.clf = LogisticRegressionCV(C=1, multi_class='multinomial', cv=5,\n",
    "                                 penalty='l2', solver='saga', tol=0.1)\n",
    "\n",
    "        self.clf.fit(X_train, y_train)\n",
    "        clear_output()\n",
    "        y_predict = self.clf.predict(X_test)\n",
    "        \n",
    "    def show_result(self):\n",
    "        clf = self.clf\n",
    "        print('Training size : %d Testing Size : %d' %(self.training_size, self.testing_size))\n",
    "        counts = np.unique(self.y, return_counts = True)[1]\n",
    "        print(f'당뇨병 판별 환자 수 : {counts[1]}, 비당뇨병 판별수 : {counts[0]}\\n')\n",
    "        print(f'Accuracy score: {accuracy_score(self.y_test, clf.predict(self.X_test))}\\n')\n",
    "\n",
    "        y_predict = clf.predict(self.X_test)\n",
    "        print(classification_report(self.y_test, y_predict, target_names=['건강','당뇨']))\n",
    "        cm = confusion_matrix(self.y_test, y_predict)\n",
    "        print('Confusion Matrix\\n', cm)"
   ]
  },
  {
   "cell_type": "code",
   "execution_count": 10,
   "metadata": {
    "ExecuteTime": {
     "end_time": "2021-03-29T19:24:36.420296Z",
     "start_time": "2021-03-29T19:24:31.534646Z"
    }
   },
   "outputs": [],
   "source": [
    "model2017 = DiabetesModeling(X,y)\n",
    "model2017.LR()"
   ]
  },
  {
   "cell_type": "code",
   "execution_count": 11,
   "metadata": {
    "ExecuteTime": {
     "end_time": "2021-03-29T19:24:36.934518Z",
     "start_time": "2021-03-29T19:24:36.423823Z"
    }
   },
   "outputs": [
    {
     "name": "stdout",
     "output_type": "stream",
     "text": [
      "Training size : 793282 Testing Size : 198321\n",
      "당뇨병 판별 환자 수 : 100999, 비당뇨병 판별수 : 890604\n",
      "\n",
      "Accuracy score: 0.8971011642740809\n",
      "\n",
      "              precision    recall  f1-score   support\n",
      "\n",
      "          건강       0.90      1.00      0.95    178121\n",
      "          당뇨       0.38      0.02      0.03     20200\n",
      "\n",
      "    accuracy                           0.90    198321\n",
      "   macro avg       0.64      0.51      0.49    198321\n",
      "weighted avg       0.85      0.90      0.85    198321\n",
      "\n",
      "Confusion Matrix\n",
      " [[177588    533]\n",
      " [ 19874    326]]\n"
     ]
    }
   ],
   "source": [
    "model2017.show_result()"
   ]
  },
  {
   "cell_type": "markdown",
   "metadata": {},
   "source": [
    "# Grid Search"
   ]
  },
  {
   "cell_type": "code",
   "execution_count": 14,
   "metadata": {
    "ExecuteTime": {
     "end_time": "2021-03-29T19:25:22.795385Z",
     "start_time": "2021-03-29T19:25:22.790923Z"
    }
   },
   "outputs": [],
   "source": [
    "def grid_search(X=None, y=None, model=LogisticRegression, default_parameters=None,\n",
    "                grid_parameters=None, cross_validation:int=5):\n",
    "    clf = model(**default_parameters)\n",
    "    estimator = GridSearchCV(clf, grid_parameters, cv=cross_validation, n_jobs=-1)\n",
    "    estimator.fit(X,y)\n",
    "    return estimator"
   ]
  },
  {
   "cell_type": "code",
   "execution_count": null,
   "metadata": {
    "ExecuteTime": {
     "end_time": "2021-03-29T19:24:37.880464Z",
     "start_time": "2021-03-29T19:24:36.944791Z"
    },
    "scrolled": false
   },
   "outputs": [],
   "source": [
    "X_train, X_test, y_train, y_test = split_set(X,y)\n",
    "grid_parameters = {\n",
    "#     'penalty': ['l1', 'l2'],\n",
    "    'C': [1e-1, 1, 1000],\n",
    "#     'batch_size':[1, 10, 60, 100, 600]\n",
    "#     'epochs':[5, 10, 25, 50, 200]\n",
    "#     'C': [1e-4, 1e-4, 1e-3, 1e-2, 1e-1, 1, 1000], # 1000 means no regularization\n",
    "    'solver': ['saga']\n",
    "}\n",
    "clf = grid_search(X=X_train, y=y_train, model=LogisticRegression,\n",
    "                  default_parameters=dict(solver='lbfgs'),\n",
    "                  grid_parameters=grid_parameters)\n",
    "best_parameters = clf.best_params_\n",
    "best_estimator = clf.best_estimator_\n",
    "\n",
    "# get best accuracy on training set\n",
    "print('Accuracy on training set')\n",
    "print(clf.best_score_)\n",
    "\n",
    "# compute accuracy on test set using best logistic regression\n",
    "print('Accuracy on test set')\n",
    "print(best_estimator.score(X_test, y_test))\n",
    "\n",
    "print(f'Best Parameters : {best_parameters}')"
   ]
  }
 ],
 "metadata": {
  "kernelspec": {
   "display_name": "Python 3",
   "language": "python",
   "name": "python3"
  },
  "language_info": {
   "codemirror_mode": {
    "name": "ipython",
    "version": 3
   },
   "file_extension": ".py",
   "mimetype": "text/x-python",
   "name": "python",
   "nbconvert_exporter": "python",
   "pygments_lexer": "ipython3",
   "version": "3.7.2"
  },
  "varInspector": {
   "cols": {
    "lenName": 16,
    "lenType": 16,
    "lenVar": 40
   },
   "kernels_config": {
    "python": {
     "delete_cmd_postfix": "",
     "delete_cmd_prefix": "del ",
     "library": "var_list.py",
     "varRefreshCmd": "print(var_dic_list())"
    },
    "r": {
     "delete_cmd_postfix": ") ",
     "delete_cmd_prefix": "rm(",
     "library": "var_list.r",
     "varRefreshCmd": "cat(var_dic_list()) "
    }
   },
   "types_to_exclude": [
    "module",
    "function",
    "builtin_function_or_method",
    "instance",
    "_Feature"
   ],
   "window_display": false
  }
 },
 "nbformat": 4,
 "nbformat_minor": 2
}

{
 "cells": [
  {
   "cell_type": "code",
   "execution_count": 64,
   "metadata": {
    "ExecuteTime": {
     "end_time": "2021-03-28T15:50:23.395442Z",
     "start_time": "2021-03-28T15:50:23.389511Z"
    }
   },
   "outputs": [],
   "source": [
    "import os\n",
    "import csv\n",
    "import struct\n",
    "import chardet\n",
    "import numpy as np\n",
    "from typing import *\n",
    "from time import time\n",
    "from numpy import random as rnd\n",
    "import matplotlib.pyplot as plt\n",
    "import matplotlib.pyplot as pyplot\n",
    "from sklearn.utils import shuffle\n",
    "from sklearn.metrics import f1_score\n",
    "from sklearn.metrics import make_scorer\n",
    "from IPython.display import clear_output\n",
    "from sklearn.metrics import accuracy_score\n",
    "from sklearn.metrics import confusion_matrix\n",
    "from sklearn.preprocessing import StandardScaler\n",
    "from sklearn.model_selection import GridSearchCV\n",
    "from sklearn.metrics import classification_report\n",
    "from sklearn.linear_model import LogisticRegression\n",
    "from sklearn.model_selection import train_test_split"
   ]
  },
  {
   "cell_type": "code",
   "execution_count": 2,
   "metadata": {
    "ExecuteTime": {
     "end_time": "2021-03-27T18:03:35.451983Z",
     "start_time": "2021-03-27T18:03:35.325101Z"
    }
   },
   "outputs": [
    {
     "name": "stdout",
     "output_type": "stream",
     "text": [
      "Logistic Regression.ipynb \u001b[31mNHIS_OPEN_GJ_2017_100.csv\u001b[m\u001b[m \u001b[31mNHIS_OPEN_GJ_2018_100.csv\u001b[m\u001b[m\r\n"
     ]
    }
   ],
   "source": [
    "!ls"
   ]
  },
  {
   "cell_type": "markdown",
   "metadata": {},
   "source": [
    "# Data Reading"
   ]
  },
  {
   "cell_type": "code",
   "execution_count": 170,
   "metadata": {
    "ExecuteTime": {
     "end_time": "2021-03-28T21:06:30.955891Z",
     "start_time": "2021-03-28T21:06:30.934958Z"
    }
   },
   "outputs": [],
   "source": [
    "import csv\n",
    "import chardet\n",
    "import collections\n",
    "from typing import *\n",
    "class ReadData():\n",
    "    def __init__(self, year=2017):\n",
    "        self.year = year\n",
    "        self.infos = []\n",
    "        self.data = []\n",
    "        self.labels = []\n",
    "        self.no_data = []\n",
    "        self.data_infos = []\n",
    "        self.required_info_index = [2, 3, 5, 6, 7, 12, 13, 15, 16, 17, 18, \n",
    "                               19, 20, 21, 22, 23, 24, 25, 26]\n",
    "        self.no_data_count = collections.defaultdict(int)\n",
    "        \n",
    "    def read(self, no_npz = True, DATASIZE=None, FBS_PIVOT=120):\n",
    "        year = self.year\n",
    "        print(f'Reading year {self.year}')\n",
    "        if not DATASIZE:\n",
    "            DATASIZE = float('inf')\n",
    "        if year == 2017:\n",
    "            FILENAME = 'NHIS_OPEN_GJ_2017_100.csv'\n",
    "        elif year == 2018:\n",
    "            FILENAME = 'NHIS_OPEN_GJ_2018_100.csv'\n",
    "        else:\n",
    "            raise Exception('year should be 2017 or 2018. default=2017')\n",
    "            \n",
    "        with open(FILENAME, 'rb') as f:\n",
    "            ENCODING = chardet.detect(f.readline())['encoding']\n",
    "            \n",
    "        f = open(FILENAME, 'r', encoding=ENCODING)\n",
    "        rdr = csv.reader(f)\n",
    "        \n",
    "        required_info_index = self.required_info_index\n",
    "\n",
    "        for n, col in enumerate(rdr):\n",
    "            required_data = [info for index, info in enumerate(col) if index in required_info_index]\n",
    "            if n == 0:\n",
    "                self.infos.append(col)\n",
    "                self.infos = self.infos[0]\n",
    "                self.data_infos.append(required_data)\n",
    "                self.data_infos = self.data_infos[0]\n",
    "                FBS_INDEX = self.infos.index('식전혈당(공복혈당)')\n",
    "            else:\n",
    "                FBS = col[FBS_INDEX]\n",
    "                if '' in required_data or FBS == '':\n",
    "#                     print(required_data)\n",
    "                    l = [self.data_infos[i] for i, d in enumerate(required_data) if d == '']\n",
    "                    for s in l: self.no_data_count[s] += 1\n",
    "                    self.no_data.append(n)\n",
    "                else:\n",
    "                    self.data.append(required_data)\n",
    "                    self.labels.append(1) if int(FBS) >= FBS_PIVOT else self.labels.append(0)\n",
    "                    \n",
    "            if n >= DATASIZE:\n",
    "                break\n",
    "\n",
    "        f.close()\n",
    "        \n",
    "        X_train = np.array(self.data)\n",
    "        y_train = np.array(self.labels)\n",
    "        \n",
    "        print(f\"Reading year {year}'s data done\")\n",
    "        print(f'Size of X_train = {len(X_train)}, y_train = {len(y_train)}')\n",
    "        print(f'Size of data with empty value = {len(self.no_data)}\\n')\n",
    "        return [X_train, y_train]"
   ]
  },
  {
   "cell_type": "code",
   "execution_count": 171,
   "metadata": {
    "ExecuteTime": {
     "end_time": "2021-03-28T21:07:12.312378Z",
     "start_time": "2021-03-28T21:06:33.251280Z"
    }
   },
   "outputs": [
    {
     "name": "stdout",
     "output_type": "stream",
     "text": [
      "Reading year 2017\n",
      "Reading year 2017's data done\n",
      "Size of X_train = 991603, y_train = 991603\n",
      "Size of data with empty value = 8397\n",
      "\n",
      "Reading year 2018\n",
      "Reading year 2018's data done\n",
      "Size of X_train = 195525, y_train = 195525\n",
      "Size of data with empty value = 804475\n",
      "\n"
     ]
    }
   ],
   "source": [
    "data2017 = ReadData(year=2017)\n",
    "data2018 = ReadData(year=2018)\n",
    "X_train, y_train = data2017.read()\n",
    "X_test, y_test = data2018.read()"
   ]
  },
  {
   "cell_type": "code",
   "execution_count": 172,
   "metadata": {
    "ExecuteTime": {
     "end_time": "2021-03-28T21:07:16.665463Z",
     "start_time": "2021-03-28T21:07:16.655944Z"
    }
   },
   "outputs": [
    {
     "data": {
      "text/plain": [
       "{'요단백': 4592,\n",
       " 'LDL콜레스테롤': 2912,\n",
       " '음주여부': 536,\n",
       " '허리둘레': 266,\n",
       " '흡연상태': 144,\n",
       " '총콜레스테롤': 43,\n",
       " '트리글리세라이드': 45,\n",
       " 'HDL콜레스테롤': 44,\n",
       " '혈색소': 52,\n",
       " '혈청크레아티닌': 43,\n",
       " '(혈청지오티)AST': 41,\n",
       " '(혈청지오티)ALT': 42,\n",
       " '감마지티피': 42,\n",
       " '수축기혈압': 19,\n",
       " '이완기혈압': 18}"
      ]
     },
     "execution_count": 172,
     "metadata": {},
     "output_type": "execute_result"
    }
   ],
   "source": [
    "dict(data2017.no_data_count)"
   ]
  },
  {
   "cell_type": "code",
   "execution_count": 173,
   "metadata": {
    "ExecuteTime": {
     "end_time": "2021-03-28T21:07:18.643927Z",
     "start_time": "2021-03-28T21:07:18.638109Z"
    }
   },
   "outputs": [
    {
     "data": {
      "text/plain": [
       "{'총콜레스테롤': 667244,\n",
       " '트리글리세라이드': 667252,\n",
       " 'HDL콜레스테롤': 667254,\n",
       " 'LDL콜레스테롤': 674122,\n",
       " '음주여부': 354943,\n",
       " '요단백': 10570,\n",
       " '수축기혈압': 5730,\n",
       " '이완기혈압': 5730,\n",
       " '혈색소': 5914,\n",
       " '혈청크레아티닌': 5906,\n",
       " '(혈청지오티)AST': 5906,\n",
       " '(혈청지오티)ALT': 5906,\n",
       " '감마지티피': 5909,\n",
       " '허리둘레': 414,\n",
       " '흡연상태': 234}"
      ]
     },
     "execution_count": 173,
     "metadata": {},
     "output_type": "execute_result"
    }
   ],
   "source": [
    "dict(data2018.no_data_count)"
   ]
  }
 ],
 "metadata": {
  "kernelspec": {
   "display_name": "Python 3",
   "language": "python",
   "name": "python3"
  },
  "language_info": {
   "codemirror_mode": {
    "name": "ipython",
    "version": 3
   },
   "file_extension": ".py",
   "mimetype": "text/x-python",
   "name": "python",
   "nbconvert_exporter": "python",
   "pygments_lexer": "ipython3",
   "version": "3.7.2"
  },
  "varInspector": {
   "cols": {
    "lenName": 16,
    "lenType": 16,
    "lenVar": 40
   },
   "kernels_config": {
    "python": {
     "delete_cmd_postfix": "",
     "delete_cmd_prefix": "del ",
     "library": "var_list.py",
     "varRefreshCmd": "print(var_dic_list())"
    },
    "r": {
     "delete_cmd_postfix": ") ",
     "delete_cmd_prefix": "rm(",
     "library": "var_list.r",
     "varRefreshCmd": "cat(var_dic_list()) "
    }
   },
   "types_to_exclude": [
    "module",
    "function",
    "builtin_function_or_method",
    "instance",
    "_Feature"
   ],
   "window_display": false
  }
 },
 "nbformat": 4,
 "nbformat_minor": 2
}

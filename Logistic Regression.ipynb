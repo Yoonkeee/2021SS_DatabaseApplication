{
 "cells": [
  {
   "cell_type": "code",
   "execution_count": 4,
   "metadata": {
    "ExecuteTime": {
     "end_time": "2021-03-27T18:04:13.539901Z",
     "start_time": "2021-03-27T18:04:13.534685Z"
    }
   },
   "outputs": [],
   "source": [
    "import os\n",
    "import csv\n",
    "import struct\n",
    "import numpy as np\n",
    "from time import time\n",
    "from numpy import random as rnd\n",
    "import matplotlib.pyplot as plt\n",
    "import matplotlib.pyplot as pyplot\n",
    "from sklearn.utils import shuffle\n",
    "from sklearn.metrics import f1_score\n",
    "from sklearn.metrics import make_scorer\n",
    "from IPython.display import clear_output\n",
    "from sklearn.metrics import accuracy_score\n",
    "from sklearn.metrics import confusion_matrix\n",
    "from sklearn.preprocessing import StandardScaler\n",
    "from sklearn.model_selection import GridSearchCV\n",
    "from sklearn.metrics import classification_report\n",
    "from sklearn.linear_model import LogisticRegression\n",
    "from sklearn.model_selection import train_test_split"
   ]
  },
  {
   "cell_type": "code",
   "execution_count": 2,
   "metadata": {
    "ExecuteTime": {
     "end_time": "2021-03-27T18:03:35.451983Z",
     "start_time": "2021-03-27T18:03:35.325101Z"
    }
   },
   "outputs": [
    {
     "name": "stdout",
     "output_type": "stream",
     "text": [
      "Logistic Regression.ipynb \u001b[31mNHIS_OPEN_GJ_2017_100.csv\u001b[m\u001b[m \u001b[31mNHIS_OPEN_GJ_2018_100.csv\u001b[m\u001b[m\r\n"
     ]
    }
   ],
   "source": [
    "!ls"
   ]
  },
  {
   "cell_type": "code",
   "execution_count": null,
   "metadata": {},
   "outputs": [],
   "source": [
    "\"\"\"\n",
    "Loosely inspired by http://abel.ee.ucla.edu/cvxopt/_downloads/mnist.py\n",
    "which is GPL licensed.\n",
    "\"\"\"\n",
    "def read(dataset = \"training\", path = \"./\", year = None):\n",
    "    \n",
    "    year_of_dataset = 'NHIS_OPEN_GJ_2017_100.csv' if year == 2017 else 'NHIS_OPEN_GJ_2018_100.csv'\n",
    "\n",
    "    if dataset is \"training\":\n",
    "        fname_img = os.path.join(path, year_of_datset)\n",
    "#         fname_lbl = os.path.join(path, 'train-labels.idx1-ubyte')\n",
    "        print('read() training!!')\n",
    "    elif dataset is \"testing\":\n",
    "        fname_img = os.path.join(path, 't10k-images.idx3-ubyte')\n",
    "        fname_lbl = os.path.join(path, 't10k-labels.idx1-ubyte')\n",
    "        print('read() testing!!')\n",
    "    else:\n",
    "        raise Exception(\"dataset must be 'testing' or 'training'\")\n",
    "\n",
    "    # Load everything in some numpy arrays\n",
    "    with open(fname_lbl, 'rb') as flbl:\n",
    "        magic, num = struct.unpack(\">II\", flbl.read(8))\n",
    "        lbl = np.fromfile(flbl, dtype=np.int8)\n",
    "\n",
    "    with open(fname_img, 'rb') as fimg:\n",
    "        magic, num, rows, cols = struct.unpack(\">IIII\", fimg.read(16))\n",
    "        img = np.fromfile(fimg, dtype=np.uint8).reshape(len(lbl), rows, cols)\n",
    "\n",
    "    get_img = lambda idx: (lbl[idx], img[idx])\n",
    "\n",
    "    # Create an iterator which returns each image in turn\n",
    "    for i in range(len(lbl)):\n",
    "        yield get_img(i)\n",
    "\n",
    "read()\n",
    "# pyplot.show()"
   ]
  },
  {
   "cell_type": "code",
   "execution_count": 56,
   "metadata": {
    "ExecuteTime": {
     "end_time": "2021-03-27T19:23:57.924175Z",
     "start_time": "2021-03-27T19:23:57.913726Z"
    }
   },
   "outputs": [],
   "source": [
    "import csv\n",
    "from typing import *\n",
    "def read(year:int = 2017, no_npz = True):\n",
    "    f = open('NHIS_OPEN_GJ_2017_100.csv', 'r', encoding='CP949')\n",
    "    rdr = csv.reader(f)\n",
    "    infos = ['기준년도', '가입자일련번호', '성별코드', \n",
    "     '연령대코드(5세단위)', '시도코드', '신장(5Cm단위)', \n",
    "     '체중(5Kg단위)', '허리둘레', '시력(좌)', '시력(우)', \n",
    "     '청력(좌)', '청력(우)', '수축기혈압', '이완기혈압', \n",
    "     '식전혈당(공복혈당)', '총콜레스테롤', '트리글리세라이드', \n",
    "     'HDL콜레스테롤', 'LDL콜레스테롤', '혈색소', '요단백', \n",
    "     '혈청크레아티닌', '(혈청지오티)AST', '(혈청지오티)ALT', \n",
    "     '감마지티피', '흡연상태', '음주여부', '구강검진수검여부', \n",
    "     '치아우식증유무', '결손치유무', '치아마모증유무', \n",
    "     '제3대구치(사랑니)이상', '치석', '데이터공개일자']\n",
    "    data = []\n",
    "    labels = []\n",
    "    # 공복혈당 = 14\n",
    "    FBS_INDEX = 14\n",
    "    DATASIZE = 1000\n",
    "    required_info_index = [2, 3, 5, 6, 7, 12, 13, 15, 16, 17, 18, 19, 20, 21, 22, 23, 24, 25, 26]\n",
    "    data_infos = []\n",
    "\n",
    "    for n, col in enumerate(rdr):\n",
    "        if n == 0:\n",
    "            data_infos.append([info for index, info in enumerate(col) if index in required_info_index])\n",
    "        else:\n",
    "            data.append([info for index, info in enumerate(col) if index in required_info_index])\n",
    "            labels.append(1) if int(col[FBS_INDEX]) >= 120 else labels.append(0)\n",
    "        if n >= DATASIZE:\n",
    "            break\n",
    "\n",
    "    # print(data_infos)\n",
    "    # for d in data: print(d)\n",
    "    # for l in labels: print(l)\n",
    "    # print(data)\n",
    "    f.close()\n",
    "    X_train = np.array(data)\n",
    "    y_train = np.array(labels)\n",
    "    print(len(X_train), len(y_train))\n"
   ]
  },
  {
   "cell_type": "code",
   "execution_count": 57,
   "metadata": {
    "ExecuteTime": {
     "end_time": "2021-03-27T19:23:59.533382Z",
     "start_time": "2021-03-27T19:23:59.509496Z"
    }
   },
   "outputs": [
    {
     "name": "stdout",
     "output_type": "stream",
     "text": [
      "1000 1000\n"
     ]
    }
   ],
   "source": [
    "read()"
   ]
  },
  {
   "cell_type": "code",
   "execution_count": 46,
   "metadata": {
    "ExecuteTime": {
     "end_time": "2021-03-27T19:14:31.174155Z",
     "start_time": "2021-03-27T19:14:31.164538Z"
    }
   },
   "outputs": [
    {
     "name": "stdout",
     "output_type": "stream",
     "text": [
      "[['15', '7', '160'], ['16', '9', '170'], ['17', '6', '160']]\n",
      "[['2017' '15' '2' '7' '41' '160' '50' '76' '0.9' '1' '1' '1' '129' '77'\n",
      "  '79' '205' '219' '53' '108' '14.5' '1' '0.6' '21' '24' '58' '1' '0' '0'\n",
      "  '' '' '' '' '' '20181126']\n",
      " ['2017' '16' '1' '9' '47' '170' '65' '80' '1' '1' '1' '1' '113' '72'\n",
      "  '104' '113' '35' '44' '62' '16' '2' '0.9' '15' '10' '12' '1' '0' '0' ''\n",
      "  '' '' '' '' '20181126']\n",
      " ['2017' '17' '2' '6' '42' '160' '65' '73' '1.2' '0.9' '1' '1' '126' '78'\n",
      "  '96' '148' '60' '54' '82' '12.3' '1' '0.5' '12' '7' '9' '1' '1' '0' ''\n",
      "  '' '' '' '' '20181126']]\n"
     ]
    }
   ],
   "source": [
    "a = [1,3,5]\n",
    "b = [['2017', '15', '2', '7', '41', '160', '50', '76', '0.9', '1', '1', '1', '129', '77', '79', '205', '219', '53', '108', '14.5', '1', '0.6', '21', '24', '58', \n",
    "      '1', '0', '0', '', '', '', '', '', '20181126'],\n",
    "     ['2017', '16', '1', '9', '47', '170', '65', '80', '1', '1', '1', '1', '113', '72', '104', '113', '35', '44', '62', '16', '2', '0.9', '15', '10', '12', '1',\n",
    "      '0', '0', '', '', '', '', '', '20181126'],\n",
    "     ['2017', '17', '2', '6', '42', '160', '65', '73', '1.2', '0.9', '1', '1', '126', '78', '96', '148', '60', '54', '82', '12.3', '1', '0.5', '12', '7', '9', \n",
    "      '1', '1', '0', '', '', '', '', '', '20181126']]\n",
    "c = []\n",
    "for x in b:\n",
    "    c.append([y for i, y in enumerate(x) if i in a])\n",
    "print(c)\n",
    "X_train = np.array(b)\n",
    "print(X_train)"
   ]
  },
  {
   "cell_type": "code",
   "execution_count": 5,
   "metadata": {
    "ExecuteTime": {
     "end_time": "2021-03-27T18:04:17.431375Z",
     "start_time": "2021-03-27T18:04:17.422710Z"
    }
   },
   "outputs": [
    {
     "ename": "NameError",
     "evalue": "name 'read' is not defined",
     "output_type": "error",
     "traceback": [
      "\u001b[0;31m---------------------------------------------------------------------------\u001b[0m",
      "\u001b[0;31mNameError\u001b[0m                                 Traceback (most recent call last)",
      "\u001b[0;32m<ipython-input-5-dcc2ec3b12d5>\u001b[0m in \u001b[0;36m<module>\u001b[0;34m\u001b[0m\n\u001b[1;32m      3\u001b[0m \u001b[0;31m#tr = list(read(\"training\", \"/content/gdrive/My Drive/\"))\u001b[0m\u001b[0;34m\u001b[0m\u001b[0;34m\u001b[0m\u001b[0;34m\u001b[0m\u001b[0m\n\u001b[1;32m      4\u001b[0m \u001b[0;31m#ts = list(read(\"testing\",\"/content/gdrive/My Drive/\"))\u001b[0m\u001b[0;34m\u001b[0m\u001b[0;34m\u001b[0m\u001b[0;34m\u001b[0m\u001b[0m\n\u001b[0;32m----> 5\u001b[0;31m \u001b[0mdata_2017\u001b[0m \u001b[0;34m=\u001b[0m \u001b[0mlist\u001b[0m\u001b[0;34m(\u001b[0m\u001b[0mread\u001b[0m\u001b[0;34m(\u001b[0m\u001b[0;34m\"training\"\u001b[0m\u001b[0;34m,\u001b[0m \u001b[0;34m\"./NHIS_OPEN_GJ_2017_100.csv\"\u001b[0m\u001b[0;34m)\u001b[0m\u001b[0;34m)\u001b[0m\u001b[0;34m\u001b[0m\u001b[0;34m\u001b[0m\u001b[0m\n\u001b[0m\u001b[1;32m      6\u001b[0m \u001b[0mprint\u001b[0m\u001b[0;34m(\u001b[0m\u001b[0mlen\u001b[0m\u001b[0;34m(\u001b[0m\u001b[0mdata_2017\u001b[0m\u001b[0;34m)\u001b[0m\u001b[0;34m)\u001b[0m\u001b[0;34m\u001b[0m\u001b[0;34m\u001b[0m\u001b[0m\n\u001b[1;32m      7\u001b[0m \u001b[0;34m\u001b[0m\u001b[0m\n",
      "\u001b[0;31mNameError\u001b[0m: name 'read' is not defined"
     ]
    }
   ],
   "source": [
    "# read dataset fron file.\n",
    "\n",
    "#tr = list(read(\"training\", \"/content/gdrive/My Drive/\"))\n",
    "#ts = list(read(\"testing\",\"/content/gdrive/My Drive/\"))\n",
    "data_2017 = list(read(\"training\", \"./NHIS_OPEN_GJ_2017_100.csv\"))\n",
    "print(len(data_2017))\n",
    "\n",
    "# LIMIT = 5000\n",
    "# X_train = np.array(list(zip(*tr))[1][:LIMIT])\n",
    "# y_train = np.array(list(zip(*tr))[0][:LIMIT])\n",
    "\n",
    "# X_test = np.array(list(zip(*ts))[1][:LIMIT])\n",
    "# y_test = np.array(list(zip(*ts))[0][:LIMIT])\n",
    "\n",
    "#print(X_train.shape)\n",
    "#print(y_train.shape)\n",
    "#print(X_test.shape)\n",
    "#print(y_test.shape)"
   ]
  }
 ],
 "metadata": {
  "kernelspec": {
   "display_name": "Python 3",
   "language": "python",
   "name": "python3"
  },
  "language_info": {
   "codemirror_mode": {
    "name": "ipython",
    "version": 3
   },
   "file_extension": ".py",
   "mimetype": "text/x-python",
   "name": "python",
   "nbconvert_exporter": "python",
   "pygments_lexer": "ipython3",
   "version": "3.7.2"
  },
  "varInspector": {
   "cols": {
    "lenName": 16,
    "lenType": 16,
    "lenVar": 40
   },
   "kernels_config": {
    "python": {
     "delete_cmd_postfix": "",
     "delete_cmd_prefix": "del ",
     "library": "var_list.py",
     "varRefreshCmd": "print(var_dic_list())"
    },
    "r": {
     "delete_cmd_postfix": ") ",
     "delete_cmd_prefix": "rm(",
     "library": "var_list.r",
     "varRefreshCmd": "cat(var_dic_list()) "
    }
   },
   "types_to_exclude": [
    "module",
    "function",
    "builtin_function_or_method",
    "instance",
    "_Feature"
   ],
   "window_display": false
  }
 },
 "nbformat": 4,
 "nbformat_minor": 2
}

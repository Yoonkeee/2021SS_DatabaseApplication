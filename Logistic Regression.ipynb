{
 "cells": [
  {
   "cell_type": "code",
   "execution_count": 13,
   "metadata": {
    "ExecuteTime": {
     "end_time": "2021-04-01T16:09:37.525383Z",
     "start_time": "2021-04-01T16:09:37.516952Z"
    }
   },
   "outputs": [],
   "source": [
    "import os\n",
    "import csv\n",
    "import struct\n",
    "import chardet\n",
    "import numpy as np\n",
    "import collections\n",
    "from typing import *\n",
    "from time import time\n",
    "import seaborn as sns\n",
    "from sklearn.svm import SVC\n",
    "from skimage.feature import hog\n",
    "from numpy import random as rnd\n",
    "import matplotlib.pyplot as plt\n",
    "import matplotlib.pyplot as pyplot\n",
    "from sklearn.utils import shuffle\n",
    "from sklearn.metrics import f1_score\n",
    "from sklearn.metrics import make_scorer\n",
    "from IPython.display import clear_output\n",
    "from sklearn.metrics import accuracy_score\n",
    "from sklearn.metrics import confusion_matrix\n",
    "from sklearn.preprocessing import StandardScaler\n",
    "from sklearn.model_selection import GridSearchCV\n",
    "from sklearn.metrics import classification_report\n",
    "from sklearn.linear_model import LogisticRegression\n",
    "from sklearn.model_selection import train_test_split\n",
    "from sklearn.linear_model import LogisticRegressionCV"
   ]
  },
  {
   "cell_type": "code",
   "execution_count": 14,
   "metadata": {
    "ExecuteTime": {
     "end_time": "2021-04-01T16:09:41.215623Z",
     "start_time": "2021-04-01T16:09:41.092120Z"
    }
   },
   "outputs": [
    {
     "name": "stdout",
     "output_type": "stream",
     "text": [
      "Logistic Regression.ipynb\n",
      "NHIS_OPEN_GJ_2017_100.csv\n",
      "NHIS_OPEN_GJ_2018_100.csv\n",
      "README.md\n"
     ]
    }
   ],
   "source": [
    "!ls"
   ]
  },
  {
   "cell_type": "markdown",
   "metadata": {},
   "source": [
    "# Data Reading"
   ]
  },
  {
   "cell_type": "code",
   "execution_count": 125,
   "metadata": {
    "ExecuteTime": {
     "end_time": "2021-04-02T16:22:04.122214Z",
     "start_time": "2021-04-02T16:22:04.101879Z"
    }
   },
   "outputs": [],
   "source": [
    "class ReadData():\n",
    "    def __init__(self, year=2017, required_info_index=None):\n",
    "        self.year = year\n",
    "        self.infos = []\n",
    "        self.data = []\n",
    "        self.labels = []\n",
    "        self.no_data = []\n",
    "        self.data_infos = []\n",
    "        self.required_info_index = required_info_index\n",
    "#         self.required_info_index = [2, 3, 5, 6, 7, 12, 13, 15, 16, 17, 18, \n",
    "#                                19, 20, 21, 22, 23, 24, 25, 26]\n",
    "        self.no_data_count = collections.defaultdict(int)\n",
    "        \n",
    "    def read(self, no_npz = True, DATASIZE=None, FBS_PIVOT=120, calculate_BMI=True):\n",
    "        year = self.year\n",
    "        print(f'Reading year {self.year}')\n",
    "        if not DATASIZE:\n",
    "            DATASIZE = float('inf')\n",
    "        if year == 2017:\n",
    "            FILENAME = 'NHIS_OPEN_GJ_2017_100.csv'\n",
    "        elif year == 2018:\n",
    "            FILENAME = 'NHIS_OPEN_GJ_2018_100.csv'\n",
    "        else:\n",
    "            raise Exception('year should be 2017 or 2018. default=2017')\n",
    "            \n",
    "        \n",
    "        with open(FILENAME, 'rb') as f:\n",
    "            ENCODING = chardet.detect(f.readline())['encoding']\n",
    "            \n",
    "        f = open(FILENAME, 'r', encoding=ENCODING)\n",
    "        rdr = csv.reader(f)\n",
    "        \n",
    "        required_info_index = self.required_info_index\n",
    "\n",
    "        for n, col in enumerate(rdr):\n",
    "            required_data = [info for index, info in enumerate(col) if index in required_info_index]\n",
    "            if n == 0:\n",
    "                self.infos.append(col)\n",
    "                self.infos = self.infos[0]\n",
    "                self.data_infos.append(required_data)\n",
    "                self.data_infos = self.data_infos[0]\n",
    "                FBS_INDEX = self.infos.index('식전혈당(공복혈당)')\n",
    "                \n",
    "                if calculate_BMI:\n",
    "                    HEIGHT_INDEX, WEIGHT_INDEX = self.data_infos.index('신장(5Cm단위)'), self.data_infos.index('체중(5Kg단위)')\n",
    "                    if WEIGHT_INDEX < HEIGHT_INDEX:\n",
    "                        raise Exception('selected_features에서 신장을 체중보다 먼저 오도록 설정해주세요.')\n",
    "                    self.data_infos.append('BMI')\n",
    "                    \n",
    "            else:\n",
    "                FBS = col[FBS_INDEX]\n",
    "                if '' in required_data or FBS == '':\n",
    "#                     print(required_data)\n",
    "                    l = [self.data_infos[i] for i, d in enumerate(required_data) if d == '']\n",
    "                    for s in l: self.no_data_count[s] += 1\n",
    "                    self.no_data.append(n)\n",
    "                else:\n",
    "                    if calculate_BMI:\n",
    "                        height, weight = int(required_data.pop(HEIGHT_INDEX)), int(required_data.pop(WEIGHT_INDEX-1))\n",
    "                        BMI = round(weight / (height * height / 10000), 2)\n",
    "                        required_data.append(BMI)\n",
    "                        \n",
    "                    self.data.append(required_data)\n",
    "                    self.labels.append(1) if int(FBS) >= FBS_PIVOT else self.labels.append(0)\n",
    "                    \n",
    "            if n >= DATASIZE:\n",
    "                break\n",
    "\n",
    "        f.close()\n",
    "        if calculate_BMI:\n",
    "            self.data_infos.pop(HEIGHT_INDEX)\n",
    "            self.data_infos.pop(WEIGHT_INDEX-1)\n",
    "        X = np.array(self.data)\n",
    "        X = X.astype(np.float64)\n",
    "        y = np.array(self.labels)\n",
    "        \n",
    "        print(f\"Reading year {year}'s data done\")\n",
    "        print(f'Size of X = {len(X)}, y = {len(y)}')\n",
    "        print(f'당뇨병 판별 공복혈당 기준 수치 : {FBS_PIVOT}')\n",
    "        counts = np.unique(y, return_counts = True)[1]\n",
    "        print(f'당뇨병 판별 환자 수 : {counts[1]}, 비당뇨병 판별수 : {counts[0]}\\n')\n",
    "        print(f'X has {X.shape[1]} features')\n",
    "        print(f'Size of data with empty value = {len(self.no_data)}')\n",
    "        print(f'Selected Features : {self.data_infos}\\n')\n",
    "        print(f'Sample Data : {X[0]}')\n",
    "        return [X, y]"
   ]
  },
  {
   "cell_type": "markdown",
   "metadata": {},
   "source": [
    "# Input Features"
   ]
  },
  {
   "cell_type": "code",
   "execution_count": 123,
   "metadata": {
    "ExecuteTime": {
     "end_time": "2021-04-02T16:21:26.804669Z",
     "start_time": "2021-04-02T16:21:26.791305Z"
    }
   },
   "outputs": [],
   "source": [
    "default_features = ['기준년도', '가입자일련번호', '성별코드', '연령대코드(5세단위)', '시도코드',\n",
    "                    '신장(5Cm단위)', '체중(5Kg단위)', '허리둘레', '시력(좌)', '시력(우)',\n",
    "                    '청력(좌)', '청력(우)', '수축기혈압', '이완기혈압', '식전혈당(공복혈당)',\n",
    "                    '총콜레스테롤', '트리글리세라이드', 'HDL콜레스테롤', 'LDL콜레스테롤', '혈색소', \n",
    "                    '요단백', '혈청크레아티닌', '(혈청지오티)AST', '(혈청지오티)ALT', '감마지티피',\n",
    "                    '흡연상태', '음주여부', '구강검진수검여부', '치아우식증유무', '결손치유무',\n",
    "                    '치아마모증유무', '제3대구치(사랑니)이상', '치석', '데이터공개일자']\n",
    "\n",
    "selected_features = ['연령대코드(5세단위)', '신장(5Cm단위)', '체중(5Kg단위)', '트리글리세라이드', \n",
    "                     '수축기혈압', '이완기혈압', 'LDL콜레스테롤']\n",
    "features_index = []\n",
    "\n",
    "for feature in selected_features:\n",
    "    if feature not in default_features:\n",
    "        raise Exception(f\"'{feature}'는 데이터에 없습니다.\")\n",
    "    features_index.append(default_features.index(feature))\n",
    "features_index.sort()"
   ]
  },
  {
   "cell_type": "markdown",
   "metadata": {},
   "source": [
    "# Read Data"
   ]
  },
  {
   "cell_type": "code",
   "execution_count": 127,
   "metadata": {
    "ExecuteTime": {
     "end_time": "2021-04-02T16:24:08.129644Z",
     "start_time": "2021-04-02T16:23:54.589838Z"
    }
   },
   "outputs": [
    {
     "name": "stdout",
     "output_type": "stream",
     "text": [
      "Reading year 2017\n",
      "Reading year 2017's data done\n",
      "Size of X = 997068, y = 997068\n",
      "당뇨병 판별 공복혈당 기준 수치 : 140\n",
      "당뇨병 판별 환자 수 : 46063, 비당뇨병 판별수 : 951005\n",
      "\n",
      "X has 6 features\n",
      "Size of data with empty value = 2932\n",
      "Selected Features are ['연령대코드(5세단위)', '수축기혈압', '이완기혈압', '트리글리세라이드', 'LDL콜레스테롤', 'BMI']\n",
      "\n",
      "Sample Data : [  8.   120.    80.    92.   126.    25.95]\n"
     ]
    }
   ],
   "source": [
    "# obj = ReadData(year=2017 or 2018, required_info_index = features_index)\n",
    "data2017 = ReadData(year=2017, required_info_index = features_index)\n",
    "# X, y = obj.read(calculate_BMI = 체중, 키를 BMI지수로 환산, FBS_PIVOT =  당노병 판단 기준 혈당)\n",
    "X, y = data2017.read(calculate_BMI=True, FBS_PIVOT=140)"
   ]
  },
  {
   "cell_type": "code",
   "execution_count": 128,
   "metadata": {
    "ExecuteTime": {
     "end_time": "2021-04-02T16:25:43.599213Z",
     "start_time": "2021-04-02T16:25:43.580365Z"
    }
   },
   "outputs": [
    {
     "data": {
      "text/plain": [
       "{'LDL콜레스테롤': 2912, '트리글리세라이드': 45, '수축기혈압': 19, '이완기혈압': 18}"
      ]
     },
     "execution_count": 128,
     "metadata": {},
     "output_type": "execute_result"
    }
   ],
   "source": [
    "dict(data2017.no_data_count)"
   ]
  },
  {
   "cell_type": "code",
   "execution_count": 6,
   "metadata": {
    "ExecuteTime": {
     "end_time": "2021-03-30T01:53:26.302948Z",
     "start_time": "2021-03-30T01:53:04.764937Z"
    },
    "scrolled": true
   },
   "outputs": [
    {
     "data": {
      "text/plain": [
       "{'총콜레스테롤': 667244,\n",
       " '트리글리세라이드': 667252,\n",
       " 'HDL콜레스테롤': 667254,\n",
       " 'LDL콜레스테롤': 674122,\n",
       " '음주여부': 354943,\n",
       " '요단백': 10570,\n",
       " '수축기혈압': 5730,\n",
       " '이완기혈압': 5730,\n",
       " '혈색소': 5914,\n",
       " '혈청크레아티닌': 5906,\n",
       " '(혈청지오티)AST': 5906,\n",
       " '(혈청지오티)ALT': 5906,\n",
       " '감마지티피': 5909,\n",
       " '허리둘레': 414,\n",
       " '흡연상태': 234}"
      ]
     },
     "execution_count": 6,
     "metadata": {},
     "output_type": "execute_result"
    }
   ],
   "source": [
    "# obj = ReadData(year=2017 or 2018, required_info_index = features_index)\n",
    "data2018 = ReadData(year=2018, required_info_index = features_index)\n",
    "# X, y = obj.read(calculate_BMI = 체중, 키를 BMI지수로 환산, FBS_PIVOT =  당노병 판단 기준 혈당)\n",
    "X, y = data2018.read(calculate_BMI=True, FBS_PIVOT=140)\n",
    "clear_output()\n",
    "dict(data2018.no_data_count)"
   ]
  },
  {
   "cell_type": "markdown",
   "metadata": {},
   "source": [
    "# Split Training, Test Set\n",
    "(If required)"
   ]
  },
  {
   "cell_type": "code",
   "execution_count": 43,
   "metadata": {
    "ExecuteTime": {
     "end_time": "2021-04-01T16:46:27.947964Z",
     "start_time": "2021-04-01T16:46:27.937053Z"
    }
   },
   "outputs": [],
   "source": [
    "def split_set(X, y):\n",
    "    # X_train, X_test, y_train, y_test\n",
    "    return train_test_split(X, y, test_size=0.2, random_state=42, stratify=y)"
   ]
  },
  {
   "cell_type": "markdown",
   "metadata": {},
   "source": [
    "# Reset Labels with new FBS Pivot"
   ]
  },
  {
   "cell_type": "code",
   "execution_count": 44,
   "metadata": {
    "ExecuteTime": {
     "end_time": "2021-04-01T16:46:29.116539Z",
     "start_time": "2021-04-01T16:46:29.099674Z"
    }
   },
   "outputs": [],
   "source": [
    "def reset_fbs(fbs:int, year):\n",
    "    read_new = ReadData(year=year)\n",
    "    X, y = read_new.read(FBS_PIVOT=fbs)\n",
    "    return [X,y]"
   ]
  },
  {
   "cell_type": "markdown",
   "metadata": {},
   "source": [
    "# Logistic Regression"
   ]
  },
  {
   "cell_type": "code",
   "execution_count": 67,
   "metadata": {
    "ExecuteTime": {
     "end_time": "2021-04-01T17:11:32.427946Z",
     "start_time": "2021-04-01T17:11:32.409595Z"
    }
   },
   "outputs": [],
   "source": [
    "class DiabetesModelingLR():\n",
    "    def __init__(self, X=None, y=None):\n",
    "        self.X = X\n",
    "        self.y = y\n",
    "        self.X_train = None\n",
    "        self.y_train = None\n",
    "        self.X_test = None\n",
    "        self.y_test = None\n",
    "        self.clf = None\n",
    "        self.training_size = None\n",
    "        self.testing_size = None\n",
    "        self.CROSSVAL=False\n",
    "        self.SPLIT_DATA = True\n",
    "        self.RESET_FBS = False\n",
    "    def LR(self):\n",
    "        X, y = self.X, self.y\n",
    "        if self.RESET_FBS:\n",
    "            FBS = 120\n",
    "            year = 2017\n",
    "            X, y = reset_fbs(fbs=FBS, year=year)\n",
    "        if self.SPLIT_DATA:\n",
    "            X_train, X_test, y_train, y_test = split_set(X, y)\n",
    "            self.X_train, self.X_test, self.y_train, self.y_test = [\n",
    "                X_train, X_test, y_train, y_test]\n",
    "        if X_train.shape[1] != X_test.shape[1]:\n",
    "            raise Exception('Training Set과 Test Set의 Feature가 다릅니다.')\n",
    "\n",
    "        self.training_size = len(X_train)\n",
    "        self.testing_size = len(X_test)\n",
    "        self.clf = LogisticRegression(C=1e-2, multi_class='ovr',\n",
    "                                 penalty='l2', solver='liblinear', tol=0.1)\n",
    "        if self.CROSSVAL:\n",
    "            self.clf = LogisticRegressionCV(C=1, multi_class='ovr', cv=5,\n",
    "                                 penalty='l2', solver='saga', tol=0.1)\n",
    "\n",
    "        self.clf.fit(X_train, y_train)\n",
    "        clear_output()\n",
    "        y_predict = self.clf.predict(X_test)\n",
    "        \n",
    "    def show_result(self):\n",
    "        clf = self.clf\n",
    "        print('Training size : %d Testing Size : %d' %(self.training_size, self.testing_size))\n",
    "        counts = np.unique(self.y, return_counts = True)[1]\n",
    "        print(f'당뇨병 판별 환자 수 : {counts[1]}, 비당뇨병 판별수 : {counts[0]}\\n')\n",
    "        print(f'Accuracy score: {round(accuracy_score(self.y_test, clf.predict(self.X_test)), 5)}\\n')\n",
    "\n",
    "        y_predict = clf.predict(self.X_test)\n",
    "        print(classification_report(self.y_test, y_predict, target_names=['건강','당뇨']))\n",
    "        cm = confusion_matrix(self.y_test, y_predict)\n",
    "        print('Confusion Matrix\\n', cm)"
   ]
  },
  {
   "cell_type": "code",
   "execution_count": 68,
   "metadata": {
    "ExecuteTime": {
     "end_time": "2021-04-01T17:11:32.812346Z",
     "start_time": "2021-04-01T17:11:32.723563Z"
    }
   },
   "outputs": [],
   "source": [
    "model2017LR = DiabetesModelingLR(X,y)\n",
    "model2017LR.LR()"
   ]
  },
  {
   "cell_type": "code",
   "execution_count": 69,
   "metadata": {
    "ExecuteTime": {
     "end_time": "2021-04-01T17:11:34.242314Z",
     "start_time": "2021-04-01T17:11:34.194698Z"
    }
   },
   "outputs": [
    {
     "name": "stdout",
     "output_type": "stream",
     "text": [
      "Training size : 79768 Testing Size : 19942\n",
      "당뇨병 판별 환자 수 : 10274, 비당뇨병 판별수 : 89436\n",
      "\n",
      "Accuracy score: 0.8960485407682278\n",
      "\n",
      "              precision    recall  f1-score   support\n",
      "\n",
      "          건강       0.90      1.00      0.95     17887\n",
      "          당뇨       0.33      0.01      0.02      2055\n",
      "\n",
      "    accuracy                           0.90     19942\n",
      "   macro avg       0.62      0.50      0.48     19942\n",
      "weighted avg       0.84      0.90      0.85     19942\n",
      "\n",
      "Confusion Matrix\n",
      " [[17851    36]\n",
      " [ 2037    18]]\n"
     ]
    }
   ],
   "source": [
    "model2017LR.show_result()"
   ]
  },
  {
   "cell_type": "markdown",
   "metadata": {},
   "source": [
    "# Support Vector Machine"
   ]
  },
  {
   "cell_type": "code",
   "execution_count": 92,
   "metadata": {
    "ExecuteTime": {
     "end_time": "2021-04-01T17:30:06.357586Z",
     "start_time": "2021-04-01T17:30:06.340226Z"
    }
   },
   "outputs": [],
   "source": [
    "class DiabetesModelingSVM():\n",
    "    def __init__(self, X=None, y=None):\n",
    "        self.X = X\n",
    "        self.y = y\n",
    "        self.X_train = None\n",
    "        self.y_train = None\n",
    "        self.X_test = None\n",
    "        self.y_test = None\n",
    "        self.clf = None\n",
    "        self.training_size = None\n",
    "        self.testing_size = None\n",
    "        self.CROSSVAL=False\n",
    "        self.SPLIT_DATA = True\n",
    "        self.RESET_FBS = False\n",
    "    def SVM(self):\n",
    "        X, y = self.X, self.y\n",
    "        if self.RESET_FBS:\n",
    "            FBS = 120\n",
    "            year = 2017\n",
    "            X, y = reset_fbs(fbs=FBS, year=year)\n",
    "        if self.SPLIT_DATA:\n",
    "            X_train, X_test, y_train, y_test = split_set(X, y)\n",
    "            self.X_train, self.X_test, self.y_train, self.y_test = [\n",
    "                X_train, X_test, y_train, y_test]\n",
    "        if X_train.shape[1] != X_test.shape[1]:\n",
    "            raise Exception('Training Set과 Test Set의 Feature가 다릅니다.')\n",
    "\n",
    "        self.training_size = len(X_train)\n",
    "        self.testing_size = len(X_test)\n",
    "        self.clf = SVC(random_state=42, decision_function_shape='ovo', kernel='rbf',\n",
    "                      gamma=0.1, C=0.0001)\n",
    "#         self.clf = SVC(C=1e-2, multi_class='ovr',\n",
    "#                                  penalty='l2', solver='liblinear', tol=0.1)\n",
    "#         if self.CROSSVAL:\n",
    "#             self.clf = LogisticRegressionCV(C=1, multi_class='ovr', cv=5,\n",
    "#                                  penalty='l2', solver='saga', tol=0.1)\n",
    "\n",
    "        self.clf.fit(X_train, y_train)\n",
    "        clear_output()\n",
    "        y_predict = self.clf.predict(X_test)\n",
    "        \n",
    "    def show_result(self):\n",
    "        clf = self.clf\n",
    "        print('Training size : %d Testing Size : %d' %(self.training_size, self.testing_size))\n",
    "        counts = np.unique(self.y, return_counts = True)[1]\n",
    "        print(f'당뇨병 판별 환자 수 : {counts[1]}, 비당뇨병 판별수 : {counts[0]}\\n')\n",
    "        print(f'Accuracy score: {round(accuracy_score(self.y_test, clf.predict(self.X_test)), 5)}\\n')\n",
    "\n",
    "        y_predict = clf.predict(self.X_test)\n",
    "        print(classification_report(self.y_test, y_predict, target_names=['건강','당뇨']))\n",
    "        cm = confusion_matrix(self.y_test, y_predict)\n",
    "        print('Confusion Matrix\\n', cm)"
   ]
  },
  {
   "cell_type": "markdown",
   "metadata": {},
   "source": [
    "## Data Resize Required"
   ]
  },
  {
   "cell_type": "code",
   "execution_count": 93,
   "metadata": {
    "ExecuteTime": {
     "end_time": "2021-04-01T18:52:56.310370Z",
     "start_time": "2021-04-01T17:30:07.466642Z"
    }
   },
   "outputs": [],
   "source": [
    "model2017SVM = DiabetesModelingSVM(X,y)\n",
    "model2017SVM.SVM()\n",
    "# 1h 22m"
   ]
  },
  {
   "cell_type": "code",
   "execution_count": 94,
   "metadata": {
    "ExecuteTime": {
     "end_time": "2021-04-02T06:26:19.771416Z",
     "start_time": "2021-04-02T05:33:28.020434Z"
    },
    "scrolled": true
   },
   "outputs": [
    {
     "name": "stdout",
     "output_type": "stream",
     "text": [
      "Training size : 797654 Testing Size : 199414\n",
      "당뇨병 판별 환자 수 : 46063, 비당뇨병 판별수 : 951005\n",
      "\n",
      "Accuracy score: 0.9537996329244687\n",
      "\n"
     ]
    },
    {
     "name": "stderr",
     "output_type": "stream",
     "text": [
      "c:\\users\\admin\\appdata\\local\\programs\\python\\python38\\lib\\site-packages\\sklearn\\metrics\\_classification.py:1245: UndefinedMetricWarning: Precision and F-score are ill-defined and being set to 0.0 in labels with no predicted samples. Use `zero_division` parameter to control this behavior.\n",
      "  _warn_prf(average, modifier, msg_start, len(result))\n",
      "c:\\users\\admin\\appdata\\local\\programs\\python\\python38\\lib\\site-packages\\sklearn\\metrics\\_classification.py:1245: UndefinedMetricWarning: Precision and F-score are ill-defined and being set to 0.0 in labels with no predicted samples. Use `zero_division` parameter to control this behavior.\n",
      "  _warn_prf(average, modifier, msg_start, len(result))\n",
      "c:\\users\\admin\\appdata\\local\\programs\\python\\python38\\lib\\site-packages\\sklearn\\metrics\\_classification.py:1245: UndefinedMetricWarning: Precision and F-score are ill-defined and being set to 0.0 in labels with no predicted samples. Use `zero_division` parameter to control this behavior.\n",
      "  _warn_prf(average, modifier, msg_start, len(result))\n"
     ]
    },
    {
     "name": "stdout",
     "output_type": "stream",
     "text": [
      "              precision    recall  f1-score   support\n",
      "\n",
      "          건강       0.95      1.00      0.98    190201\n",
      "          당뇨       0.00      0.00      0.00      9213\n",
      "\n",
      "    accuracy                           0.95    199414\n",
      "   macro avg       0.48      0.50      0.49    199414\n",
      "weighted avg       0.91      0.95      0.93    199414\n",
      "\n",
      "Confusion Matrix\n",
      " [[190201      0]\n",
      " [  9213      0]]\n"
     ]
    }
   ],
   "source": [
    "model2017SVM.show_result()\n",
    "# 52m"
   ]
  },
  {
   "cell_type": "markdown",
   "metadata": {},
   "source": [
    "# Grid Search"
   ]
  },
  {
   "cell_type": "code",
   "execution_count": 114,
   "metadata": {
    "ExecuteTime": {
     "end_time": "2021-04-02T16:16:24.466112Z",
     "start_time": "2021-04-02T16:16:24.448255Z"
    }
   },
   "outputs": [],
   "source": [
    "class GridSearch():\n",
    "    def __init__(self, grid_parameters, model=LogisticRegression, X=X, y=y):\n",
    "        self.model = model\n",
    "        self.grid_parameters = grid_parameters\n",
    "        self.X = X\n",
    "        self.y = y\n",
    "        self.clf = None\n",
    "        self.best_parameters = None\n",
    "        self.best_estimator = None\n",
    "        \n",
    "    def make_estimator(self, model, X=None, y=None, default_parameters=None,\n",
    "                       grid_parameters=None, cross_validation:int=5):\n",
    "        clf = model(**default_parameters)\n",
    "        estimator = GridSearchCV(clf, grid_parameters, cv=cross_validation, n_jobs=-1)\n",
    "        estimator.fit(X,y)\n",
    "        \n",
    "        return estimator\n",
    "    \n",
    "    def grid_search(self):\n",
    "        X_train, X_test, y_train, y_test = split_set(self.X, self.y)\n",
    "        self.clf = self.make_estimator(X=X_train, y=y_train, model=self.model,\n",
    "                                       default_parameters=dict(solver='lbfgs'),\n",
    "                                       grid_parameters=self.grid_parameters)\n",
    "        self.best_parameters = clf.best_params_\n",
    "        self.best_estimator = clf.best_estimator_\n",
    "\n",
    "        # get best accuracy on training set\n",
    "        print('Input Grid Parameters')\n",
    "        print(self.grid_parameters)\n",
    "        \n",
    "        print('Accuracy on training set')\n",
    "        print(round(self.clf.best_score_, 5))\n",
    "\n",
    "        print('Accuracy on test set')\n",
    "        print(round(self.best_estimator.score(X_test, y_test), 5))\n",
    "\n",
    "        print(f'Best Parameters : {self.best_parameters}')"
   ]
  },
  {
   "cell_type": "code",
   "execution_count": 115,
   "metadata": {
    "ExecuteTime": {
     "end_time": "2021-04-02T16:17:45.220851Z",
     "start_time": "2021-04-02T16:16:29.051631Z"
    },
    "scrolled": false
   },
   "outputs": [
    {
     "name": "stdout",
     "output_type": "stream",
     "text": [
      "Input Grid Parameters\n",
      "{'C': [0.1, 1, 1000]}\n",
      "Accuracy on training set\n",
      "0.95346\n",
      "Accuracy on test set\n",
      "0.9538\n",
      "Best Parameters : {'C': 0.0001, 'gamma': 0.1}\n"
     ]
    }
   ],
   "source": [
    "grid_parameters = {\n",
    "    'C': [1e-1, 1, 1000]\n",
    "#     'penalty': ['l1', 'l2'],\n",
    "#     'batch_size':[1, 10, 60, 100, 600]\n",
    "#     'epochs':[5, 10, 25, 50, 200]\n",
    "#     'C': [1e-4, 1e-4, 1e-3, 1e-2, 1e-1, 1, 1000], # 1000 means no regularization\n",
    "#     'solver': ['saga']\n",
    "}\n",
    "grid_search_2017_LR = GridSearch(grid_parameters=grid_parameters, model=LogisticRegression)\n",
    "grid_search_2017_LR.grid_search()"
   ]
  }
 ],
 "metadata": {
  "kernelspec": {
   "display_name": "Python 3",
   "language": "python",
   "name": "python3"
  },
  "language_info": {
   "codemirror_mode": {
    "name": "ipython",
    "version": 3
   },
   "file_extension": ".py",
   "mimetype": "text/x-python",
   "name": "python",
   "nbconvert_exporter": "python",
   "pygments_lexer": "ipython3",
   "version": "3.8.5"
  },
  "latex_envs": {
   "LaTeX_envs_menu_present": true,
   "autoclose": false,
   "autocomplete": true,
   "bibliofile": "biblio.bib",
   "cite_by": "apalike",
   "current_citInitial": 1,
   "eqLabelWithNumbers": true,
   "eqNumInitial": 1,
   "hotkeys": {
    "equation": "Ctrl-E",
    "itemize": "Ctrl-I"
   },
   "labels_anchors": false,
   "latex_user_defs": false,
   "report_style_numbering": false,
   "user_envs_cfg": false
  },
  "varInspector": {
   "cols": {
    "lenName": 16,
    "lenType": 16,
    "lenVar": 40
   },
   "kernels_config": {
    "python": {
     "delete_cmd_postfix": "",
     "delete_cmd_prefix": "del ",
     "library": "var_list.py",
     "varRefreshCmd": "print(var_dic_list())"
    },
    "r": {
     "delete_cmd_postfix": ") ",
     "delete_cmd_prefix": "rm(",
     "library": "var_list.r",
     "varRefreshCmd": "cat(var_dic_list()) "
    }
   },
   "types_to_exclude": [
    "module",
    "function",
    "builtin_function_or_method",
    "instance",
    "_Feature"
   ],
   "window_display": false
  }
 },
 "nbformat": 4,
 "nbformat_minor": 2
}

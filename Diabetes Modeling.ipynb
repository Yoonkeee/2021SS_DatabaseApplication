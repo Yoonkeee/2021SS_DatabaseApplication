{
 "cells": [
  {
   "cell_type": "code",
   "execution_count": 236,
   "metadata": {
    "ExecuteTime": {
     "end_time": "2021-04-09T10:53:25.905272Z",
     "start_time": "2021-04-09T10:53:25.896641Z"
    }
   },
   "outputs": [],
   "source": [
    "import os\n",
    "import csv\n",
    "import struct\n",
    "import chardet\n",
    "import itertools\n",
    "import numpy as np\n",
    "import collections\n",
    "import pandas as pd\n",
    "from typing import *\n",
    "from time import time\n",
    "import seaborn as sns\n",
    "from sklearn.svm import SVC\n",
    "from inspect import signature\n",
    "from skimage.feature import hog\n",
    "from numpy import random as rnd\n",
    "import matplotlib.pyplot as plt\n",
    "import matplotlib.pyplot as pyplot\n",
    "from sklearn.utils import shuffle\n",
    "import matplotlib.font_manager as fm\n",
    "from sklearn.metrics import f1_score\n",
    "from sklearn.metrics import make_scorer\n",
    "from IPython.display import clear_output\n",
    "from sklearn.metrics import accuracy_score\n",
    "from sklearn.metrics import confusion_matrix\n",
    "from sklearn.preprocessing import MinMaxScaler\n",
    "from sklearn.preprocessing import RobustScaler\n",
    "from sklearn.preprocessing import StandardScaler\n",
    "from sklearn.model_selection import GridSearchCV\n",
    "from sklearn.metrics import classification_report\n",
    "from sklearn.linear_model import LogisticRegression\n",
    "from sklearn.model_selection import train_test_split\n",
    "from sklearn.linear_model import LogisticRegressionCV"
   ]
  },
  {
   "cell_type": "code",
   "execution_count": 2,
   "metadata": {
    "ExecuteTime": {
     "end_time": "2021-04-08T16:28:48.291496Z",
     "start_time": "2021-04-08T16:28:48.165251Z"
    }
   },
   "outputs": [
    {
     "name": "stdout",
     "output_type": "stream",
     "text": [
      "Compare_sklearn_scaler_v1.ipynb README.md\r\n",
      "\u001b[31mLogistic Regression.ipynb\u001b[m\u001b[m       \u001b[31mSVM.ipynb\u001b[m\u001b[m\r\n",
      "\u001b[31mNHIS_OPEN_GJ_2017_100.csv\u001b[m\u001b[m       \u001b[1m\u001b[36mcache\u001b[m\u001b[m\r\n",
      "\u001b[31mNHIS_OPEN_GJ_2018_100.csv\u001b[m\u001b[m\r\n"
     ]
    }
   ],
   "source": [
    "!ls"
   ]
  },
  {
   "cell_type": "markdown",
   "metadata": {},
   "source": [
    "# Data Reading"
   ]
  },
  {
   "cell_type": "code",
   "execution_count": 677,
   "metadata": {
    "ExecuteTime": {
     "end_time": "2021-04-10T07:47:24.727749Z",
     "start_time": "2021-04-10T07:47:24.669038Z"
    },
    "code_folding": [
     13,
     105,
     131,
     164,
     190
    ]
   },
   "outputs": [],
   "source": [
    "class ReadData():\n",
    "    def __init__(self, year=2017):\n",
    "        self.year = year\n",
    "        self.infos = []  # all infos from input\n",
    "        self.data_infos = []  # features from read() object\n",
    "        self.selected_features = None  # selected features by user. set from self.get_features_index\n",
    "        self.no_data = []  # datas with empty value\n",
    "        self.required_info_index = []  # selected features' index\n",
    "        self.no_data_count = collections.defaultdict(int)  # to count and show size of empty value\n",
    "        self.X = []\n",
    "        self.y = []\n",
    "        \n",
    "    def show_params(self):\n",
    "        # shows parameters from read()\n",
    "        sig = signature(self.read)\n",
    "        params = []\n",
    "        for param in sig.parameters.values():\n",
    "            params.append(str(param.name)+'='+str(param.default))\n",
    "        print(*params)\n",
    "            \n",
    "    def read(self, selected_features, DATASIZE=None, FBS_PIVOT=120, calculate_BMI=True, return_data=True, \n",
    "            count_empty_data=False, filter_dict=None):\n",
    "        # selected_features = features to select from data, DATASIZE = set limit(size) of data\n",
    "        # FBS_PIVOT = if 식전혈당(공복혈당) >= FBS_PIVOT then set diabetic\n",
    "        # if calculate_BMI is True = append BMI and remove height, weight\n",
    "        # return_data = whether return X,y or not, count_empty_data = counts data with empty value\n",
    "        # filter_dict = filtering outliers with this dict\n",
    "        self.get_features_index(selected_features)\n",
    "        print(f'Reading Year {self.year}')\n",
    "        if not DATASIZE:\n",
    "            DATASIZE = float('inf')\n",
    "        if self.year == 2017:\n",
    "            FILENAME = 'NHIS_OPEN_GJ_2017_100.csv'\n",
    "        elif self.year == 2018:\n",
    "            FILENAME = 'NHIS_OPEN_GJ_2018_100.csv'\n",
    "        else:\n",
    "            raise Exception('year should be 2017 or 2018. default=2017')\n",
    "            \n",
    "        \n",
    "        with open(FILENAME, 'rb') as f:\n",
    "            ENCODING = chardet.detect(f.readline())['encoding']\n",
    "            \n",
    "        f = open(FILENAME, 'r', encoding=ENCODING)\n",
    "        rdr = csv.reader(f)\n",
    "        \n",
    "        required_info_index = self.required_info_index\n",
    "\n",
    "        for n, col in enumerate(rdr):\n",
    "            required_data = [info for index, info in enumerate(col) if index in required_info_index]\n",
    "            if n == 0:\n",
    "                self.infos.append(col)\n",
    "                self.infos = self.infos[0]\n",
    "                self.data_infos.append(required_data)\n",
    "                self.data_infos = self.data_infos[0]\n",
    "                FBS_INDEX = self.infos.index('식전혈당(공복혈당)')\n",
    "                \n",
    "                if calculate_BMI:\n",
    "                    if '신장(5Cm단위)' not in self.data_infos or '체중(5Kg단위)' not in self.data_infos:\n",
    "                        calculate_BMI = False\n",
    "                    else:\n",
    "                        HEIGHT_INDEX, WEIGHT_INDEX = self.data_infos.index('신장(5Cm단위)'), self.data_infos.index('체중(5Kg단위)')\n",
    "                        if WEIGHT_INDEX < HEIGHT_INDEX:\n",
    "                            raise Exception('selected_features에서 신장을 체중보다 먼저 오도록 설정해주세요.')\n",
    "                        self.data_infos.append('BMI')\n",
    "            else:\n",
    "                FBS = col[FBS_INDEX]\n",
    "                if '' in required_data or FBS == '':\n",
    "                    if count_empty_data:\n",
    "                        l = [self.data_infos[i] for i, d in enumerate(required_data) if d == '']\n",
    "                        for s in l: \n",
    "                            self.no_data_count[s] += 1\n",
    "                        self.no_data.append(n)\n",
    "                else:\n",
    "                    self.X.append(required_data)\n",
    "                    self.y.append(1) if int(FBS) >= FBS_PIVOT else self.y.append(0)\n",
    "                    \n",
    "            if n >= DATASIZE:\n",
    "                break\n",
    "\n",
    "        f.close()\n",
    "        \n",
    "        \n",
    "        if calculate_BMI:\n",
    "            if filter_dict:\n",
    "                self.filter_outliers(filter_dict)\n",
    "            self.calculate_BMI()\n",
    "            del self.data_infos[HEIGHT_INDEX]\n",
    "            del self.data_infos[WEIGHT_INDEX-1]\n",
    "            \n",
    "        self.X = np.array(self.X, dtype=np.float64)\n",
    "        self.y = np.array(self.y)\n",
    "        \n",
    "        print(f\"Reading Year {self.year}'s data done\")\n",
    "        print(f'Size of X = {len(self.X):,}, y = {len(self.y):,}')\n",
    "        print(f'당뇨병 판별 공복혈당 기준 수치 : {FBS_PIVOT}')\n",
    "        counts = np.unique(self.y, return_counts = True)[1]\n",
    "        print(f'당뇨병 판별 환자 수 : {counts[1]:,}명, 비당뇨병 판별수 : {counts[0]:,}명\\n')\n",
    "        print(f'X has {self.X.shape[1]} features')\n",
    "        if count_empty_data:\n",
    "            print(f'Size of data with empty value = {len(self.no_data):,}')\n",
    "        print(f'Selected Features and Sample Data: \\n{self.data_infos}\\n{self.X[0]}\\n{self.X[1]}')\n",
    "        if return_data:\n",
    "            return [self.X, self.y]\n",
    "        \n",
    "    def calculate_BMI(self):\n",
    "        # calculate and append BMI with height, weight and remove height, weight from data.\n",
    "        try:\n",
    "            HEIGHT_INDEX, WEIGHT_INDEX = self.data_infos.index('신장(5Cm단위)'), self.data_infos.index('체중(5Kg단위)')\n",
    "        except:\n",
    "            raise Exception('신장 혹은 체중이 데이터에 없어서 BMI를 계산할 수 없습니다.')\n",
    "        if WEIGHT_INDEX < HEIGHT_INDEX:\n",
    "            raise Exception('selected_features 순서에서 신장을 체중보다 먼저 오도록 설정해주세요.')\n",
    "            \n",
    "        self.data_infos.append('BMI')\n",
    "        \n",
    "        for i in range(len(self.X)):\n",
    "            height, weight = int(self.X[i].pop(HEIGHT_INDEX)), int(self.X[i].pop(WEIGHT_INDEX-1))\n",
    "            BMI = round(weight / (height * height / 10000), 2)\n",
    "            self.X[i].append(BMI)\n",
    "    \n",
    "    def get_features_index(self, selected_features):\n",
    "        # set selected features at object.\n",
    "        df = default_features()\n",
    "        for feature in selected_features:\n",
    "            if feature not in df:\n",
    "                raise Exception(f\"'{feature}'는 데이터에 없습니다.\")\n",
    "            self.required_info_index.append(df.index(feature))\n",
    "        self.required_info_index.sort()\n",
    "        self.selected_features = selected_features\n",
    "            \n",
    "    def show_outliers(self, feature:str, pivot:int, not_diabetes_only=True):\n",
    "        # shows outlier's value from specific feature and pivot.\n",
    "        # if not_diabetes_only is True = shows outliers who is not diabetic.\n",
    "        # if not_diabetes_only is False = shows all outliers.\n",
    "        OUT_INDEX = self.data_infos.index(feature)\n",
    "        outliers = []\n",
    "        if not_diabetes_only:\n",
    "            fbs_index = self.data_infos.index('식전혈당(공복혈당)')\n",
    "            bmi_index = self.data_infos.index('BMI')\n",
    "            for i in range(len(self.X)):\n",
    "                if self.y[i] != 1 and (self.X[i][OUT_INDEX] > pivot or self.X[i][OUT_INDEX] <= 0):\n",
    "                    outliers.append(i)\n",
    "        else:\n",
    "            for i in range(len(self.X)):\n",
    "                if self.X[i][OUT_INDEX] >= pivot or self.X[i][OUT_INDEX] <= 0:\n",
    "                    outliers.append(i)\n",
    "                    \n",
    "        max_outlier = max([self.X[i][OUT_INDEX] for i in outliers])\n",
    "                          \n",
    "        if not_diabetes_only:\n",
    "            print(f'{feature}에서 기준치 {pivot} 이상이며, 당뇨가 아닌 사람들의 값입니다. '+\n",
    "                  f'(총 {len(outliers)}명, 비율: %.2f%%, 최댓값: {max_outlier})\\n'%(len(outliers) * 100 / len(self.X)))\n",
    "\n",
    "            print('{:>6} {:>16} {:>20} {:>10}'.format('INDEX', feature, '식전혈당(공복혈당)', 'BMI'))\n",
    "            for i in outliers if len(outliers) < 20 else outliers[:20]:\n",
    "                print('{:6} {:>22.0f} {:>28.0f} {:>10}'.format(i, self.X[i][OUT_INDEX], \n",
    "                                                               self.X[i][fbs_index], self.X[i][bmi_index]))\n",
    "        else:\n",
    "            print(f'{feature}에서 {pivot}보다 큰 값들입니다.' +\n",
    "                  f'(총 {len(outliers)}명, 비율: %.2f%%, 최댓값: {max_outlier})\\n'%(len(outliers) * 100 / len(self.X)))\n",
    "            for i in outliers if len(outliers) < 20 else outliers[:20]:\n",
    "                print(self.X[i][OUT_INDEX])\n",
    "\n",
    "    def sizeof_outliers(self, filter_dict):\n",
    "        # only shows size of outliers who will be filtered by filter_dict.\n",
    "        size = len(self.X)\n",
    "        X_isnumpy = isinstance(self.X, np.ndarray)\n",
    "        if X_isnumpy:\n",
    "            filter_X = self.X[:].tolist()\n",
    "            filter_y = self.y[:].tolist()\n",
    "        else:\n",
    "            filter_X = self.X[:]\n",
    "            filter_y = self.y[:]\n",
    "        filter_index = [self.data_infos.index(key) for key in list(filter_dict.keys())]\n",
    "        filter_pivot = list(filter_dict.values())\n",
    "        for f in range(len(filter_index)):\n",
    "            max_pivot, min_pivot = filter_pivot[f]\n",
    "            f_index = filter_index[f]\n",
    "            max_out, min_out = 0, 0\n",
    "            for i in range(len(filter_X)):\n",
    "                if float(filter_X[i][f_index]) >= max_pivot:\n",
    "                    max_out += 1\n",
    "                elif float(filter_X[i][f_index]) <= min_pivot:\n",
    "                    min_out += 1\n",
    "            \n",
    "            print(f'Max Pivot:{max_pivot:>5}, Min Pivot:{min_pivot:>5}, '+\n",
    "                  f'Max Outs: {max_out:>5,}, Min Outs: {min_out:>5,}, '+\n",
    "                  f'{(max_out+min_out)*100/size:>3.2f}% at {self.data_infos[f_index]:<20}')\n",
    "            \n",
    "    def filter_outliers(self, filter_dict):\n",
    "        # excute filtering outliers by filter_dict. filter_dict[feature] = [MAX PIVOT, MIN PIVOT]\n",
    "        print('Filtering outliers')\n",
    "        original_size = len(self.X)\n",
    "        X_isnumpy = isinstance(self.X, np.ndarray)\n",
    "        if X_isnumpy:\n",
    "            filter_X = self.X[:].tolist()\n",
    "            filter_y = self.y[:].tolist()\n",
    "        else:\n",
    "            filter_X = self.X[:]\n",
    "            filter_y = self.y[:]\n",
    "            \n",
    "        filter_index = [self.data_infos.index(key) for key in list(filter_dict.keys())]\n",
    "        filter_pivot = list(filter_dict.values())\n",
    "        \n",
    "        for f in range(len(filter_index)):\n",
    "            max_pivot, min_pivot = filter_pivot[f]\n",
    "            correction = 0\n",
    "            f_index = filter_index[f]\n",
    "            for i in range(len(filter_X)):\n",
    "                try:\n",
    "                    if float(filter_X[i][f_index]) >= max_pivot or float(filter_X[i][f_index]) <= min_pivot:\n",
    "                        del filter_X[i - correction]\n",
    "                        del filter_y[i - correction]\n",
    "                        correction += 1\n",
    "                except:\n",
    "                    print(f'Filtered {correction:>5,} by {self.data_infos[f_index]}')\n",
    "                    break\n",
    "        if X_isnumpy:\n",
    "            self.X = np.array(filter_X, dtype=np.float64)\n",
    "            self.y = np.array(filter_y)\n",
    "        else:\n",
    "            self.X, self.y = filter_X, filter_y\n",
    "        print(f'Filtered {original_size - len(self.X):,}. Filterd X size : {len(self.X):,}. '+\n",
    "              f'({(original_size - len(self.X))*100/original_size:.2f}%)\\n')"
   ]
  },
  {
   "cell_type": "code",
   "execution_count": 566,
   "metadata": {
    "ExecuteTime": {
     "end_time": "2021-04-10T06:42:07.271014Z",
     "start_time": "2021-04-10T06:42:07.266166Z"
    }
   },
   "outputs": [],
   "source": [
    "filter_dict = {  # 'feature': [MAX Pivot, MIN Pivot] to filter outlier\n",
    "    '총콜레스테롤': [500, 10], \n",
    "    '트리글리세라이드': [700, 10], \n",
    "    'LDL콜레스테롤': [500, 10], \n",
    "    '허리둘레': [150, 30], \n",
    "    '감마지티피': [300, 5], \n",
    "    '혈색소': [18.5, 3], \n",
    "    '(혈청지오티)ALT': [200, 5], \n",
    "    '(혈청지오티)AST': [200, 5], \n",
    "    '신장(5Cm단위)': [200, 140], \n",
    "    '체중(5Kg단위)': [140, 30], \n",
    "    '식전혈당(공복혈당)': [300, 30]\n",
    "}"
   ]
  },
  {
   "cell_type": "code",
   "execution_count": 678,
   "metadata": {
    "ExecuteTime": {
     "end_time": "2021-04-10T07:49:03.749194Z",
     "start_time": "2021-04-10T07:48:05.805898Z"
    }
   },
   "outputs": [
    {
     "name": "stdout",
     "output_type": "stream",
     "text": [
      "Reading Year 2017\n",
      "Filtering outliers\n",
      "Filtered    62 by 총콜레스테롤\n",
      "Filtered 3,671 by 트리글리세라이드\n",
      "Filtered   349 by LDL콜레스테롤\n",
      "Filtered    61 by 허리둘레\n",
      "Filtered 6,882 by 감마지티피\n",
      "Filtered 1,134 by 혈색소\n",
      "Filtered 3,895 by (혈청지오티)ALT\n",
      "Filtered 1,121 by (혈청지오티)AST\n",
      "Filtered 10,365 by 신장(5Cm단위)\n",
      "Filtered   175 by 체중(5Kg단위)\n",
      "Filtered 1,507 by 식전혈당(공복혈당)\n",
      "Filtered 29,222. Filterd X size : 967,581. (2.93%)\n",
      "\n",
      "Reading Year 2017's data done\n",
      "Size of X = 967,581, y = 967,581\n",
      "당뇨병 판별 공복혈당 기준 수치 : 140\n",
      "당뇨병 판별 환자 수 : 44,698, 비당뇨병 판별수 : 922,883\n",
      "\n",
      "X has 10 features\n",
      "Selected Features and Sample Data: \n",
      "['허리둘레', '식전혈당(공복혈당)', '총콜레스테롤', '트리글리세라이드', 'LDL콜레스테롤', '혈색소', '(혈청지오티)AST', '(혈청지오티)ALT', '감마지티피', 'BMI', 'BMI']\n",
      "[ 90.    99.   193.    92.   126.    17.1   21.    35.    40.    25.95]\n",
      "[ 89.   106.   228.   121.   148.    15.8   20.    36.    27.    24.69]\n"
     ]
    }
   ],
   "source": [
    "test = ReadData(2017)\n",
    "test.read(list(filter_dict.keys()), FBS_PIVOT=140, return_data=False, filter_dict=filter_dict)"
   ]
  },
  {
   "cell_type": "markdown",
   "metadata": {},
   "source": [
    "# Read Data"
   ]
  },
  {
   "cell_type": "code",
   "execution_count": 679,
   "metadata": {
    "ExecuteTime": {
     "end_time": "2021-04-10T07:49:56.704072Z",
     "start_time": "2021-04-10T07:49:56.699936Z"
    }
   },
   "outputs": [
    {
     "name": "stdout",
     "output_type": "stream",
     "text": [
      "selected_features=<class 'inspect._empty'> DATASIZE=None FBS_PIVOT=120 calculate_BMI=True return_data=True count_empty_data=False filter_dict=None\n"
     ]
    }
   ],
   "source": [
    "data2017 = ReadData(2017)\n",
    "data2017.show_params()"
   ]
  },
  {
   "cell_type": "code",
   "execution_count": 686,
   "metadata": {
    "ExecuteTime": {
     "end_time": "2021-04-10T08:03:04.607602Z",
     "start_time": "2021-04-10T08:02:11.026857Z"
    }
   },
   "outputs": [
    {
     "name": "stdout",
     "output_type": "stream",
     "text": [
      "Reading Year 2017\n",
      "Filtering outliers\n",
      "Filtered    62 by 총콜레스테롤\n",
      "Filtered 3,671 by 트리글리세라이드\n",
      "Filtered   349 by LDL콜레스테롤\n",
      "Filtered    61 by 허리둘레\n",
      "Filtered 6,882 by 감마지티피\n",
      "Filtered 1,134 by 혈색소\n",
      "Filtered 3,895 by (혈청지오티)ALT\n",
      "Filtered 1,121 by (혈청지오티)AST\n",
      "Filtered 10,365 by 신장(5Cm단위)\n",
      "Filtered   175 by 체중(5Kg단위)\n",
      "Filtered 1,507 by 식전혈당(공복혈당)\n",
      "Filtered 29,222. Filterd X size : 967,581. (2.93%)\n",
      "\n",
      "Reading Year 2017's data done\n",
      "Size of X = 967,581, y = 967,581\n",
      "당뇨병 판별 공복혈당 기준 수치 : 140\n",
      "당뇨병 판별 환자 수 : 44,698, 비당뇨병 판별수 : 922,883\n",
      "\n",
      "X has 10 features\n",
      "Selected Features and Sample Data: \n",
      "['허리둘레', '식전혈당(공복혈당)', '총콜레스테롤', '트리글리세라이드', 'LDL콜레스테롤', '혈색소', '(혈청지오티)AST', '(혈청지오티)ALT', '감마지티피', 'BMI', 'BMI']\n",
      "[ 90.    99.   193.    92.   126.    17.1   21.    35.    40.    25.95]\n",
      "[ 89.   106.   228.   121.   148.    15.8   20.    36.    27.    24.69]\n"
     ]
    }
   ],
   "source": [
    "filter_dict = {  # 'feature': [MAX Pivot, MIN Pivot] to filter outlier\n",
    "    '총콜레스테롤': [500, 10], \n",
    "    '트리글리세라이드': [700, 10], \n",
    "    'LDL콜레스테롤': [500, 10], \n",
    "    '허리둘레': [150, 30], \n",
    "    '감마지티피': [300, 5], \n",
    "    '혈색소': [18.5, 3], \n",
    "    '(혈청지오티)ALT': [200, 5], \n",
    "    '(혈청지오티)AST': [200, 5], \n",
    "    '신장(5Cm단위)': [200, 140], \n",
    "    '체중(5Kg단위)': [140, 30], \n",
    "    '식전혈당(공복혈당)': [300, 30]\n",
    "}\n",
    "selected_features = list(filter_dict.keys())\n",
    "data2017 = ReadData(2017)\n",
    "# selected_features = Features to read, DATASIZE = Data size limit, FBS_PIVOT = 당노병 판단 기준 혈당\n",
    "# calculate_BMI = 체중, 키를 BMI지수로 환산, return_data = return X,y for variable\n",
    "# count_empty_data = count data with empty value\n",
    "data2017.read(selected_features, FBS_PIVOT=140, filter_dict=filter_dict, return_data=False)"
   ]
  },
  {
   "cell_type": "code",
   "execution_count": 703,
   "metadata": {
    "ExecuteTime": {
     "end_time": "2021-04-10T08:42:14.606465Z",
     "start_time": "2021-04-10T08:41:56.651946Z"
    }
   },
   "outputs": [
    {
     "name": "stdout",
     "output_type": "stream",
     "text": [
      "Reading Year 2018\n",
      "Filtering outliers\n",
      "Filtered     9 by 총콜레스테롤\n",
      "Filtered    34 by 트리글리세라이드\n",
      "Filtered   142 by LDL콜레스테롤\n",
      "Filtered     3 by 허리둘레\n",
      "Filtered 2,097 by 감마지티피\n",
      "Filtered   451 by 혈색소\n",
      "Filtered 1,079 by (혈청지오티)ALT\n",
      "Filtered   326 by (혈청지오티)AST\n",
      "Filtered 4,510 by 신장(5Cm단위)\n",
      "Filtered    66 by 체중(5Kg단위)\n",
      "Filtered   409 by 식전혈당(공복혈당)\n",
      "Filtered 9,126. Filterd X size : 316,711. (2.80%)\n",
      "\n",
      "Reading Year 2018's data done\n",
      "Size of X = 316,711, y = 316,711\n",
      "당뇨병 판별 공복혈당 기준 수치 : 140\n",
      "당뇨병 판별 환자 수 : 16,491, 비당뇨병 판별수 : 300,220\n",
      "\n",
      "X has 10 features\n",
      "Selected Features and Sample Data: \n",
      "['허리둘레', '식전혈당(공복혈당)', '총콜레스테롤', '트리글리세라이드', 'LDL콜레스테롤', '혈색소', '(혈청지오티)AST', '(혈청지오티)ALT', '감마지티피', 'BMI', 'BMI']\n",
      "[ 71.5 100.  234.   90.  135.   12.7  19.   10.   13.   20. ]\n",
      "[ 98.   122.   186.    72.   111.    14.    18.    15.    21.    31.22]\n"
     ]
    }
   ],
   "source": [
    "data2018 = ReadData(2018)\n",
    "data2018.read(selected_features, FBS_PIVOT=140, filter_dict=filter_dict, return_data=False)"
   ]
  },
  {
   "cell_type": "markdown",
   "metadata": {},
   "source": [
    "# Default Features"
   ]
  },
  {
   "cell_type": "code",
   "execution_count": 23,
   "metadata": {
    "ExecuteTime": {
     "end_time": "2021-04-08T16:57:55.597430Z",
     "start_time": "2021-04-08T16:57:55.592551Z"
    }
   },
   "outputs": [],
   "source": [
    "def default_features():\n",
    "    features = ['기준년도', '가입자일련번호', '성별코드', '연령대코드(5세단위)', '시도코드',\n",
    "                '신장(5Cm단위)', '체중(5Kg단위)', '허리둘레', '시력(좌)', '시력(우)',\n",
    "                '청력(좌)', '청력(우)', '수축기혈압', '이완기혈압', '식전혈당(공복혈당)',\n",
    "                '총콜레스테롤', '트리글리세라이드', 'HDL콜레스테롤', 'LDL콜레스테롤', '혈색소', \n",
    "                '요단백', '혈청크레아티닌', '(혈청지오티)AST', '(혈청지오티)ALT', '감마지티피',\n",
    "                '흡연상태', '음주여부', '구강검진수검여부', '치아우식증유무', '결손치유무',\n",
    "                '치아마모증유무', '제3대구치(사랑니)이상', '치석', '데이터공개일자']\n",
    "    return features"
   ]
  },
  {
   "cell_type": "markdown",
   "metadata": {},
   "source": [
    "# Scaling"
   ]
  },
  {
   "cell_type": "code",
   "execution_count": 510,
   "metadata": {
    "ExecuteTime": {
     "end_time": "2021-04-09T17:49:04.321063Z",
     "start_time": "2021-04-09T17:49:04.316754Z"
    },
    "code_folding": []
   },
   "outputs": [],
   "source": [
    "# scaler = MinMaxScaler()\n",
    "# X = scaler.fit_transform(X[:])\n",
    "def scale_robust(X_train, X_test):\n",
    "    robustScaler = RobustScaler()\n",
    "    robustScaler.fit(X_train[:])\n",
    "    X_train = robustScaler.transform(X_train[:])\n",
    "    X_test = robustScaler.transform(X_test[:])\n",
    "#     print(f'Sample Scaled Data : {X_train[0]}')\n",
    "    return [X_train[:], X_test[:]]"
   ]
  },
  {
   "cell_type": "markdown",
   "metadata": {},
   "source": [
    "# Split Training, Test Set\n",
    "(If required)"
   ]
  },
  {
   "cell_type": "code",
   "execution_count": 511,
   "metadata": {
    "ExecuteTime": {
     "end_time": "2021-04-09T17:49:06.049706Z",
     "start_time": "2021-04-09T17:49:06.046486Z"
    },
    "code_folding": [
     0
    ]
   },
   "outputs": [],
   "source": [
    "def split_set(X, y):\n",
    "    # X_train, X_test, y_train, y_test\n",
    "    return train_test_split(X, y, test_size=0.2, random_state=42, stratify=y)"
   ]
  },
  {
   "cell_type": "markdown",
   "metadata": {},
   "source": [
    "# Reset Labels with new FBS Pivot"
   ]
  },
  {
   "cell_type": "code",
   "execution_count": 16,
   "metadata": {
    "ExecuteTime": {
     "end_time": "2021-04-06T02:18:01.904040Z",
     "start_time": "2021-04-06T02:18:01.899863Z"
    },
    "code_folding": [
     0
    ]
   },
   "outputs": [],
   "source": [
    "def reset_fbs(fbs:int, year):\n",
    "    read_new = ReadData(year=year)\n",
    "    X, y = read_new.read(FBS_PIVOT=fbs)\n",
    "    return [X,y]"
   ]
  },
  {
   "cell_type": "markdown",
   "metadata": {},
   "source": [
    "# Logistic Regression"
   ]
  },
  {
   "cell_type": "code",
   "execution_count": 719,
   "metadata": {
    "ExecuteTime": {
     "end_time": "2021-04-10T09:53:37.713976Z",
     "start_time": "2021-04-10T09:53:37.698362Z"
    },
    "code_folding": []
   },
   "outputs": [],
   "source": [
    "class DiabetesModelingLR():\n",
    "    def __init__(self):\n",
    "        self.X = None\n",
    "        self.y = None\n",
    "        self.X_train = None\n",
    "        self.y_train = None\n",
    "        self.X_test = None\n",
    "        self.y_test = None\n",
    "        self.clf = None\n",
    "        self.training_size = None\n",
    "        self.testing_size = None\n",
    "        self.SCALE = True\n",
    "    def make_model(self, X=None, y=None, X_train=None, y_train=None, \n",
    "                   X_test=None, y_test=None, CV=False):\n",
    "        if X:\n",
    "            self.X, self.y = X, y\n",
    "            self.X_train, self.X_test, self.y_train, self.y_test = split_set(X, y)\n",
    "        else:\n",
    "            self.X_train, self.y_train = X_train, y_train\n",
    "            self.X_test, self.y_test = X_test, y_test\n",
    "            \n",
    "        if self.X_train.shape[1] != self.X_test.shape[1]:\n",
    "            raise Exception('Training Set과 Test Set의 Feature가 다릅니다.')\n",
    "        if self.SCALE:\n",
    "            self.X_train, self.X_test = scale_robust(self.X_train, self.X_test)\n",
    "            \n",
    "        self.training_size = len(self.X_train)\n",
    "        self.testing_size = len(self.X_test)\n",
    "        \n",
    "        if CV:\n",
    "            self.clf = LogisticRegressionCV(cv=5, solver='saga', penalty='l2')\n",
    "        else:\n",
    "            self.clf = LogisticRegression(C=1e-2, solver='saga', penalty='l2')\n",
    "            \n",
    "        self.clf.fit(self.X_train, self.y_train)\n",
    "        \n",
    "    def get_result(self):\n",
    "        clf = self.clf\n",
    "        accuracy = round(accuracy_score(self.y_test, clf.predict(self.X_test)), 5)\n",
    "        y_predict = clf.predict(self.X_test)\n",
    "        clf_report = classification_report(self.y_test, y_predict, target_names=['건강','당뇨'])\n",
    "        return [accuracy, clf_report]\n",
    "    \n",
    "    def show_result(self):\n",
    "        clf = self.clf\n",
    "        print(f'Training size : {self.training_size:,} Testing Size : {self.testing_size:,}')\n",
    "        counts = np.unique(self.y_test, return_counts = True)[1]\n",
    "        print(f'Test Set 당뇨병 인원수 : {counts[1]:,}명, 비당뇨병 인원수 : {counts[0]:,}명\\n')\n",
    "        print(f'Accuracy score: {round(accuracy_score(self.y_test, clf.predict(self.X_test)), 5)}\\n')\n",
    "\n",
    "        y_predict = clf.predict(self.X_test)\n",
    "        print(classification_report(self.y_test, y_predict, target_names=['건강','당뇨']))\n",
    "        cm = confusion_matrix(self.y_test, y_predict)\n",
    "        print('Confusion Matrix\\n', cm)"
   ]
  },
  {
   "cell_type": "code",
   "execution_count": 699,
   "metadata": {
    "ExecuteTime": {
     "end_time": "2021-04-10T08:36:35.498969Z",
     "start_time": "2021-04-10T08:07:19.766830Z"
    }
   },
   "outputs": [],
   "source": [
    "cvmodel = DiabetesModelingLR()\n",
    "cvmodel.make_model(X=data2017.X, y=data2017.y, CV=True)\n",
    "# data size 0.9M, time 29m"
   ]
  },
  {
   "cell_type": "code",
   "execution_count": 700,
   "metadata": {
    "ExecuteTime": {
     "end_time": "2021-04-10T08:37:18.575809Z",
     "start_time": "2021-04-10T08:36:35.610027Z"
    }
   },
   "outputs": [],
   "source": [
    "no_cv_model = DiabetesModelingLR()\n",
    "no_cv_model.make_model(X=data2017.X, y=data2017.y, CV=False)"
   ]
  },
  {
   "cell_type": "code",
   "execution_count": 701,
   "metadata": {
    "ExecuteTime": {
     "end_time": "2021-04-10T08:37:19.118804Z",
     "start_time": "2021-04-10T08:37:18.682556Z"
    }
   },
   "outputs": [
    {
     "name": "stdout",
     "output_type": "stream",
     "text": [
      "Training size : 774064 Testing Size : 193517\n",
      "당뇨병 판별 환자 수 : 44698, 비당뇨병 판별수 : 922883\n",
      "\n",
      "Accuracy score: 0.99775\n",
      "\n",
      "              precision    recall  f1-score   support\n",
      "\n",
      "          건강       1.00      1.00      1.00    184577\n",
      "          당뇨       1.00      0.95      0.98      8940\n",
      "\n",
      "    accuracy                           1.00    193517\n",
      "   macro avg       1.00      0.98      0.99    193517\n",
      "weighted avg       1.00      1.00      1.00    193517\n",
      "\n",
      "Confusion Matrix\n",
      " [[184577      0]\n",
      " [   435   8505]]\n"
     ]
    }
   ],
   "source": [
    "cvmodel.show_result()"
   ]
  },
  {
   "cell_type": "code",
   "execution_count": 702,
   "metadata": {
    "ExecuteTime": {
     "end_time": "2021-04-10T08:37:19.579720Z",
     "start_time": "2021-04-10T08:37:19.167906Z"
    }
   },
   "outputs": [
    {
     "name": "stdout",
     "output_type": "stream",
     "text": [
      "Training size : 774064 Testing Size : 193517\n",
      "당뇨병 판별 환자 수 : 44698, 비당뇨병 판별수 : 922883\n",
      "\n",
      "Accuracy score: 0.9936\n",
      "\n",
      "              precision    recall  f1-score   support\n",
      "\n",
      "          건강       0.99      1.00      1.00    184577\n",
      "          당뇨       1.00      0.86      0.93      8940\n",
      "\n",
      "    accuracy                           0.99    193517\n",
      "   macro avg       1.00      0.93      0.96    193517\n",
      "weighted avg       0.99      0.99      0.99    193517\n",
      "\n",
      "Confusion Matrix\n",
      " [[184576      1]\n",
      " [  1237   7703]]\n"
     ]
    }
   ],
   "source": [
    "no_cv_model.show_result()"
   ]
  },
  {
   "cell_type": "code",
   "execution_count": 720,
   "metadata": {
    "ExecuteTime": {
     "end_time": "2021-04-10T09:54:40.550484Z",
     "start_time": "2021-04-10T09:53:42.831147Z"
    }
   },
   "outputs": [
    {
     "name": "stderr",
     "output_type": "stream",
     "text": [
      "/Library/Frameworks/Python.framework/Versions/3.7/lib/python3.7/site-packages/sklearn/linear_model/sag.py:337: ConvergenceWarning: The max_iter was reached which means the coef_ did not converge\n",
      "  \"the coef_ did not converge\", ConvergenceWarning)\n"
     ]
    }
   ],
   "source": [
    "# training data = year 2017, test data = year 2018\n",
    "model = DiabetesModelingLR()\n",
    "model.make_model(X_train=data2017.X, y_train=data2017.y, X_test=data2018.X, y_test=data2018.y)"
   ]
  },
  {
   "cell_type": "code",
   "execution_count": 721,
   "metadata": {
    "ExecuteTime": {
     "end_time": "2021-04-10T09:54:41.371242Z",
     "start_time": "2021-04-10T09:54:40.595511Z"
    }
   },
   "outputs": [
    {
     "name": "stdout",
     "output_type": "stream",
     "text": [
      "Training size : 967,581 Testing Size : 316,711\n",
      "Test Set 당뇨병 인원수 : 16,491명, 비당뇨병 인원수 : 300,220명\n",
      "\n",
      "Accuracy score: 0.99379\n",
      "\n",
      "              precision    recall  f1-score   support\n",
      "\n",
      "          건강       0.99      1.00      1.00    300220\n",
      "          당뇨       1.00      0.88      0.94     16491\n",
      "\n",
      "    accuracy                           0.99    316711\n",
      "   macro avg       1.00      0.94      0.97    316711\n",
      "weighted avg       0.99      0.99      0.99    316711\n",
      "\n",
      "Confusion Matrix\n",
      " [[300219      1]\n",
      " [  1965  14526]]\n"
     ]
    }
   ],
   "source": [
    "model.show_result()"
   ]
  },
  {
   "cell_type": "markdown",
   "metadata": {},
   "source": [
    "# Grid Search by Features\n",
    "### (not hyper-parameters)"
   ]
  },
  {
   "cell_type": "code",
   "execution_count": null,
   "metadata": {
    "ExecuteTime": {
     "end_time": "2021-04-09T16:26:19.045511Z",
     "start_time": "2021-04-09T16:26:15.501280Z"
    },
    "code_folding": [],
    "scrolled": false
   },
   "outputs": [],
   "source": [
    "# grid_features = ['트리글리세라이드', '총콜레스테롤', 'LDL콜레스테롤', '허리둘레', \n",
    "#                  '감마지티피', '혈색소', '(혈청지오티)ALT', '(혈청지오티)AST']\n",
    "# hw = ['신장(5Cm단위)', '체중(5Kg단위)']\n",
    "# combs, feature_combinations = [], []\n",
    "# for i in range(1, len(grid_features)):\n",
    "#     t = []\n",
    "#     t.append(list(itertools.combinations(grid_features, i)))\n",
    "#     for j in range(len(t)):\n",
    "#         combs.append(t[j])\n",
    "# for f in combs: \n",
    "#     for ff in f:\n",
    "#         feature_combinations.append(list(ff))\n",
    "# for feature in feature_combinations:\n",
    "#     data = ReadData(2017)\n",
    "#     data.read(feature, calculate_BMI=True, FBS_PIVOT=140, return_data=False, DATASIZE=100)"
   ]
  },
  {
   "cell_type": "code",
   "execution_count": 345,
   "metadata": {
    "ExecuteTime": {
     "end_time": "2021-04-09T15:08:46.340634Z",
     "start_time": "2021-04-09T15:08:44.846040Z"
    }
   },
   "outputs": [
    {
     "name": "stdout",
     "output_type": "stream",
     "text": [
      "체중(5Kg단위)에서 100보다 큰 값들입니다.(총 9476명, 비율: 0.95%, 최댓값: 140.0)\n",
      "\n",
      "120.0\n",
      "105.0\n",
      "100.0\n",
      "105.0\n",
      "110.0\n",
      "100.0\n",
      "100.0\n",
      "110.0\n",
      "105.0\n",
      "100.0\n",
      "100.0\n",
      "105.0\n",
      "100.0\n",
      "100.0\n",
      "100.0\n",
      "105.0\n",
      "105.0\n",
      "105.0\n",
      "105.0\n",
      "100.0\n"
     ]
    }
   ],
   "source": [
    "test.show_outliers(feature='체중(5Kg단위)', pivot=100, not_diabetes_only=False)"
   ]
  },
  {
   "cell_type": "code",
   "execution_count": 334,
   "metadata": {
    "ExecuteTime": {
     "end_time": "2021-04-09T15:04:16.037558Z",
     "start_time": "2021-04-09T15:04:14.480299Z"
    },
    "scrolled": true
   },
   "outputs": [
    {
     "name": "stdout",
     "output_type": "stream",
     "text": [
      "총콜레스테롤에서 500보다 큰 값들입니다.(총 62명, 비율: 0.01%, 최댓값: 2344.0)\n",
      "\n",
      "1619.0\n",
      "600.0\n",
      "700.0\n",
      "500.0\n",
      "567.0\n",
      "633.0\n",
      "1030.0\n",
      "650.0\n",
      "559.0\n",
      "656.0\n",
      "599.0\n",
      "744.0\n",
      "715.0\n",
      "1196.0\n",
      "642.0\n",
      "506.0\n",
      "730.0\n",
      "725.0\n",
      "511.0\n",
      "2196.0\n"
     ]
    }
   ],
   "source": [
    "# show_outliers(self, feature, pivot, not_diabetes_only=True)\n",
    "look.show_outliers(feature='총콜레스테롤', pivot=500, not_diabetes_only=False)"
   ]
  },
  {
   "cell_type": "code",
   "execution_count": 374,
   "metadata": {
    "ExecuteTime": {
     "end_time": "2021-04-09T15:35:40.753920Z",
     "start_time": "2021-04-09T15:35:39.133638Z"
    }
   },
   "outputs": [
    {
     "name": "stdout",
     "output_type": "stream",
     "text": [
      "식전혈당(공복혈당)에서 600보다 큰 값들입니다.(총 15명, 비율: 0.00%, 최댓값: 852.0)\n",
      "\n",
      "685.0\n",
      "629.0\n",
      "616.0\n",
      "663.0\n",
      "769.0\n",
      "617.0\n",
      "629.0\n",
      "627.0\n",
      "800.0\n",
      "801.0\n",
      "611.0\n",
      "638.0\n",
      "784.0\n",
      "852.0\n",
      "741.0\n"
     ]
    }
   ],
   "source": [
    "look.show_outliers(feature='식전혈당(공복혈당)', pivot=600, not_diabetes_only=False)"
   ]
  },
  {
   "cell_type": "code",
   "execution_count": 335,
   "metadata": {
    "ExecuteTime": {
     "end_time": "2021-04-09T15:04:17.621958Z",
     "start_time": "2021-04-09T15:04:16.129854Z"
    },
    "scrolled": true
   },
   "outputs": [
    {
     "name": "stdout",
     "output_type": "stream",
     "text": [
      "트리글리세라이드에서 700보다 큰 값들입니다.(총 3632명, 비율: 0.36%, 최댓값: 9490.0)\n",
      "\n",
      "794.0\n",
      "759.0\n",
      "1027.0\n",
      "806.0\n",
      "772.0\n",
      "868.0\n",
      "786.0\n",
      "863.0\n",
      "764.0\n",
      "962.0\n",
      "755.0\n",
      "1038.0\n",
      "862.0\n",
      "742.0\n",
      "712.0\n",
      "1113.0\n",
      "740.0\n",
      "1070.0\n",
      "841.0\n",
      "715.0\n"
     ]
    }
   ],
   "source": [
    "look.show_outliers(feature='트리글리세라이드', pivot=700, not_diabetes_only=False)"
   ]
  },
  {
   "cell_type": "code",
   "execution_count": 342,
   "metadata": {
    "ExecuteTime": {
     "end_time": "2021-04-09T15:04:45.310855Z",
     "start_time": "2021-04-09T15:04:43.830245Z"
    },
    "scrolled": true
   },
   "outputs": [
    {
     "name": "stdout",
     "output_type": "stream",
     "text": [
      "LDL콜레스테롤에서 300보다 큰 값들입니다.(총 206명, 비율: 0.02%, 최댓값: 5119.0)\n",
      "\n",
      "325.0\n",
      "5119.0\n",
      "322.0\n",
      "321.0\n",
      "310.0\n",
      "350.0\n",
      "319.0\n",
      "309.0\n",
      "323.0\n",
      "339.0\n",
      "404.0\n",
      "331.0\n",
      "1660.0\n",
      "1750.0\n",
      "339.0\n",
      "303.0\n",
      "305.0\n",
      "353.0\n",
      "393.0\n",
      "1410.0\n"
     ]
    }
   ],
   "source": [
    "look.show_outliers(feature='LDL콜레스테롤', pivot=300, not_diabetes_only=False)"
   ]
  },
  {
   "cell_type": "code",
   "execution_count": 337,
   "metadata": {
    "ExecuteTime": {
     "end_time": "2021-04-09T15:04:20.866995Z",
     "start_time": "2021-04-09T15:04:19.461883Z"
    },
    "scrolled": true
   },
   "outputs": [
    {
     "name": "stdout",
     "output_type": "stream",
     "text": [
      "허리둘레에서 150보다 큰 값들입니다.(총 57명, 비율: 0.01%, 최댓값: 999.0)\n",
      "\n",
      "999.0\n",
      "999.0\n",
      "999.0\n",
      "999.0\n",
      "999.0\n",
      "999.0\n",
      "999.0\n",
      "999.0\n",
      "999.0\n",
      "999.0\n",
      "999.0\n",
      "999.0\n",
      "999.0\n",
      "999.0\n",
      "999.0\n",
      "999.0\n",
      "999.0\n",
      "999.0\n",
      "999.0\n",
      "999.0\n"
     ]
    }
   ],
   "source": [
    "look.show_outliers(feature='허리둘레', pivot=150, not_diabetes_only=False)"
   ]
  },
  {
   "cell_type": "code",
   "execution_count": 338,
   "metadata": {
    "ExecuteTime": {
     "end_time": "2021-04-09T15:04:22.382724Z",
     "start_time": "2021-04-09T15:04:20.943545Z"
    }
   },
   "outputs": [
    {
     "name": "stdout",
     "output_type": "stream",
     "text": [
      "감마지티피에서 300보다 큰 값들입니다.(총 5826명, 비율: 0.58%, 최댓값: 999.0)\n",
      "\n",
      "306.0\n",
      "521.0\n",
      "513.0\n",
      "311.0\n",
      "311.0\n",
      "871.0\n",
      "538.0\n",
      "490.0\n",
      "805.0\n",
      "389.0\n",
      "314.0\n",
      "999.0\n",
      "320.0\n",
      "305.0\n",
      "429.0\n",
      "562.0\n",
      "342.0\n",
      "355.0\n",
      "428.0\n",
      "374.0\n"
     ]
    }
   ],
   "source": [
    "look.show_outliers(feature='감마지티피', pivot=300, not_diabetes_only=False)"
   ]
  },
  {
   "cell_type": "code",
   "execution_count": 339,
   "metadata": {
    "ExecuteTime": {
     "end_time": "2021-04-09T15:04:23.888958Z",
     "start_time": "2021-04-09T15:04:22.491135Z"
    },
    "scrolled": true
   },
   "outputs": [
    {
     "name": "stdout",
     "output_type": "stream",
     "text": [
      "혈색소에서 18보다 큰 값들입니다.(총 3551명, 비율: 0.36%, 최댓값: 25.0)\n",
      "\n",
      "18.1\n",
      "18.0\n",
      "18.4\n",
      "18.0\n",
      "18.4\n",
      "19.8\n",
      "19.3\n",
      "18.1\n",
      "18.8\n",
      "18.0\n",
      "18.1\n",
      "18.1\n",
      "18.7\n",
      "18.4\n",
      "18.7\n",
      "18.6\n",
      "18.1\n",
      "18.8\n",
      "18.2\n",
      "18.1\n"
     ]
    }
   ],
   "source": [
    "look.show_outliers(feature='혈색소', pivot=18, not_diabetes_only=False)"
   ]
  },
  {
   "cell_type": "code",
   "execution_count": 340,
   "metadata": {
    "ExecuteTime": {
     "end_time": "2021-04-09T15:04:25.771084Z",
     "start_time": "2021-04-09T15:04:23.989069Z"
    }
   },
   "outputs": [
    {
     "name": "stdout",
     "output_type": "stream",
     "text": [
      "(혈청지오티)ALT에서 기준치 200 이상이며, 당뇨가 아닌 사람들의 값입니다. (총 1155명, 비율: 0.12%, 최댓값: 7210.0)\n",
      "\n",
      " INDEX       (혈청지오티)ALT           식전혈당(공복혈당)        BMI\n",
      "   581                    311                           93      23.88\n",
      "   669                    236                           93      22.49\n",
      "  1461                    227                          103      34.29\n",
      "  1931                    321                           98      29.39\n",
      "  2400                    232                          101      22.04\n",
      "  2759                    202                          110      34.29\n",
      "  3135                    207                          111      27.68\n",
      "  4739                    430                          111      19.03\n",
      "  5625                    210                           98      24.22\n",
      "  6745                    249                          109      31.14\n",
      "  8575                    269                          113      21.48\n",
      "  9460                    253                           91      20.81\n",
      "  9603                    308                           93      22.04\n",
      " 10198                    206                          109      31.14\n",
      " 12836                    235                          106      27.34\n",
      " 14365                    336                          102      32.65\n",
      " 15760                    659                          106      24.44\n",
      " 16450                    265                           98      34.29\n",
      " 17361                    315                           74      21.48\n",
      " 17765                    427                           94      22.22\n"
     ]
    }
   ],
   "source": [
    "look.show_outliers(feature='(혈청지오티)ALT', pivot=200, not_diabetes_only=True)"
   ]
  },
  {
   "cell_type": "code",
   "execution_count": 341,
   "metadata": {
    "ExecuteTime": {
     "end_time": "2021-04-09T15:04:27.371325Z",
     "start_time": "2021-04-09T15:04:25.863190Z"
    }
   },
   "outputs": [
    {
     "name": "stdout",
     "output_type": "stream",
     "text": [
      "(혈청지오티)AST에서 200보다 큰 값들입니다.(총 1024명, 비율: 0.10%, 최댓값: 9999.0)\n",
      "\n",
      "278.0\n",
      "220.0\n",
      "224.0\n",
      "911.0\n",
      "237.0\n",
      "277.0\n",
      "218.0\n",
      "264.0\n",
      "292.0\n",
      "307.0\n",
      "251.0\n",
      "208.0\n",
      "213.0\n",
      "295.0\n",
      "217.0\n",
      "323.0\n",
      "356.0\n",
      "924.0\n",
      "206.0\n",
      "262.0\n"
     ]
    }
   ],
   "source": [
    "look.show_outliers(feature='(혈청지오티)AST', pivot=200, not_diabetes_only=False)"
   ]
  },
  {
   "cell_type": "markdown",
   "metadata": {},
   "source": [
    "# Support Vector Machine"
   ]
  },
  {
   "cell_type": "code",
   "execution_count": 92,
   "metadata": {
    "ExecuteTime": {
     "end_time": "2021-04-01T17:30:06.357586Z",
     "start_time": "2021-04-01T17:30:06.340226Z"
    },
    "code_folding": [
     0
    ]
   },
   "outputs": [],
   "source": [
    "class DiabetesModelingSVM():\n",
    "    def __init__(self, X=None, y=None):\n",
    "        self.X = X\n",
    "        self.y = y\n",
    "        self.X_train = None\n",
    "        self.y_train = None\n",
    "        self.X_test = None\n",
    "        self.y_test = None\n",
    "        self.clf = None\n",
    "        self.training_size = None\n",
    "        self.testing_size = None\n",
    "        self.CROSSVAL=False\n",
    "        self.SPLIT_DATA = True\n",
    "        self.RESET_FBS = False\n",
    "    def SVM(self):\n",
    "        X, y = self.X, self.y\n",
    "        if self.RESET_FBS:\n",
    "            FBS = 120\n",
    "            year = 2017\n",
    "            X, y = reset_fbs(fbs=FBS, year=year)\n",
    "        if self.SPLIT_DATA:\n",
    "            X_train, X_test, y_train, y_test = split_set(X, y)\n",
    "            self.X_train, self.X_test, self.y_train, self.y_test = [\n",
    "                X_train, X_test, y_train, y_test]\n",
    "        if X_train.shape[1] != X_test.shape[1]:\n",
    "            raise Exception('Training Set과 Test Set의 Feature가 다릅니다.')\n",
    "\n",
    "        self.training_size = len(X_train)\n",
    "        self.testing_size = len(X_test)\n",
    "        self.clf = SVC(random_state=42, decision_function_shape='ovo', kernel='rbf',\n",
    "                      gamma=0.1, C=0.0001)\n",
    "#         self.clf = SVC(C=1e-2, multi_class='ovr',\n",
    "#                                  penalty='l2', solver='liblinear', tol=0.1)\n",
    "#         if self.CROSSVAL:\n",
    "#             self.clf = LogisticRegressionCV(C=1, multi_class='ovr', cv=5,\n",
    "#                                  penalty='l2', solver='saga', tol=0.1)\n",
    "\n",
    "        self.clf.fit(X_train, y_train)\n",
    "        clear_output()\n",
    "        y_predict = self.clf.predict(X_test)\n",
    "        \n",
    "    def show_result(self):\n",
    "        clf = self.clf\n",
    "        print('Training size : %d Testing Size : %d' %(self.training_size, self.testing_size))\n",
    "        counts = np.unique(self.y, return_counts = True)[1]\n",
    "        print(f'당뇨병 판별 환자 수 : {counts[1]}, 비당뇨병 판별수 : {counts[0]}\\n')\n",
    "        print(f'Accuracy score: {round(accuracy_score(self.y_test, clf.predict(self.X_test)), 5)}\\n')\n",
    "\n",
    "        y_predict = clf.predict(self.X_test)\n",
    "        print(classification_report(self.y_test, y_predict, target_names=['건강','당뇨']))\n",
    "        cm = confusion_matrix(self.y_test, y_predict)\n",
    "        print('Confusion Matrix\\n', cm)"
   ]
  },
  {
   "cell_type": "markdown",
   "metadata": {},
   "source": [
    "## Data Resize Required"
   ]
  },
  {
   "cell_type": "code",
   "execution_count": 93,
   "metadata": {
    "ExecuteTime": {
     "end_time": "2021-04-01T18:52:56.310370Z",
     "start_time": "2021-04-01T17:30:07.466642Z"
    }
   },
   "outputs": [],
   "source": [
    "model2017SVM = DiabetesModelingSVM(X,y)\n",
    "model2017SVM.SVM()\n",
    "# 1h 22m"
   ]
  },
  {
   "cell_type": "code",
   "execution_count": 94,
   "metadata": {
    "ExecuteTime": {
     "end_time": "2021-04-02T06:26:19.771416Z",
     "start_time": "2021-04-02T05:33:28.020434Z"
    },
    "scrolled": true
   },
   "outputs": [
    {
     "name": "stdout",
     "output_type": "stream",
     "text": [
      "Training size : 797654 Testing Size : 199414\n",
      "당뇨병 판별 환자 수 : 46063, 비당뇨병 판별수 : 951005\n",
      "\n",
      "Accuracy score: 0.9537996329244687\n",
      "\n"
     ]
    },
    {
     "name": "stderr",
     "output_type": "stream",
     "text": [
      "c:\\users\\admin\\appdata\\local\\programs\\python\\python38\\lib\\site-packages\\sklearn\\metrics\\_classification.py:1245: UndefinedMetricWarning: Precision and F-score are ill-defined and being set to 0.0 in labels with no predicted samples. Use `zero_division` parameter to control this behavior.\n",
      "  _warn_prf(average, modifier, msg_start, len(result))\n",
      "c:\\users\\admin\\appdata\\local\\programs\\python\\python38\\lib\\site-packages\\sklearn\\metrics\\_classification.py:1245: UndefinedMetricWarning: Precision and F-score are ill-defined and being set to 0.0 in labels with no predicted samples. Use `zero_division` parameter to control this behavior.\n",
      "  _warn_prf(average, modifier, msg_start, len(result))\n",
      "c:\\users\\admin\\appdata\\local\\programs\\python\\python38\\lib\\site-packages\\sklearn\\metrics\\_classification.py:1245: UndefinedMetricWarning: Precision and F-score are ill-defined and being set to 0.0 in labels with no predicted samples. Use `zero_division` parameter to control this behavior.\n",
      "  _warn_prf(average, modifier, msg_start, len(result))\n"
     ]
    },
    {
     "name": "stdout",
     "output_type": "stream",
     "text": [
      "              precision    recall  f1-score   support\n",
      "\n",
      "          건강       0.95      1.00      0.98    190201\n",
      "          당뇨       0.00      0.00      0.00      9213\n",
      "\n",
      "    accuracy                           0.95    199414\n",
      "   macro avg       0.48      0.50      0.49    199414\n",
      "weighted avg       0.91      0.95      0.93    199414\n",
      "\n",
      "Confusion Matrix\n",
      " [[190201      0]\n",
      " [  9213      0]]\n"
     ]
    }
   ],
   "source": [
    "model2017SVM.show_result()\n",
    "# 52m"
   ]
  },
  {
   "cell_type": "markdown",
   "metadata": {},
   "source": [
    "# Grid Search"
   ]
  },
  {
   "cell_type": "code",
   "execution_count": 114,
   "metadata": {
    "ExecuteTime": {
     "end_time": "2021-04-02T16:16:24.466112Z",
     "start_time": "2021-04-02T16:16:24.448255Z"
    }
   },
   "outputs": [],
   "source": [
    "class GridSearch():\n",
    "    def __init__(self, grid_parameters, model=LogisticRegression, X=X, y=y):\n",
    "        self.model = model\n",
    "        self.grid_parameters = grid_parameters\n",
    "        self.X = X\n",
    "        self.y = y\n",
    "        self.clf = None\n",
    "        self.best_parameters = None\n",
    "        self.best_estimator = None\n",
    "        \n",
    "    def make_estimator(self, model, X=None, y=None, default_parameters=None,\n",
    "                       grid_parameters=None, cross_validation:int=5):\n",
    "        clf = model(**default_parameters)\n",
    "        estimator = GridSearchCV(clf, grid_parameters, cv=cross_validation, n_jobs=-1)\n",
    "        estimator.fit(X,y)\n",
    "        \n",
    "        return estimator\n",
    "    \n",
    "    def grid_search(self):\n",
    "        X_train, X_test, y_train, y_test = split_set(self.X, self.y)\n",
    "        self.clf = self.make_estimator(X=X_train, y=y_train, model=self.model,\n",
    "                                       default_parameters=dict(solver='lbfgs'),\n",
    "                                       grid_parameters=self.grid_parameters)\n",
    "        self.best_parameters = clf.best_params_\n",
    "        self.best_estimator = clf.best_estimator_\n",
    "\n",
    "        # get best accuracy on training set\n",
    "        print('Input Grid Parameters')\n",
    "        print(self.grid_parameters)\n",
    "        \n",
    "        print('Accuracy on training set')\n",
    "        print(round(self.clf.best_score_, 5))\n",
    "\n",
    "        print('Accuracy on test set')\n",
    "        print(round(self.best_estimator.score(X_test, y_test), 5))\n",
    "\n",
    "        print(f'Best Parameters : {self.best_parameters}')"
   ]
  },
  {
   "cell_type": "code",
   "execution_count": 115,
   "metadata": {
    "ExecuteTime": {
     "end_time": "2021-04-02T16:17:45.220851Z",
     "start_time": "2021-04-02T16:16:29.051631Z"
    },
    "scrolled": false
   },
   "outputs": [
    {
     "name": "stdout",
     "output_type": "stream",
     "text": [
      "Input Grid Parameters\n",
      "{'C': [0.1, 1, 1000]}\n",
      "Accuracy on training set\n",
      "0.95346\n",
      "Accuracy on test set\n",
      "0.9538\n",
      "Best Parameters : {'C': 0.0001, 'gamma': 0.1}\n"
     ]
    }
   ],
   "source": [
    "grid_parameters = {\n",
    "    'C': [1e-1, 1, 1000]\n",
    "#     'penalty': ['l1', 'l2'],\n",
    "#     'batch_size':[1, 10, 60, 100, 600]\n",
    "#     'epochs':[5, 10, 25, 50, 200]\n",
    "#     'C': [1e-4, 1e-4, 1e-3, 1e-2, 1e-1, 1, 1000], # 1000 means no regularization\n",
    "#     'solver': ['saga']\n",
    "}\n",
    "grid_search_2017_LR = GridSearch(grid_parameters=grid_parameters, model=LogisticRegression)\n",
    "grid_search_2017_LR.grid_search()"
   ]
  },
  {
   "cell_type": "code",
   "execution_count": 39,
   "metadata": {
    "ExecuteTime": {
     "end_time": "2021-04-06T13:48:06.547929Z",
     "start_time": "2021-04-06T13:48:06.515074Z"
    }
   },
   "outputs": [],
   "source": [
    "def scale(train_data, scatter_show_YN=False, kdeplot_show_YN=False):    \n",
    "    from sklearn.preprocessing import MinMaxScaler\n",
    "    minMaxScaler = MinMaxScaler()\n",
    "    %time print(minMaxScaler.fit(train_data))\n",
    "    train_data_minMaxScaled =  pd.DataFrame(minMaxScaler.transform(train_data), columns=['x1', 'x2'])\n",
    "\n",
    "    from sklearn.preprocessing import MaxAbsScaler\n",
    "    maxAbsScaler = MaxAbsScaler()\n",
    "    %time print(maxAbsScaler.fit(train_data))\n",
    "    train_data_maxAbsScaled = pd.DataFrame(maxAbsScaler.transform(train_data), columns=['x1', 'x2'])\n",
    "\n",
    "    from sklearn.preprocessing import StandardScaler\n",
    "    standardScaler = StandardScaler()\n",
    "    %time print(standardScaler.fit(train_data))\n",
    "    train_data_standardScaled = pd.DataFrame(standardScaler.transform(train_data), columns=['x1', 'x2'])\n",
    "\n",
    "    from sklearn.preprocessing import RobustScaler\n",
    "    robustScaler = RobustScaler()\n",
    "    %time print(robustScaler.fit(train_data))\n",
    "    train_data_robustScaled = pd.DataFrame(robustScaler.transform(train_data), columns=['x1', 'x2'])\n",
    "\n",
    "    if(kdeplot_show_YN is True):\n",
    "        kdeplot_show(train_data, train_data_minMaxScaled, train_data_maxAbsScaled, train_data_standardScaled, train_data_robustScaled)    \n",
    "    \n",
    "    if(scatter_show_YN is True):\n",
    "        scatter_show(train_data, train_data_minMaxScaled, train_data_maxAbsScaled, train_data_standardScaled, train_data_robustScaled)"
   ]
  },
  {
   "cell_type": "code",
   "execution_count": 40,
   "metadata": {
    "ExecuteTime": {
     "end_time": "2021-04-06T13:48:07.184777Z",
     "start_time": "2021-04-06T13:48:07.171352Z"
    }
   },
   "outputs": [],
   "source": [
    "def scatter_show(train_data, train_data_minMaxScaled, train_data_maxAbsScaled, train_data_standardScaled, train_data_robustScaled):    \n",
    "    fig, ax = plt.subplots(nrows=1, ncols=5, figsize=(19,4))\n",
    "    scatter_sub_draw(sub_ax=ax[0], x=train_data['x1'], y=train_data['x2'],\n",
    "                                  title='train_data', size=2, color1='k', color2='c')\n",
    "    scatter_sub_draw(sub_ax=ax[1], x=train_data_minMaxScaled['x1'], y=train_data_minMaxScaled['x2'],\n",
    "                                  title='train_data_minMaxScaled', size=2, color1='g', color2='c')\n",
    "    scatter_sub_draw(sub_ax=ax[2], x=train_data_maxAbsScaled['x1'], y=train_data_maxAbsScaled['x2'],\n",
    "                                  title='train_data_maxAbsScaled', size=2, color1='g', color2='c')\n",
    "    scatter_sub_draw(sub_ax=ax[3], x=train_data_standardScaled['x1'], y=train_data_standardScaled['x2'],\n",
    "                                  title='train_data_standardScaled', size=2, color1='g', color2='c')\n",
    "    scatter_sub_draw(sub_ax=ax[4], x=train_data_robustScaled['x1'], y=train_data_robustScaled['x2'],\n",
    "                                  title='train_data_robustScaled', size=2, color1='g', color2='c')\n",
    "    \n",
    "def scatter_sub_draw(sub_ax, x, y, title, size, color1, color2):\n",
    "    sub_ax.scatter(x, y, s=size, color=color1)\n",
    "    sub_ax.grid(True)\n",
    "    sub_ax.set_title(title)\n",
    "    sub_ax.set_xlabel(x.name)\n",
    "    sub_ax.set_ylabel(y.name)\n",
    "    # median  line draw\n",
    "    sub_ax.axvline(x=x.median(), color=color2, linestyle='--', linewidth=0.5)\n",
    "    sub_ax.axhline(y=y.median(), color=color2, linestyle='--', linewidth=0.5)"
   ]
  },
  {
   "cell_type": "code",
   "execution_count": 41,
   "metadata": {
    "ExecuteTime": {
     "end_time": "2021-04-06T13:48:07.700963Z",
     "start_time": "2021-04-06T13:48:07.686324Z"
    }
   },
   "outputs": [],
   "source": [
    "def kdeplot_show(train_data, train_data_minMaxScaled, train_data_maxAbsScaled, train_data_standardScaled, train_data_robustScaled):\n",
    "    fig, ax = plt.subplots(nrows=1, ncols=5, figsize=(19,4))\n",
    "    kdeplot_sub_draw(sub_ax=ax[0], x=train_data['x1'], y=train_data['x2'], \n",
    "                                  title='train_data', size=1, color1='r', color2='b')\n",
    "    kdeplot_sub_draw(sub_ax=ax[1], x=train_data_minMaxScaled['x1'], y=train_data_minMaxScaled['x2'], \n",
    "                                  title='train_data_minMaxScaled', size=1, color1='r', color2='b')\n",
    "    kdeplot_sub_draw(sub_ax=ax[2], x=train_data_maxAbsScaled['x1'], y=train_data_maxAbsScaled['x2'], \n",
    "                                  title='train_data_maxAbsScaled', size=1, color1='r', color2='b')\n",
    "    kdeplot_sub_draw(sub_ax=ax[3], x=train_data_standardScaled['x1'], y=train_data_standardScaled['x2'], \n",
    "                                  title='train_data_standardScaled', size=1, color1='r', color2='b')\n",
    "    kdeplot_sub_draw(sub_ax=ax[4], x=train_data_robustScaled['x1'], y=train_data_robustScaled['x2'], \n",
    "                                  title='train_data_robustScaled', size=1, color1='r', color2='b')\n",
    "    \n",
    "def kdeplot_sub_draw(sub_ax, x, y, title, size, color1, color2):\n",
    "    # sns.kdeplot: Fit and plot a univariate or bivariate kernel density estimate\n",
    "    import seaborn as sns\n",
    "    sub_ax.grid(True)\n",
    "    sub_ax.set_title(title)\n",
    "    sns.kdeplot(x, ax=sub_ax, shade=True, color=color1)\n",
    "    sns.kdeplot(y, ax=sub_ax, shade=True, color=color2)\n",
    "    # median  line draw\n",
    "    sub_ax.axvline(x=x.median(), color=color1, linestyle='--', linewidth=0.5)\n",
    "    sub_ax.axvline(x=y.median(), color=color2, linestyle='--', linewidth=0.5)"
   ]
  },
  {
   "cell_type": "code",
   "execution_count": 44,
   "metadata": {
    "ExecuteTime": {
     "end_time": "2021-04-06T13:52:33.505632Z",
     "start_time": "2021-04-06T13:52:33.501650Z"
    }
   },
   "outputs": [],
   "source": [
    "train_data = pd.DataFrame({\n",
    "    'x1': X[1],\n",
    "    'x2': X[2]\n",
    "})"
   ]
  },
  {
   "cell_type": "code",
   "execution_count": 45,
   "metadata": {
    "ExecuteTime": {
     "end_time": "2021-04-06T13:52:38.128726Z",
     "start_time": "2021-04-06T13:52:35.068594Z"
    },
    "scrolled": false
   },
   "outputs": [
    {
     "name": "stdout",
     "output_type": "stream",
     "text": [
      "MinMaxScaler(copy=True, feature_range=(0, 1))\n",
      "CPU times: user 1.94 ms, sys: 150 µs, total: 2.09 ms\n",
      "Wall time: 2.06 ms\n",
      "MaxAbsScaler(copy=True)\n",
      "CPU times: user 1.77 ms, sys: 123 µs, total: 1.89 ms\n",
      "Wall time: 1.96 ms\n",
      "StandardScaler(copy=True, with_mean=True, with_std=True)\n",
      "CPU times: user 2.01 ms, sys: 366 µs, total: 2.37 ms\n",
      "Wall time: 2.19 ms\n",
      "RobustScaler(copy=True, quantile_range=(25.0, 75.0), with_centering=True,\n",
      "             with_scaling=True)\n",
      "CPU times: user 2.47 ms, sys: 526 µs, total: 3 ms\n",
      "Wall time: 2.63 ms\n"
     ]
    },
    {
     "data": {
      "image/png": "[encoded data removed]",
      "text/plain": [
       "<Figure size 1368x288 with 5 Axes>"
      ]
     },
     "metadata": {},
     "output_type": "display_data"
    },
    {
     "data": {
      "image/png": "[encoded data removed]",
      "text/plain": [
       "<Figure size 1368x288 with 5 Axes>"
      ]
     },
     "metadata": {},
     "output_type": "display_data"
    }
   ],
   "source": [
    "scale(train_data, scatter_show_YN=True, kdeplot_show_YN=True)"
   ]
  }
 ],
 "metadata": {
  "kernelspec": {
   "display_name": "Python 3",
   "language": "python",
   "name": "python3"
  },
  "language_info": {
   "codemirror_mode": {
    "name": "ipython",
    "version": 3
   },
   "file_extension": ".py",
   "mimetype": "text/x-python",
   "name": "python",
   "nbconvert_exporter": "python",
   "pygments_lexer": "ipython3",
   "version": "3.7.2"
  },
  "latex_envs": {
   "LaTeX_envs_menu_present": true,
   "autoclose": false,
   "autocomplete": true,
   "bibliofile": "biblio.bib",
   "cite_by": "apalike",
   "current_citInitial": 1,
   "eqLabelWithNumbers": true,
   "eqNumInitial": 1,
   "hotkeys": {
    "equation": "Ctrl-E",
    "itemize": "Ctrl-I"
   },
   "labels_anchors": false,
   "latex_user_defs": false,
   "report_style_numbering": false,
   "user_envs_cfg": false
  },
  "varInspector": {
   "cols": {
    "lenName": 16,
    "lenType": 16,
    "lenVar": 40
   },
   "kernels_config": {
    "python": {
     "delete_cmd_postfix": "",
     "delete_cmd_prefix": "del ",
     "library": "var_list.py",
     "varRefreshCmd": "print(var_dic_list())"
    },
    "r": {
     "delete_cmd_postfix": ") ",
     "delete_cmd_prefix": "rm(",
     "library": "var_list.r",
     "varRefreshCmd": "cat(var_dic_list()) "
    }
   },
   "types_to_exclude": [
    "module",
    "function",
    "builtin_function_or_method",
    "instance",
    "_Feature"
   ],
   "window_display": false
  }
 },
 "nbformat": 4,
 "nbformat_minor": 2
}

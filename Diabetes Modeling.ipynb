{
 "cells": [
  {
   "cell_type": "code",
   "execution_count": 1,
   "metadata": {
    "ExecuteTime": {
     "end_time": "2021-04-10T16:45:37.064904Z",
     "start_time": "2021-04-10T16:45:35.746142Z"
    }
   },
   "outputs": [],
   "source": [
    "import os\n",
    "import csv\n",
    "import struct\n",
    "import chardet\n",
    "import itertools\n",
    "import numpy as np\n",
    "import collections\n",
    "import pandas as pd\n",
    "from typing import *\n",
    "from time import time\n",
    "import seaborn as sns\n",
    "from sklearn.svm import SVC\n",
    "from inspect import signature\n",
    "from skimage.feature import hog\n",
    "from numpy import random as rnd\n",
    "import matplotlib.pyplot as plt\n",
    "import matplotlib.pyplot as pyplot\n",
    "from sklearn.utils import shuffle\n",
    "import matplotlib.font_manager as fm\n",
    "from sklearn.metrics import f1_score\n",
    "from sklearn.metrics import roc_curve\n",
    "from sklearn.metrics import make_scorer\n",
    "from IPython.display import clear_output\n",
    "from sklearn.metrics import accuracy_score\n",
    "from sklearn.metrics import confusion_matrix\n",
    "from sklearn.preprocessing import MinMaxScaler\n",
    "from sklearn.preprocessing import RobustScaler\n",
    "from sklearn.preprocessing import StandardScaler\n",
    "from sklearn.model_selection import GridSearchCV\n",
    "from sklearn.metrics import classification_report\n",
    "from sklearn.linear_model import LogisticRegression\n",
    "from sklearn.model_selection import train_test_split\n",
    "from sklearn.linear_model import LogisticRegressionCV"
   ]
  },
  {
   "cell_type": "code",
   "execution_count": null,
   "metadata": {
    "ExecuteTime": {
     "end_time": "2021-04-08T16:28:48.291496Z",
     "start_time": "2021-04-08T16:28:48.165251Z"
    }
   },
   "outputs": [],
   "source": [
    "!ls"
   ]
  },
  {
   "cell_type": "markdown",
   "metadata": {},
   "source": [
    "# Data Reading"
   ]
  },
  {
   "cell_type": "code",
   "execution_count": 216,
   "metadata": {
    "ExecuteTime": {
     "end_time": "2021-04-11T11:12:12.688619Z",
     "start_time": "2021-04-11T11:12:12.655387Z"
    },
    "code_folding": [
     107,
     123,
     132,
     165,
     187
    ]
   },
   "outputs": [],
   "source": [
    "class ReadData():\n",
    "    def __init__(self, year=2017):\n",
    "        self.year = year\n",
    "        self.infos = []  # all infos from input\n",
    "        self.data_infos = []  # features from read() object\n",
    "        self.selected_features = None  # selected features by user. set from self.get_features_index\n",
    "        self.no_data = []  # datas with empty value\n",
    "        self.required_info_index = []  # selected features' index\n",
    "        self.no_data_count = collections.defaultdict(int)  # to count and show size of empty value\n",
    "        self.X = []\n",
    "        self.y = []\n",
    "        self.balanced_X = []\n",
    "        self.balanced_y = []\n",
    "        \n",
    "    def show_params(self):\n",
    "        # shows parameters from read()\n",
    "        sig = signature(self.read)\n",
    "        params = []\n",
    "        for param in sig.parameters.values():\n",
    "            params.append(str(param.name)+'='+str(param.default))\n",
    "        print(*params)\n",
    "            \n",
    "    def read(self, selected_features, DATASIZE=None, FBS_PIVOT=120, calculate_BMI=True, return_data=True, \n",
    "            count_empty_data=False, filter_dict=None):\n",
    "        # selected_features = features to select from data, DATASIZE = set limit(size) of data\n",
    "        # FBS_PIVOT = if 식전혈당(공복혈당) >= FBS_PIVOT then set diabetic\n",
    "        # if calculate_BMI is True = append BMI and remove height, weight\n",
    "        # return_data = whether return X,y or not, count_empty_data = counts data with empty value\n",
    "        # filter_dict = filtering outliers with this dict\n",
    "        \n",
    "#         self.get_features_index(selected_features)\n",
    "        \n",
    "        print(f'Reading Year {self.year}')\n",
    "        if not DATASIZE:\n",
    "            DATASIZE = float('inf')\n",
    "        if self.year == 2017:\n",
    "            FILENAME = 'NHIS_OPEN_GJ_2017_100.csv'\n",
    "        elif self.year == 2018:\n",
    "            FILENAME = 'NHIS_OPEN_GJ_2018_100.csv'\n",
    "        else:\n",
    "            raise Exception('year should be 2017 or 2018. default=2017')\n",
    "            \n",
    "        \n",
    "        with open(FILENAME, 'rb') as f:\n",
    "            ENCODING = chardet.detect(f.readline())['encoding']\n",
    "            \n",
    "        f = open(FILENAME, 'r', encoding=ENCODING)\n",
    "        rdr = csv.reader(f)\n",
    "        \n",
    "        required_info_index = []\n",
    "        \n",
    "\n",
    "        for n, col in enumerate(rdr):  # read and store data from csv\n",
    "            try:\n",
    "                required_data = [info for index, info in enumerate(col) if index in required_info_index]\n",
    "            except:\n",
    "                pass\n",
    "            if n == 0:\n",
    "                self.infos = col\n",
    "                self.get_features_index(selected_features)\n",
    "                required_info_index = self.required_info_index\n",
    "                self.data_infos = [info for index, info in enumerate(col) if index in required_info_index]\n",
    "                FBS_INDEX = self.infos.index('식전혈당(공복혈당)')\n",
    "                if calculate_BMI:\n",
    "                    if '신장(5Cm단위)' not in self.data_infos or '체중(5Kg단위)' not in self.data_infos:\n",
    "                        calculate_BMI = False\n",
    "                    else:\n",
    "                        HEIGHT_INDEX, WEIGHT_INDEX = self.data_infos.index('신장(5Cm단위)'), self.data_infos.index('체중(5Kg단위)')\n",
    "                        if WEIGHT_INDEX < HEIGHT_INDEX:\n",
    "                            raise Exception('selected_features에서 신장을 체중보다 먼저 오도록 설정해주세요.')\n",
    "            else:\n",
    "                FBS = col[FBS_INDEX]\n",
    "                if '' in required_data or FBS == '':\n",
    "                    if count_empty_data:\n",
    "                        l = [self.data_infos[i] for i, d in enumerate(required_data) if d == '']\n",
    "                        for s in l: \n",
    "                            self.no_data_count[s] += 1\n",
    "                        self.no_data.append(n)\n",
    "                else:\n",
    "                    self.X.append(required_data)\n",
    "                    self.y.append(1) if int(FBS) >= FBS_PIVOT else self.y.append(0)\n",
    "                    \n",
    "            if n >= DATASIZE:\n",
    "                break\n",
    "\n",
    "        f.close()\n",
    "        \n",
    "        if filter_dict:\n",
    "            self.filter_outliers(filter_dict)\n",
    "        if calculate_BMI:\n",
    "            self.calculate_BMI()\n",
    "            del self.data_infos[HEIGHT_INDEX]\n",
    "            del self.data_infos[WEIGHT_INDEX-1]\n",
    "            \n",
    "        self.X = np.array(self.X, dtype=np.float64)\n",
    "        self.y = np.array(self.y)\n",
    "        \n",
    "        print(f\"Reading Year {self.year}'s data done\")\n",
    "        print(f'Size of X = {len(self.X):,}, y = {len(self.y):,}')\n",
    "        print(f'당뇨병 판별 공복혈당 기준 수치 : {FBS_PIVOT}')\n",
    "        counts = np.unique(self.y, return_counts = True)[1]\n",
    "        print(f'당뇨병 판별 환자 수 : {counts[1]:,}명, 비당뇨병 판별수 : {counts[0]:,}명\\n')\n",
    "        \n",
    "        self.balance_size()\n",
    "        \n",
    "        print(f'X has {self.X.shape[1]} features')\n",
    "        if count_empty_data:\n",
    "            print(f'Size of data with empty value = {len(self.no_data):,}')\n",
    "        print(f'Selected Features and Sample Data: \\n{self.data_infos}')\n",
    "        print(f'{self.X[0]} , ', end='')\n",
    "        print('당뇨') if self.y[0] == 1 else print('정상')\n",
    "        print(f'{self.X[1]} , ', end='')\n",
    "        print('당뇨') if self.y[1] == 1 else print('정상')\n",
    "        if return_data:\n",
    "            return [self.X, self.y]\n",
    "        \n",
    "    def calculate_BMI(self):\n",
    "        # calculate and append BMI with height, weight and remove height, weight from data.\n",
    "        try:\n",
    "            HEIGHT_INDEX, WEIGHT_INDEX = self.data_infos.index('신장(5Cm단위)'), self.data_infos.index('체중(5Kg단위)')\n",
    "        except:\n",
    "            raise Exception('신장 혹은 체중이 데이터에 없어서 BMI를 계산할 수 없습니다.')\n",
    "        if WEIGHT_INDEX < HEIGHT_INDEX:\n",
    "            raise Exception('selected_features 순서에서 신장을 체중보다 먼저 오도록 설정해주세요.')\n",
    "            \n",
    "        self.data_infos.append('BMI')\n",
    "        \n",
    "        for i in range(len(self.X)):\n",
    "            height, weight = int(self.X[i].pop(HEIGHT_INDEX)), int(self.X[i].pop(WEIGHT_INDEX-1))\n",
    "            BMI = round(weight / (height * height / 10000), 2)\n",
    "            self.X[i].append(BMI)\n",
    "    \n",
    "    def get_features_index(self, selected_features):\n",
    "        # set selected features at object.\n",
    "        for feature in selected_features:\n",
    "            if feature not in self.infos:\n",
    "                raise Exception(f\"'{feature}'는 데이터에 없습니다.\")\n",
    "            self.required_info_index.append(self.infos.index(feature))\n",
    "        self.required_info_index.sort()\n",
    "        self.selected_features = selected_features\n",
    "            \n",
    "    def show_outliers(self, feature:str, pivot:int, not_diabetes_only=True):\n",
    "        # shows outlier's value from specific feature and pivot.\n",
    "        # if not_diabetes_only is True = shows outliers who is not diabetic.\n",
    "        # if not_diabetes_only is False = shows all outliers.\n",
    "        OUT_INDEX = self.data_infos.index(feature)\n",
    "        outliers = []\n",
    "        if not_diabetes_only:\n",
    "            fbs_index = self.data_infos.index('식전혈당(공복혈당)')\n",
    "            bmi_index = self.data_infos.index('BMI')\n",
    "            for i in range(len(self.X)):\n",
    "                if self.y[i] != 1 and (self.X[i][OUT_INDEX] > pivot or self.X[i][OUT_INDEX] <= 0):\n",
    "                    outliers.append(i)\n",
    "        else:\n",
    "            for i in range(len(self.X)):\n",
    "                if self.X[i][OUT_INDEX] >= pivot or self.X[i][OUT_INDEX] <= 0:\n",
    "                    outliers.append(i)\n",
    "                    \n",
    "        max_outlier = max([self.X[i][OUT_INDEX] for i in outliers])\n",
    "                          \n",
    "        if not_diabetes_only:\n",
    "            print(f'{feature}에서 기준치 {pivot} 이상이며, 당뇨가 아닌 사람들의 값입니다. '+\n",
    "                  f'(총 {len(outliers)}명, 비율: %.2f%%, 최댓값: {max_outlier})\\n'%(len(outliers) * 100 / len(self.X)))\n",
    "\n",
    "            print('{:>6} {:>16} {:>20} {:>10}'.format('INDEX', feature, '식전혈당(공복혈당)', 'BMI'))\n",
    "            for i in outliers if len(outliers) < 20 else outliers[:20]:\n",
    "                print('{:6} {:>22.0f} {:>28.0f} {:>10}'.format(i, self.X[i][OUT_INDEX], \n",
    "                                                               self.X[i][fbs_index], self.X[i][bmi_index]))\n",
    "        else:\n",
    "            print(f'{feature}에서 {pivot}보다 큰 값들입니다.' +\n",
    "                  f'(총 {len(outliers)}명, 비율: %.2f%%, 최댓값: {max_outlier})\\n'%(len(outliers) * 100 / len(self.X)))\n",
    "            for i in outliers if len(outliers) < 20 else outliers[:20]:\n",
    "                print(self.X[i][OUT_INDEX])\n",
    "\n",
    "    def sizeof_outliers(self, filter_dict):\n",
    "        # only shows size of outliers who will be filtered by filter_dict.\n",
    "        size = len(self.X)\n",
    "        X_isnumpy = isinstance(self.X, np.ndarray)\n",
    "        if X_isnumpy:\n",
    "            filter_X = self.X[:].tolist()\n",
    "            filter_y = self.y[:].tolist()\n",
    "        else:\n",
    "            filter_X = self.X[:]\n",
    "            filter_y = self.y[:]\n",
    "        filter_index = [self.data_infos.index(key) for key in list(filter_dict.keys())]\n",
    "        filter_pivot = list(filter_dict.values())\n",
    "        for f in range(len(filter_index)):\n",
    "            max_pivot, min_pivot = filter_pivot[f]\n",
    "            f_index = filter_index[f]\n",
    "            max_out, min_out = 0, 0\n",
    "            for i in range(len(filter_X)):\n",
    "                if float(filter_X[i][f_index]) >= max_pivot:\n",
    "                    max_out += 1\n",
    "                elif float(filter_X[i][f_index]) <= min_pivot:\n",
    "                    min_out += 1\n",
    "            \n",
    "            print(f'Max Pivot:{max_pivot:>5}, Min Pivot:{min_pivot:>5}, '+\n",
    "                  f'Max Outs: {max_out:>5,}, Min Outs: {min_out:>5,}, '+\n",
    "                  f'{(max_out+min_out)*100/size:>3.2f}% at {self.data_infos[f_index]:<20}')\n",
    "            \n",
    "    def filter_outliers(self, filter_dict):\n",
    "        # excute filtering outliers by filter_dict. filter_dict[feature] = [MAX PIVOT, MIN PIVOT]\n",
    "        print('Filtering outliers')\n",
    "        original_size = len(self.X)\n",
    "        X_isnumpy = isinstance(self.X, np.ndarray)\n",
    "        if X_isnumpy:\n",
    "            filter_X = self.X[:].tolist()\n",
    "            filter_y = self.y[:].tolist()\n",
    "        else:\n",
    "            filter_X = self.X[:]\n",
    "            filter_y = self.y[:]\n",
    "            \n",
    "        filter_index = [self.data_infos.index(key) for key in list(filter_dict.keys())]\n",
    "        filter_pivot = list(filter_dict.values())\n",
    "        \n",
    "        for f in range(len(filter_index)):\n",
    "            max_pivot, min_pivot = filter_pivot[f]\n",
    "            correction = 0\n",
    "            f_index = filter_index[f]\n",
    "            for i in range(len(filter_X)):\n",
    "                try:\n",
    "                    if float(filter_X[i][f_index]) >= max_pivot or float(filter_X[i][f_index]) <= min_pivot:\n",
    "                        del filter_X[i - correction]\n",
    "                        del filter_y[i - correction]\n",
    "                        correction += 1\n",
    "                except:\n",
    "                    print(f'Filtered {correction:>5,} by {self.data_infos[f_index]}')\n",
    "                    break\n",
    "        if '식전혈당(공복혈당)' in self.data_infos:\n",
    "            FBS_index = self.data_infos.index('식전혈당(공복혈당)')\n",
    "            del self.data_infos[FBS_index]\n",
    "            for i in range(len(filter_X)):\n",
    "                del filter_X[i][FBS_index]\n",
    "        if X_isnumpy:\n",
    "            self.X = np.array(filter_X, dtype=np.float64)\n",
    "            self.y = np.array(filter_y)\n",
    "        else:\n",
    "            self.X, self.y = filter_X, filter_y\n",
    "        print(f'Filtered {original_size - len(self.X):,}. Filterd X size : {len(self.X):,}. '+\n",
    "              f'({(original_size - len(self.X))*100/original_size:.2f}%)\\n')\n",
    "            \n",
    "        \n",
    "    def get_specific_data(self, features):\n",
    "        index = [self.data_infos.index(feature) for feature in features]\n",
    "        return np.array(self.X[0:, index])\n",
    "    \n",
    "    def balance_size(self):\n",
    "        i, non_diabetes = 0, 0\n",
    "        f_len = len(data2017.X[0])\n",
    "#         BMI_index = self.data_infos.index('BMI')\n",
    "#         self.balanced_X = [self.X[i][:BMI_index].tolist()+self.X[i][BMI_index+1:].tolist()\n",
    "#                            for i in range(len(self.X)) if self.y[i] == 1 and self.X[i][BMI_index] >= 22]\n",
    "        self.balanced_X = [self.X[i].tolist() for i in range(len(self.X)) if self.y[i] == 1]\n",
    "    \n",
    "        for _ in range(len(self.balanced_X)): self.balanced_y.append(1)\n",
    "\n",
    "        size = len(self.balanced_X)\n",
    "        while non_diabetes < size:\n",
    "            if self.y[i] == 0:\n",
    "#             if self.y[i] == 0 and self.X[i][BMI_index] <= 22:\n",
    "#                 self.balanced_X.append(self.X[i][:BMI_index].tolist()+self.X[i][BMI_index+1:].tolist())\n",
    "                self.balanced_X.append(self.X[i])\n",
    "                self.balanced_y.append(0)\n",
    "                non_diabetes += 1\n",
    "            i += 1\n",
    "        \n",
    "        self.balanced_X = np.array(self.balanced_X, dtype=np.float64)\n",
    "        self.balanced_y = np.array(self.balanced_y\n",
    "        counts = np.unique(self.balanced_y, return_counts = True)[1]\n",
    "        print(f'After Balancing Size  \\n당뇨병 판별 환자 수 : {counts[1]:,}명, '+\n",
    "              f'비당뇨병 판별수 : {counts[0]:,}명\\n')\n",
    "        self.X, self.y = self.balanced_X, self.balanced_y"
   ]
  },
  {
   "cell_type": "markdown",
   "metadata": {},
   "source": [
    "# Read Data"
   ]
  },
  {
   "cell_type": "code",
   "execution_count": 23,
   "metadata": {
    "ExecuteTime": {
     "end_time": "2021-04-11T07:18:13.777185Z",
     "start_time": "2021-04-11T07:18:13.765196Z"
    }
   },
   "outputs": [
    {
     "name": "stdout",
     "output_type": "stream",
     "text": [
      "selected_features=<class 'inspect._empty'> DATASIZE=None FBS_PIVOT=120 calculate_BMI=True return_data=True count_empty_data=False filter_dict=None\n"
     ]
    }
   ],
   "source": [
    "data2017 = ReadData(2017)\n",
    "data2017.show_params()"
   ]
  },
  {
   "cell_type": "code",
   "execution_count": 217,
   "metadata": {
    "ExecuteTime": {
     "end_time": "2021-04-11T11:12:43.640635Z",
     "start_time": "2021-04-11T11:12:14.389019Z"
    },
    "scrolled": false
   },
   "outputs": [
    {
     "name": "stdout",
     "output_type": "stream",
     "text": [
      "Reading Year 2017\n",
      "Filtering outliers\n",
      "Filtered    62 by 총콜레스테롤\n",
      "Filtered 3,671 by 트리글리세라이드\n",
      "Filtered   349 by LDL콜레스테롤\n",
      "Filtered    61 by 허리둘레\n",
      "Filtered 6,882 by 감마지티피\n",
      "Filtered 1,134 by 혈색소\n",
      "Filtered 3,895 by (혈청지오티)ALT\n",
      "Filtered 1,121 by (혈청지오티)AST\n",
      "Filtered 10,365 by 신장(5Cm단위)\n",
      "Filtered   175 by 체중(5Kg단위)\n",
      "Filtered 1,507 by 식전혈당(공복혈당)\n",
      "Filtered 29,222. Filterd X size : 967,581. (2.93%)\n",
      "\n",
      "Reading Year 2017's data done\n",
      "Size of X = 967,581, y = 967,581\n",
      "당뇨병 판별 공복혈당 기준 수치 : 140\n",
      "당뇨병 판별 환자 수 : 44,698명, 비당뇨병 판별수 : 922,883명\n",
      "\n",
      "After Balancing Size  \n",
      "당뇨병 판별 환자 수 : 44,698명, 비당뇨병 판별수 : 44,698명\n",
      "\n",
      "X has 9 features\n",
      "Selected Features and Sample Data: \n",
      "['허리둘레', '총콜레스테롤', '트리글리세라이드', 'LDL콜레스테롤', '혈색소', '(혈청지오티)AST', '(혈청지오티)ALT', '감마지티피', 'BMI']\n",
      "[ 77.   175.    90.    92.    14.4   17.    17.    49.    17.78] , 당뇨\n",
      "[ 84.   135.   137.    68.    13.2   21.    30.    21.    23.88] , 당뇨\n"
     ]
    }
   ],
   "source": [
    "filter_dict = {  # 'feature': [MAX Pivot, MIN Pivot] to filter outlier\n",
    "    '총콜레스테롤': [500, 10], \n",
    "    '트리글리세라이드': [700, 10], \n",
    "    'LDL콜레스테롤': [500, 10], \n",
    "    '허리둘레': [150, 30], \n",
    "    '감마지티피': [300, 5], \n",
    "    '혈색소': [18.5, 3], \n",
    "    '(혈청지오티)ALT': [200, 5], \n",
    "    '(혈청지오티)AST': [200, 5], \n",
    "    '신장(5Cm단위)': [200, 140], \n",
    "    '체중(5Kg단위)': [140, 30], \n",
    "    '식전혈당(공복혈당)': [300, 30]\n",
    "}\n",
    "selected_features = list(filter_dict.keys())\n",
    "data2017 = ReadData(2017)\n",
    "# selected_features = Features to read, DATASIZE = Data size limit, FBS_PIVOT = 당노병 판단 기준 혈당\n",
    "# calculate_BMI = 체중, 키를 BMI지수로 환산, return_data = return X,y for variable\n",
    "# count_empty_data = count data with empty value\n",
    "data2017.read(selected_features, FBS_PIVOT=140, filter_dict=filter_dict, return_data=False)"
   ]
  },
  {
   "cell_type": "code",
   "execution_count": null,
   "metadata": {
    "ExecuteTime": {
     "end_time": "2021-04-10T08:42:14.606465Z",
     "start_time": "2021-04-10T08:41:56.651946Z"
    }
   },
   "outputs": [],
   "source": [
    "data2018 = ReadData(2018)\n",
    "data2018.read(selected_features, FBS_PIVOT=140, filter_dict=filter_dict, return_data=False)"
   ]
  },
  {
   "cell_type": "markdown",
   "metadata": {},
   "source": [
    "# Scaling"
   ]
  },
  {
   "cell_type": "code",
   "execution_count": 5,
   "metadata": {
    "ExecuteTime": {
     "end_time": "2021-04-10T16:46:21.156791Z",
     "start_time": "2021-04-10T16:46:21.142680Z"
    },
    "code_folding": []
   },
   "outputs": [],
   "source": [
    "# scaler = MinMaxScaler()\n",
    "# X = scaler.fit_transform(X[:])\n",
    "def scale_robust(X_train, X_test):\n",
    "    robustScaler = RobustScaler()\n",
    "    robustScaler.fit(X_train[:])\n",
    "    X_train = robustScaler.transform(X_train[:])\n",
    "    X_test = robustScaler.transform(X_test[:])\n",
    "#     print(f'Sample Scaled Data : {X_train[0]}')\n",
    "    return [X_train[:], X_test[:]]"
   ]
  },
  {
   "cell_type": "markdown",
   "metadata": {},
   "source": [
    "# Split Training, Test Set\n",
    "(If required)"
   ]
  },
  {
   "cell_type": "code",
   "execution_count": 6,
   "metadata": {
    "ExecuteTime": {
     "end_time": "2021-04-10T16:46:21.202918Z",
     "start_time": "2021-04-10T16:46:21.188534Z"
    },
    "code_folding": [
     0
    ]
   },
   "outputs": [],
   "source": [
    "def split_set(X, y):\n",
    "    # X_train, X_test, y_train, y_test\n",
    "    return train_test_split(X, y, test_size=0.2, random_state=42, stratify=y)"
   ]
  },
  {
   "cell_type": "markdown",
   "metadata": {},
   "source": [
    "# Logistic Regression"
   ]
  },
  {
   "cell_type": "code",
   "execution_count": 218,
   "metadata": {
    "ExecuteTime": {
     "end_time": "2021-04-11T11:14:18.515296Z",
     "start_time": "2021-04-11T11:14:18.502400Z"
    },
    "code_folding": []
   },
   "outputs": [],
   "source": [
    "class DiabetesModelingLR():\n",
    "    def __init__(self):\n",
    "        self.X = None\n",
    "        self.y = None\n",
    "        self.X_train = None\n",
    "        self.y_train = None\n",
    "        self.X_test = None\n",
    "        self.y_test = None\n",
    "        self.clf = None\n",
    "        self.training_size = None\n",
    "        self.testing_size = None\n",
    "        self.SCALE = True\n",
    "    def make_model(self, X=None, y=None, X_train=None, y_train=None, \n",
    "                   X_test=None, y_test=None, CV=False, C=1e-3):\n",
    "        if X is not None:\n",
    "            self.X, self.y = X, y\n",
    "            self.X_train, self.X_test, self.y_train, self.y_test = split_set(X, y)\n",
    "        else:\n",
    "            self.X_train, self.y_train = X_train, y_train\n",
    "            self.X_test, self.y_test = X_test, y_test\n",
    "            \n",
    "        if self.X_train.shape[1] != self.X_test.shape[1]:\n",
    "            raise Exception('Training Set과 Test Set의 Feature가 다릅니다.')\n",
    "        if self.SCALE:\n",
    "            self.X_train, self.X_test = scale_robust(self.X_train, self.X_test)\n",
    "            \n",
    "        self.training_size = len(self.X_train)\n",
    "        self.testing_size = len(self.X_test)\n",
    "        if CV:\n",
    "            self.clf = LogisticRegressionCV(cv=CV, solver='saga', penalty='l1', n_jobs=-1, max_iter=5000)\n",
    "#             self.clf = LogisticRegressionCV(cv=CV, solver='saga', penalty='l2')\n",
    "        else:\n",
    "            self.clf = LogisticRegression(C=C, solver='saga', penalty='l2', n_jobs=-1)\n",
    "            \n",
    "        self.clf.fit(self.X_train, self.y_train)\n",
    "        \n",
    "    def get_result(self):\n",
    "        clf = self.clf\n",
    "        f1score = round(f1_score(self.y_test, clf.predict(self.X_test)), 5)\n",
    "#         accuracy = round(accuracy_score(self.y_test, clf.predict(self.X_test)), 5)\n",
    "        y_predict = clf.predict(self.X_test)\n",
    "        clf_report = classification_report(self.y_test, y_predict, target_names=['건강','당뇨'])\n",
    "        cm = confusion_matrix(self.y_test, y_predict)\n",
    "        return [f1score, clf_report, cm]\n",
    "    \n",
    "    def get_f1_score(self):\n",
    "        clf = self.clf\n",
    "        f1score = f1_score(self.y_test, clf.predict(self.X_test))\n",
    "        return f1score\n",
    "    \n",
    "    def show_result(self):\n",
    "        clf = self.clf\n",
    "        print(f'Training size : {self.training_size:,} Testing Size : {self.testing_size:,}')\n",
    "        counts = np.unique(self.y_test, return_counts = True)[1]\n",
    "        print(f'Test Set 당뇨병 인원수 : {counts[1]:,}명, 비당뇨병 인원수 : {counts[0]:,}명\\n')\n",
    "        print(f'Accuracy score: {round(accuracy_score(self.y_test, clf.predict(self.X_test)), 5)}',' '*5,\n",
    "              f'F1 Score: {round(f1_score(self.y_test, clf.predict(self.X_test)), 5)}\\n')\n",
    "\n",
    "        y_predict = clf.predict(self.X_test)\n",
    "        print(classification_report(self.y_test, y_predict, target_names=['건강','당뇨']))\n",
    "        cm = confusion_matrix(self.y_test, y_predict)\n",
    "        print('Confusion Matrix\\n', cm)"
   ]
  },
  {
   "cell_type": "code",
   "execution_count": 222,
   "metadata": {
    "ExecuteTime": {
     "end_time": "2021-04-11T11:18:11.878367Z",
     "start_time": "2021-04-11T11:18:11.846127Z"
    }
   },
   "outputs": [],
   "source": [
    "X_train, X_test, y_train, y_test = split_set(data2017.X, data2017.y)"
   ]
  },
  {
   "cell_type": "code",
   "execution_count": 219,
   "metadata": {
    "ExecuteTime": {
     "end_time": "2021-04-11T11:14:57.764154Z",
     "start_time": "2021-04-11T11:14:33.189453Z"
    }
   },
   "outputs": [
    {
     "name": "stdout",
     "output_type": "stream",
     "text": [
      "Training size : 71,516 Testing Size : 17,880\n",
      "Test Set 당뇨병 인원수 : 8,940명, 비당뇨병 인원수 : 8,940명\n",
      "\n",
      "Accuracy score: 0.67841       F1 Score: 0.66981\n",
      "\n",
      "              precision    recall  f1-score   support\n",
      "\n",
      "          건강       0.67      0.70      0.69      8940\n",
      "          당뇨       0.69      0.65      0.67      8940\n",
      "\n",
      "    accuracy                           0.68     17880\n",
      "   macro avg       0.68      0.68      0.68     17880\n",
      "weighted avg       0.68      0.68      0.68     17880\n",
      "\n",
      "Confusion Matrix\n",
      " [[6298 2642]\n",
      " [3108 5832]]\n"
     ]
    }
   ],
   "source": [
    "testmodel = DiabetesModelingLR()\n",
    "testmodel.make_model(X=data2017.X, y=data2017.y, CV=5)\n",
    "# clear_output()\n",
    "testmodel.show_result()"
   ]
  },
  {
   "cell_type": "code",
   "execution_count": 55,
   "metadata": {
    "ExecuteTime": {
     "end_time": "2021-04-11T07:53:20.806350Z",
     "start_time": "2021-04-11T07:53:20.599308Z"
    }
   },
   "outputs": [
    {
     "name": "stderr",
     "output_type": "stream",
     "text": [
      "c:\\users\\admin\\appdata\\local\\programs\\python\\python38\\lib\\site-packages\\matplotlib\\backends\\backend_agg.py:238: RuntimeWarning: Glyph 52964 missing from current font.\n",
      "  font.set_text(s, 0.0, flags=flags)\n",
      "c:\\users\\admin\\appdata\\local\\programs\\python\\python38\\lib\\site-packages\\matplotlib\\backends\\backend_agg.py:238: RuntimeWarning: Glyph 48652 missing from current font.\n",
      "  font.set_text(s, 0.0, flags=flags)\n",
      "c:\\users\\admin\\appdata\\local\\programs\\python\\python38\\lib\\site-packages\\matplotlib\\backends\\backend_agg.py:238: RuntimeWarning: Glyph 50948 missing from current font.\n",
      "  font.set_text(s, 0.0, flags=flags)\n",
      "c:\\users\\admin\\appdata\\local\\programs\\python\\python38\\lib\\site-packages\\matplotlib\\backends\\backend_agg.py:238: RuntimeWarning: Glyph 50577 missing from current font.\n",
      "  font.set_text(s, 0.0, flags=flags)\n",
      "c:\\users\\admin\\appdata\\local\\programs\\python\\python38\\lib\\site-packages\\matplotlib\\backends\\backend_agg.py:238: RuntimeWarning: Glyph 49457 missing from current font.\n",
      "  font.set_text(s, 0.0, flags=flags)\n",
      "c:\\users\\admin\\appdata\\local\\programs\\python\\python38\\lib\\site-packages\\matplotlib\\backends\\backend_agg.py:238: RuntimeWarning: Glyph 47456 missing from current font.\n",
      "  font.set_text(s, 0.0, flags=flags)\n",
      "c:\\users\\admin\\appdata\\local\\programs\\python\\python38\\lib\\site-packages\\matplotlib\\backends\\backend_agg.py:238: RuntimeWarning: Glyph 51116 missing from current font.\n",
      "  font.set_text(s, 0.0, flags=flags)\n",
      "c:\\users\\admin\\appdata\\local\\programs\\python\\python38\\lib\\site-packages\\matplotlib\\backends\\backend_agg.py:238: RuntimeWarning: Glyph 54788 missing from current font.\n",
      "  font.set_text(s, 0.0, flags=flags)\n",
      "c:\\users\\admin\\appdata\\local\\programs\\python\\python38\\lib\\site-packages\\matplotlib\\backends\\backend_agg.py:201: RuntimeWarning: Glyph 50948 missing from current font.\n",
      "  font.set_text(s, 0, flags=flags)\n",
      "c:\\users\\admin\\appdata\\local\\programs\\python\\python38\\lib\\site-packages\\matplotlib\\backends\\backend_agg.py:201: RuntimeWarning: Glyph 50577 missing from current font.\n",
      "  font.set_text(s, 0, flags=flags)\n",
      "c:\\users\\admin\\appdata\\local\\programs\\python\\python38\\lib\\site-packages\\matplotlib\\backends\\backend_agg.py:201: RuntimeWarning: Glyph 49457 missing from current font.\n",
      "  font.set_text(s, 0, flags=flags)\n",
      "c:\\users\\admin\\appdata\\local\\programs\\python\\python38\\lib\\site-packages\\matplotlib\\backends\\backend_agg.py:201: RuntimeWarning: Glyph 47456 missing from current font.\n",
      "  font.set_text(s, 0, flags=flags)\n",
      "c:\\users\\admin\\appdata\\local\\programs\\python\\python38\\lib\\site-packages\\matplotlib\\backends\\backend_agg.py:201: RuntimeWarning: Glyph 51116 missing from current font.\n",
      "  font.set_text(s, 0, flags=flags)\n",
      "c:\\users\\admin\\appdata\\local\\programs\\python\\python38\\lib\\site-packages\\matplotlib\\backends\\backend_agg.py:201: RuntimeWarning: Glyph 54788 missing from current font.\n",
      "  font.set_text(s, 0, flags=flags)\n",
      "c:\\users\\admin\\appdata\\local\\programs\\python\\python38\\lib\\site-packages\\matplotlib\\backends\\backend_agg.py:201: RuntimeWarning: Glyph 52964 missing from current font.\n",
      "  font.set_text(s, 0, flags=flags)\n",
      "c:\\users\\admin\\appdata\\local\\programs\\python\\python38\\lib\\site-packages\\matplotlib\\backends\\backend_agg.py:201: RuntimeWarning: Glyph 48652 missing from current font.\n",
      "  font.set_text(s, 0, flags=flags)\n"
     ]
    },
    {
     "data": {
      "image/png": "[encoded data removed]",
      "text/plain": [
       "<Figure size 432x288 with 1 Axes>"
      ]
     },
     "metadata": {
      "needs_background": "light"
     },
     "output_type": "display_data"
    }
   ],
   "source": [
    "fpr1, tpr1, thresholds1 = roc_curve(testy, testmodel.clf.decision_function(testX))\n",
    "\n",
    "plt.plot(fpr1, tpr1, 'o-', ms=2, label=\"Logistic Regression\")\n",
    "plt.legend()\n",
    "plt.plot([0, 1], [0, 1], 'k--', label=\"random guess\")\n",
    "plt.xlabel('위양성률(Fall-Out)')\n",
    "plt.ylabel('재현률(Recall)')\n",
    "plt.title('ROC 커브')\n",
    "plt.show()"
   ]
  },
  {
   "cell_type": "markdown",
   "metadata": {},
   "source": [
    "# Visualization"
   ]
  },
  {
   "cell_type": "code",
   "execution_count": 16,
   "metadata": {
    "ExecuteTime": {
     "end_time": "2021-04-10T16:23:30.468162Z",
     "start_time": "2021-04-10T16:23:29.922069Z"
    }
   },
   "outputs": [
    {
     "data": {
      "image/png": "[encoded data removed]",
      "text/plain": [
       "<Figure size 432x288 with 1 Axes>"
      ]
     },
     "metadata": {
      "needs_background": "light"
     },
     "output_type": "display_data"
    }
   ],
   "source": [
    "fpr1, tpr1, thresholds1 = roc_curve(data2017.y, testmodel.clf.decision_function(data2017.X))\n",
    "\n",
    "plt.plot(fpr1, tpr1, 'o-', ms=2, label=\"Logistic Regression\")\n",
    "plt.legend()\n",
    "plt.plot([0, 1], [0, 1], 'k--', label=\"random guess\")\n",
    "plt.xlabel('위양성률(Fall-Out)')\n",
    "plt.ylabel('재현률(Recall)')\n",
    "plt.title('ROC 커브')\n",
    "plt.show()"
   ]
  },
  {
   "cell_type": "code",
   "execution_count": null,
   "metadata": {
    "ExecuteTime": {
     "end_time": "2021-04-10T08:36:35.498969Z",
     "start_time": "2021-04-10T08:07:19.766830Z"
    }
   },
   "outputs": [],
   "source": [
    "cvmodel = DiabetesModelingLR()\n",
    "cvmodel.make_model(X=data2017.X, y=data2017.y, CV=True)\n",
    "# data size 0.9M, time 29m"
   ]
  },
  {
   "cell_type": "code",
   "execution_count": 35,
   "metadata": {
    "ExecuteTime": {
     "end_time": "2021-04-11T07:34:57.107954Z",
     "start_time": "2021-04-11T07:34:56.651670Z"
    }
   },
   "outputs": [
    {
     "name": "stderr",
     "output_type": "stream",
     "text": [
      "c:\\users\\admin\\appdata\\local\\programs\\python\\python38\\lib\\site-packages\\matplotlib\\backends\\backend_agg.py:238: RuntimeWarning: Glyph 52964 missing from current font.\n",
      "  font.set_text(s, 0.0, flags=flags)\n",
      "c:\\users\\admin\\appdata\\local\\programs\\python\\python38\\lib\\site-packages\\matplotlib\\backends\\backend_agg.py:238: RuntimeWarning: Glyph 48652 missing from current font.\n",
      "  font.set_text(s, 0.0, flags=flags)\n",
      "c:\\users\\admin\\appdata\\local\\programs\\python\\python38\\lib\\site-packages\\matplotlib\\backends\\backend_agg.py:238: RuntimeWarning: Glyph 50948 missing from current font.\n",
      "  font.set_text(s, 0.0, flags=flags)\n",
      "c:\\users\\admin\\appdata\\local\\programs\\python\\python38\\lib\\site-packages\\matplotlib\\backends\\backend_agg.py:238: RuntimeWarning: Glyph 50577 missing from current font.\n",
      "  font.set_text(s, 0.0, flags=flags)\n",
      "c:\\users\\admin\\appdata\\local\\programs\\python\\python38\\lib\\site-packages\\matplotlib\\backends\\backend_agg.py:238: RuntimeWarning: Glyph 49457 missing from current font.\n",
      "  font.set_text(s, 0.0, flags=flags)\n",
      "c:\\users\\admin\\appdata\\local\\programs\\python\\python38\\lib\\site-packages\\matplotlib\\backends\\backend_agg.py:238: RuntimeWarning: Glyph 47456 missing from current font.\n",
      "  font.set_text(s, 0.0, flags=flags)\n",
      "c:\\users\\admin\\appdata\\local\\programs\\python\\python38\\lib\\site-packages\\matplotlib\\backends\\backend_agg.py:238: RuntimeWarning: Glyph 51116 missing from current font.\n",
      "  font.set_text(s, 0.0, flags=flags)\n",
      "c:\\users\\admin\\appdata\\local\\programs\\python\\python38\\lib\\site-packages\\matplotlib\\backends\\backend_agg.py:238: RuntimeWarning: Glyph 54788 missing from current font.\n",
      "  font.set_text(s, 0.0, flags=flags)\n",
      "c:\\users\\admin\\appdata\\local\\programs\\python\\python38\\lib\\site-packages\\matplotlib\\backends\\backend_agg.py:201: RuntimeWarning: Glyph 50948 missing from current font.\n",
      "  font.set_text(s, 0, flags=flags)\n",
      "c:\\users\\admin\\appdata\\local\\programs\\python\\python38\\lib\\site-packages\\matplotlib\\backends\\backend_agg.py:201: RuntimeWarning: Glyph 50577 missing from current font.\n",
      "  font.set_text(s, 0, flags=flags)\n",
      "c:\\users\\admin\\appdata\\local\\programs\\python\\python38\\lib\\site-packages\\matplotlib\\backends\\backend_agg.py:201: RuntimeWarning: Glyph 49457 missing from current font.\n",
      "  font.set_text(s, 0, flags=flags)\n",
      "c:\\users\\admin\\appdata\\local\\programs\\python\\python38\\lib\\site-packages\\matplotlib\\backends\\backend_agg.py:201: RuntimeWarning: Glyph 47456 missing from current font.\n",
      "  font.set_text(s, 0, flags=flags)\n",
      "c:\\users\\admin\\appdata\\local\\programs\\python\\python38\\lib\\site-packages\\matplotlib\\backends\\backend_agg.py:201: RuntimeWarning: Glyph 51116 missing from current font.\n",
      "  font.set_text(s, 0, flags=flags)\n",
      "c:\\users\\admin\\appdata\\local\\programs\\python\\python38\\lib\\site-packages\\matplotlib\\backends\\backend_agg.py:201: RuntimeWarning: Glyph 54788 missing from current font.\n",
      "  font.set_text(s, 0, flags=flags)\n",
      "c:\\users\\admin\\appdata\\local\\programs\\python\\python38\\lib\\site-packages\\matplotlib\\backends\\backend_agg.py:201: RuntimeWarning: Glyph 52964 missing from current font.\n",
      "  font.set_text(s, 0, flags=flags)\n",
      "c:\\users\\admin\\appdata\\local\\programs\\python\\python38\\lib\\site-packages\\matplotlib\\backends\\backend_agg.py:201: RuntimeWarning: Glyph 48652 missing from current font.\n",
      "  font.set_text(s, 0, flags=flags)\n"
     ]
    },
    {
     "data": {
      "image/png": "[encoded data removed]",
      "text/plain": [
       "<Figure size 432x288 with 1 Axes>"
      ]
     },
     "metadata": {
      "needs_background": "light"
     },
     "output_type": "display_data"
    }
   ],
   "source": [
    "fpr1, tpr1, thresholds1 = roc_curve(data2017.y, testmodel.clf.decision_function(data2017.X))\n",
    "\n",
    "plt.plot(fpr1, tpr1, 'o-', ms=2, label=\"Logistic Regression\")\n",
    "plt.legend()\n",
    "plt.plot([0, 1], [0, 1], 'k--', label=\"random guess\")\n",
    "plt.xlabel('위양성률(Fall-Out)')\n",
    "plt.ylabel('재현률(Recall)')\n",
    "plt.title('ROC 커브')\n",
    "plt.show()"
   ]
  },
  {
   "cell_type": "code",
   "execution_count": null,
   "metadata": {
    "ExecuteTime": {
     "end_time": "2021-04-10T09:54:40.550484Z",
     "start_time": "2021-04-10T09:53:42.831147Z"
    }
   },
   "outputs": [],
   "source": [
    "# training data = year 2017, test data = year 2018\n",
    "model = DiabetesModelingLR()\n",
    "model.make_model(X_train=data2017.X, y_train=data2017.y, X_test=data2018.X, y_test=data2018.y)"
   ]
  },
  {
   "cell_type": "code",
   "execution_count": null,
   "metadata": {
    "ExecuteTime": {
     "end_time": "2021-04-10T09:54:41.371242Z",
     "start_time": "2021-04-10T09:54:40.595511Z"
    }
   },
   "outputs": [],
   "source": [
    "model.show_result()"
   ]
  },
  {
   "cell_type": "markdown",
   "metadata": {},
   "source": [
    "# Grid Search by Features\n",
    "### (not hyper-parameters)"
   ]
  },
  {
   "cell_type": "code",
   "execution_count": 136,
   "metadata": {
    "ExecuteTime": {
     "end_time": "2021-04-11T09:01:07.507704Z",
     "start_time": "2021-04-11T09:00:38.765831Z"
    }
   },
   "outputs": [
    {
     "name": "stdout",
     "output_type": "stream",
     "text": [
      "Reading Year 2017\n",
      "Filtering outliers\n",
      "Filtered    62 by 총콜레스테롤\n",
      "Filtered 3,671 by 트리글리세라이드\n",
      "Filtered   349 by LDL콜레스테롤\n",
      "Filtered    61 by 허리둘레\n",
      "Filtered 6,882 by 감마지티피\n",
      "Filtered 1,134 by 혈색소\n",
      "Filtered 3,895 by (혈청지오티)ALT\n",
      "Filtered 1,121 by (혈청지오티)AST\n",
      "Filtered 10,365 by 신장(5Cm단위)\n",
      "Filtered   175 by 체중(5Kg단위)\n",
      "Filtered 1,507 by 식전혈당(공복혈당)\n",
      "Filtered 29,222. Filterd X size : 967,581. (2.93%)\n",
      "\n",
      "Reading Year 2017's data done\n",
      "Size of X = 967,581, y = 967,581\n",
      "당뇨병 판별 공복혈당 기준 수치 : 120\n",
      "당뇨병 판별 환자 수 : 98,707명, 비당뇨병 판별수 : 868,874명\n",
      "\n",
      "After Balancing Size  \n",
      "당뇨병 판별 환자 수 : 98,707명, 비당뇨병 판별수 : 98,707명\n",
      "\n",
      "X has 9 features\n",
      "Selected Features and Sample Data: \n",
      "['허리둘레', '총콜레스테롤', '트리글리세라이드', 'LDL콜레스테롤', '혈색소', '(혈청지오티)AST', '(혈청지오티)ALT', '감마지티피', 'BMI']\n",
      "[ 98.   115.   137.    57.    16.5   48.    51.    42.    31.22]\n",
      "[ 77.   181.   206.    89.    14.5   22.    19.    48.    22.22]\n"
     ]
    }
   ],
   "source": [
    "gridtest = ReadData(2017)\n",
    "gridtest.read(list(filter_dict.keys()), return_data=False, filter_dict=filter_dict)"
   ]
  },
  {
   "cell_type": "markdown",
   "metadata": {},
   "source": [
    "# Generate Feature Combinations"
   ]
  },
  {
   "cell_type": "code",
   "execution_count": 137,
   "metadata": {
    "ExecuteTime": {
     "end_time": "2021-04-11T09:01:51.990098Z",
     "start_time": "2021-04-11T09:01:51.984642Z"
    },
    "code_folding": [],
    "scrolled": true
   },
   "outputs": [],
   "source": [
    "grid_features = gridtest.data_infos\n",
    "combs, feature_combinations = [], []\n",
    "for i in range(1, len(grid_features)):\n",
    "    t = []\n",
    "    t.append(list(itertools.combinations(grid_features, i)))\n",
    "    for j in range(len(t)):\n",
    "        combs.append(t[j])\n",
    "for f in combs:\n",
    "    for ff in f:\n",
    "        feature_combinations.append(list(ff))\n",
    "feature_combinations.append(gridtest.data_infos)\n",
    "if 0:\n",
    "    for f in feature_combinations: print(f)"
   ]
  },
  {
   "cell_type": "markdown",
   "metadata": {},
   "source": [
    "# Store results from all combinations"
   ]
  },
  {
   "cell_type": "code",
   "execution_count": 138,
   "metadata": {
    "ExecuteTime": {
     "end_time": "2021-04-11T09:19:19.082762Z",
     "start_time": "2021-04-11T09:02:06.153206Z"
    }
   },
   "outputs": [],
   "source": [
    "results = []\n",
    "for features in feature_combinations:\n",
    "    gridmodel = DiabetesModelingLR()\n",
    "    gridmodel.make_model(X=gridtest.get_specific_data(features), y=gridtest.y)\n",
    "    results.append(gridmodel.get_result())\n",
    "clear_output()\n",
    "# 7h with full size, CV=2\n",
    "# 17m with 10만+10만, fbs pivot=120 CV=False"
   ]
  },
  {
   "cell_type": "markdown",
   "metadata": {},
   "source": [
    "# Show f1_scores from grid search"
   ]
  },
  {
   "cell_type": "code",
   "execution_count": null,
   "metadata": {
    "ExecuteTime": {
     "end_time": "2021-04-11T09:32:01.841706Z",
     "start_time": "2021-04-11T09:32:01.792106Z"
    },
    "scrolled": false
   },
   "outputs": [],
   "source": [
    "max_i, max_f1 = 0,0\n",
    "for i, result in enumerate(results):\n",
    "    f1 = result[0]\n",
    "    if f1 >= max_f1:\n",
    "        max_i, max_f1 = i, f1\n",
    "    print(f'{f1:5>.4} = {feature_combinations[i]}')"
   ]
  },
  {
   "cell_type": "code",
   "execution_count": 167,
   "metadata": {
    "ExecuteTime": {
     "end_time": "2021-04-11T10:06:29.893078Z",
     "start_time": "2021-04-11T10:06:29.883158Z"
    },
    "scrolled": true
   },
   "outputs": [
    {
     "name": "stdout",
     "output_type": "stream",
     "text": [
      "0.65417:['허리둘레', '총콜레스테롤', '트리글리세라이드', 'LDL콜레스테롤', '혈색소', '(혈청지오티)ALT', '감마지티피', 'BMI']\n",
      "0.654:['허리둘레', '총콜레스테롤', '트리글리세라이드', '혈색소', '(혈청지오티)ALT', '감마지티피', 'BMI']\n",
      "0.6535:['허리둘레', '총콜레스테롤', '트리글리세라이드', 'LDL콜레스테롤', '혈색소', '(혈청지오티)ALT', '감마지티피']\n",
      "0.65341:['허리둘레', '총콜레스테롤', '트리글리세라이드', '혈색소', '(혈청지오티)ALT', '감마지티피']\n",
      "0.65338:['허리둘레', '총콜레스테롤', '트리글리세라이드', '(혈청지오티)ALT', '감마지티피', 'BMI']\n",
      "0.65337:['허리둘레', '총콜레스테롤', '트리글리세라이드', 'LDL콜레스테롤', '(혈청지오티)ALT', '감마지티피', 'BMI']\n",
      "0.65299:['허리둘레', '총콜레스테롤', '트리글리세라이드', '혈색소', '(혈청지오티)AST', '(혈청지오티)ALT', '감마지티피']\n",
      "0.65283:['허리둘레', '총콜레스테롤', '트리글리세라이드', '혈색소', '(혈청지오티)AST', '감마지티피']\n",
      "0.65279:['허리둘레', '총콜레스테롤', '트리글리세라이드', '혈색소', '(혈청지오티)AST', '(혈청지오티)ALT', '감마지티피', 'BMI']\n",
      "0.65272:['허리둘레', '총콜레스테롤', '트리글리세라이드', '혈색소', '(혈청지오티)AST', '감마지티피', 'BMI']\n",
      "0.65269:['허리둘레', '총콜레스테롤', '트리글리세라이드', '혈색소', '감마지티피']\n",
      "0.65252:['허리둘레', '총콜레스테롤', '트리글리세라이드', 'LDL콜레스테롤', '혈색소', '(혈청지오티)AST', '(혈청지오티)ALT', '감마지티피', 'BMI']\n",
      "0.65245:['허리둘레', '총콜레스테롤', '트리글리세라이드', 'LDL콜레스테롤', '혈색소', '감마지티피', 'BMI']\n",
      "0.65232:['허리둘레', '총콜레스테롤', '트리글리세라이드', '(혈청지오티)AST', '(혈청지오티)ALT', '감마지티피', 'BMI']\n",
      "0.6523:['허리둘레', '총콜레스테롤', '트리글리세라이드', '(혈청지오티)AST', '(혈청지오티)ALT', '감마지티피']\n",
      "0.6523:['허리둘레', '총콜레스테롤', '트리글리세라이드', 'LDL콜레스테롤', '(혈청지오티)AST', '(혈청지오티)ALT', '감마지티피']\n",
      "0.65225:['허리둘레', '총콜레스테롤', '트리글리세라이드', 'LDL콜레스테롤', '혈색소', '(혈청지오티)AST', '감마지티피']\n",
      "0.65224:['허리둘레', '총콜레스테롤', '트리글리세라이드', 'LDL콜레스테롤', '(혈청지오티)AST', '(혈청지오티)ALT', '감마지티피', 'BMI']\n",
      "0.65222:['허리둘레', '총콜레스테롤', '트리글리세라이드', '(혈청지오티)AST', '감마지티피']\n",
      "0.65218:['허리둘레', '총콜레스테롤', '트리글리세라이드', '혈색소', '감마지티피', 'BMI']\n"
     ]
    }
   ],
   "source": [
    "sorted_results = sorted(enumerate([result[0] for result in results[:]]), reverse=True, key=lambda x:x[1])[:20]\n",
    "for i, f1 in sorted_results:\n",
    "    print(f'{f1}:{feature_combinations[i]}')"
   ]
  },
  {
   "cell_type": "code",
   "execution_count": 141,
   "metadata": {
    "ExecuteTime": {
     "end_time": "2021-04-11T09:32:06.189448Z",
     "start_time": "2021-04-11T09:32:06.184984Z"
    }
   },
   "outputs": [
    {
     "name": "stdout",
     "output_type": "stream",
     "text": [
      "Highest f1 score is 0.6542, features : ['허리둘레', '총콜레스테롤', '트리글리세라이드', 'LDL콜레스테롤', '혈색소', '(혈청지오티)ALT', '감마지티피', 'BMI']\n"
     ]
    }
   ],
   "source": [
    "print(f'Highest f1 score is {max_f1:.4}, features : {feature_combinations[max_i]}')"
   ]
  },
  {
   "cell_type": "markdown",
   "metadata": {},
   "source": [
    "# Show Outliers"
   ]
  },
  {
   "cell_type": "code",
   "execution_count": null,
   "metadata": {
    "ExecuteTime": {
     "end_time": "2021-04-09T15:08:46.340634Z",
     "start_time": "2021-04-09T15:08:44.846040Z"
    }
   },
   "outputs": [],
   "source": [
    "test.show_outliers(feature='체중(5Kg단위)', pivot=100, not_diabetes_only=False)"
   ]
  },
  {
   "cell_type": "code",
   "execution_count": null,
   "metadata": {
    "ExecuteTime": {
     "end_time": "2021-04-09T15:04:16.037558Z",
     "start_time": "2021-04-09T15:04:14.480299Z"
    },
    "scrolled": true
   },
   "outputs": [],
   "source": [
    "# show_outliers(self, feature, pivot, not_diabetes_only=True)\n",
    "look.show_outliers(feature='총콜레스테롤', pivot=500, not_diabetes_only=False)"
   ]
  },
  {
   "cell_type": "code",
   "execution_count": null,
   "metadata": {
    "ExecuteTime": {
     "end_time": "2021-04-09T15:35:40.753920Z",
     "start_time": "2021-04-09T15:35:39.133638Z"
    }
   },
   "outputs": [],
   "source": [
    "look.show_outliers(feature='식전혈당(공복혈당)', pivot=600, not_diabetes_only=False)"
   ]
  },
  {
   "cell_type": "code",
   "execution_count": null,
   "metadata": {
    "ExecuteTime": {
     "end_time": "2021-04-09T15:04:17.621958Z",
     "start_time": "2021-04-09T15:04:16.129854Z"
    },
    "scrolled": true
   },
   "outputs": [],
   "source": [
    "look.show_outliers(feature='트리글리세라이드', pivot=700, not_diabetes_only=False)"
   ]
  },
  {
   "cell_type": "code",
   "execution_count": null,
   "metadata": {
    "ExecuteTime": {
     "end_time": "2021-04-09T15:04:45.310855Z",
     "start_time": "2021-04-09T15:04:43.830245Z"
    },
    "scrolled": true
   },
   "outputs": [],
   "source": [
    "look.show_outliers(feature='LDL콜레스테롤', pivot=300, not_diabetes_only=False)"
   ]
  },
  {
   "cell_type": "code",
   "execution_count": null,
   "metadata": {
    "ExecuteTime": {
     "end_time": "2021-04-09T15:04:20.866995Z",
     "start_time": "2021-04-09T15:04:19.461883Z"
    },
    "scrolled": true
   },
   "outputs": [],
   "source": [
    "look.show_outliers(feature='허리둘레', pivot=150, not_diabetes_only=False)"
   ]
  },
  {
   "cell_type": "code",
   "execution_count": null,
   "metadata": {
    "ExecuteTime": {
     "end_time": "2021-04-09T15:04:22.382724Z",
     "start_time": "2021-04-09T15:04:20.943545Z"
    }
   },
   "outputs": [],
   "source": [
    "look.show_outliers(feature='감마지티피', pivot=300, not_diabetes_only=False)"
   ]
  },
  {
   "cell_type": "code",
   "execution_count": null,
   "metadata": {
    "ExecuteTime": {
     "end_time": "2021-04-09T15:04:23.888958Z",
     "start_time": "2021-04-09T15:04:22.491135Z"
    },
    "scrolled": true
   },
   "outputs": [],
   "source": [
    "look.show_outliers(feature='혈색소', pivot=18, not_diabetes_only=False)"
   ]
  },
  {
   "cell_type": "code",
   "execution_count": null,
   "metadata": {
    "ExecuteTime": {
     "end_time": "2021-04-09T15:04:25.771084Z",
     "start_time": "2021-04-09T15:04:23.989069Z"
    }
   },
   "outputs": [],
   "source": [
    "look.show_outliers(feature='(혈청지오티)ALT', pivot=200, not_diabetes_only=True)"
   ]
  },
  {
   "cell_type": "code",
   "execution_count": null,
   "metadata": {
    "ExecuteTime": {
     "end_time": "2021-04-09T15:04:27.371325Z",
     "start_time": "2021-04-09T15:04:25.863190Z"
    }
   },
   "outputs": [],
   "source": [
    "look.show_outliers(feature='(혈청지오티)AST', pivot=200, not_diabetes_only=False)"
   ]
  },
  {
   "cell_type": "markdown",
   "metadata": {},
   "source": [
    "# Support Vector Machine"
   ]
  },
  {
   "cell_type": "code",
   "execution_count": null,
   "metadata": {
    "ExecuteTime": {
     "end_time": "2021-04-01T17:30:06.357586Z",
     "start_time": "2021-04-01T17:30:06.340226Z"
    },
    "code_folding": [
     0
    ]
   },
   "outputs": [],
   "source": [
    "class DiabetesModelingSVM():\n",
    "    def __init__(self, X=None, y=None):\n",
    "        self.X = X\n",
    "        self.y = y\n",
    "        self.X_train = None\n",
    "        self.y_train = None\n",
    "        self.X_test = None\n",
    "        self.y_test = None\n",
    "        self.clf = None\n",
    "        self.training_size = None\n",
    "        self.testing_size = None\n",
    "        self.CROSSVAL=False\n",
    "        self.SPLIT_DATA = True\n",
    "        self.RESET_FBS = False\n",
    "    def SVM(self):\n",
    "        X, y = self.X, self.y\n",
    "        if self.RESET_FBS:\n",
    "            FBS = 120\n",
    "            year = 2017\n",
    "            X, y = reset_fbs(fbs=FBS, year=year)\n",
    "        if self.SPLIT_DATA:\n",
    "            X_train, X_test, y_train, y_test = split_set(X, y)\n",
    "            self.X_train, self.X_test, self.y_train, self.y_test = [\n",
    "                X_train, X_test, y_train, y_test]\n",
    "        if X_train.shape[1] != X_test.shape[1]:\n",
    "            raise Exception('Training Set과 Test Set의 Feature가 다릅니다.')\n",
    "\n",
    "        self.training_size = len(X_train)\n",
    "        self.testing_size = len(X_test)\n",
    "        self.clf = SVC(random_state=42, decision_function_shape='ovo', kernel='rbf',\n",
    "                      gamma=0.1, C=0.0001)\n",
    "#         self.clf = SVC(C=1e-2, multi_class='ovr',\n",
    "#                                  penalty='l2', solver='liblinear', tol=0.1)\n",
    "#         if self.CROSSVAL:\n",
    "#             self.clf = LogisticRegressionCV(C=1, multi_class='ovr', cv=5,\n",
    "#                                  penalty='l2', solver='saga', tol=0.1)\n",
    "\n",
    "        self.clf.fit(X_train, y_train)\n",
    "        clear_output()\n",
    "        y_predict = self.clf.predict(X_test)\n",
    "        \n",
    "    def show_result(self):\n",
    "        clf = self.clf\n",
    "        print('Training size : %d Testing Size : %d' %(self.training_size, self.testing_size))\n",
    "        counts = np.unique(self.y, return_counts = True)[1]\n",
    "        print(f'당뇨병 판별 환자 수 : {counts[1]}, 비당뇨병 판별수 : {counts[0]}\\n')\n",
    "        print(f'Accuracy score: {round(accuracy_score(self.y_test, clf.predict(self.X_test)), 5)}\\n')\n",
    "\n",
    "        y_predict = clf.predict(self.X_test)\n",
    "        print(classification_report(self.y_test, y_predict, target_names=['건강','당뇨']))\n",
    "        cm = confusion_matrix(self.y_test, y_predict)\n",
    "        print('Confusion Matrix\\n', cm)"
   ]
  },
  {
   "cell_type": "markdown",
   "metadata": {},
   "source": [
    "## Data Resize Required"
   ]
  },
  {
   "cell_type": "code",
   "execution_count": null,
   "metadata": {
    "ExecuteTime": {
     "end_time": "2021-04-01T18:52:56.310370Z",
     "start_time": "2021-04-01T17:30:07.466642Z"
    }
   },
   "outputs": [],
   "source": [
    "model2017SVM = DiabetesModelingSVM(X,y)\n",
    "model2017SVM.SVM()\n",
    "# 1h 22m"
   ]
  },
  {
   "cell_type": "code",
   "execution_count": null,
   "metadata": {
    "ExecuteTime": {
     "end_time": "2021-04-02T06:26:19.771416Z",
     "start_time": "2021-04-02T05:33:28.020434Z"
    },
    "scrolled": true
   },
   "outputs": [],
   "source": [
    "model2017SVM.show_result()\n",
    "# 52m"
   ]
  },
  {
   "cell_type": "markdown",
   "metadata": {},
   "source": [
    "# Grid Search"
   ]
  },
  {
   "cell_type": "code",
   "execution_count": 189,
   "metadata": {
    "ExecuteTime": {
     "end_time": "2021-04-11T10:25:18.945962Z",
     "start_time": "2021-04-11T10:25:18.933067Z"
    }
   },
   "outputs": [],
   "source": [
    "class GridSearch():\n",
    "    def __init__(self, grid_parameters, X, y, model=LogisticRegression):\n",
    "        self.model = model\n",
    "        self.grid_parameters = grid_parameters\n",
    "        self.X = X\n",
    "        self.y = y\n",
    "        self.clf = None\n",
    "        self.best_parameters = None\n",
    "        self.best_estimator = None\n",
    "        \n",
    "    def make_estimator(self, model, X=None, y=None, default_parameters=None,\n",
    "                       grid_parameters=None, cross_validation:int=2):\n",
    "#         clf = model(**default_parameters)\n",
    "        clf = model(max_iter=5000)\n",
    "        estimator = GridSearchCV(clf, grid_parameters, cv=cross_validation, n_jobs=-1)\n",
    "#         dict_keys(['C', 'class_weight', 'dual', 'fit_intercept', 'intercept_scaling', 'l1_ratio', \n",
    "#                    'max_iter', 'multi_class', 'n_jobs', 'penalty', 'random_state', 'solver',\n",
    "#                    'tol', 'verbose', 'warm_start'])\n",
    "        estimator.fit(X,y)\n",
    "        \n",
    "        return estimator\n",
    "    \n",
    "    def grid_search(self):\n",
    "        X_train, X_test, y_train, y_test = split_set(self.X, self.y)\n",
    "        self.clf = self.make_estimator(X=X_train, y=y_train, model=self.model,\n",
    "                                       grid_parameters=self.grid_parameters)\n",
    "#         self.clf = self.make_estimator(X=X_train, y=y_train, model=self.model,\n",
    "#                                        default_parameters=dict(solver='lbfgs'),\n",
    "#                                        grid_parameters=self.grid_parameters)\n",
    "        self.best_parameters = self.clf.best_params_\n",
    "        self.best_estimator = self.clf.best_estimator_\n",
    "\n",
    "        # get best accuracy on training set\n",
    "        print('Input Grid Parameters')\n",
    "        print(self.grid_parameters)\n",
    "        \n",
    "        print('Accuracy on training set')\n",
    "        print(round(self.clf.best_score_, 5))\n",
    "\n",
    "        print('Accuracy on test set')\n",
    "        print(round(self.best_estimator.score(X_test, y_test), 5))\n",
    "\n",
    "        print(f'Best Parameters : {self.best_parameters}')"
   ]
  },
  {
   "cell_type": "code",
   "execution_count": 190,
   "metadata": {
    "ExecuteTime": {
     "end_time": "2021-04-11T10:27:00.319041Z",
     "start_time": "2021-04-11T10:25:19.316989Z"
    }
   },
   "outputs": [
    {
     "name": "stdout",
     "output_type": "stream",
     "text": [
      "Input Grid Parameters\n",
      "{'C': [0.0001, 0.001, 0.01, 1, 10, 1000], 'penalty': ['l1', 'l2'], 'solver': ['saga']}\n",
      "Accuracy on training set\n",
      "0.66499\n",
      "Accuracy on test set\n",
      "0.66454\n",
      "Best Parameters : {'C': 0.001, 'penalty': 'l1', 'solver': 'saga'}\n"
     ]
    }
   ],
   "source": [
    "# dict_keys(['C', 'class_weight', 'dual', 'fit_intercept', 'intercept_scaling', 'l1_ratio', \n",
    "#            'max_iter', 'multi_class', 'n_jobs', 'penalty', 'random_state', 'solver',\n",
    "#            'tol', 'verbose', 'warm_start'])\n",
    "grid_parameters = {\n",
    "    'C': [1e-4, 1e-3, 1e-2, 1, 10, 1000],\n",
    "    'penalty': ['l1', 'l2'],\n",
    "    'solver': ['saga']\n",
    "#     'C': [1e-4, 1e-4, 1e-3, 1e-2, 1e-1, 1, 1000], # 1000 means no regularization\n",
    "#     'solver': ['saga']\n",
    "}\n",
    "features = ['허리둘레', '총콜레스테롤', '트리글리세라이드', 'LDL콜레스테롤', '혈색소', '(혈청지오티)ALT', '감마지티피', 'BMI']\n",
    "grid_search_2017_LR = GridSearch(grid_parameters=grid_parameters, model=LogisticRegression,\n",
    "                                X=gridtest.get_specific_data(features), y=gridtest.y)\n",
    "grid_search_2017_LR.grid_search()"
   ]
  },
  {
   "cell_type": "code",
   "execution_count": 197,
   "metadata": {
    "ExecuteTime": {
     "end_time": "2021-04-11T10:54:22.363997Z",
     "start_time": "2021-04-11T10:54:22.348622Z"
    }
   },
   "outputs": [
    {
     "data": {
      "text/plain": [
       "dict_keys(['Cs', 'class_weight', 'cv', 'dual', 'fit_intercept', 'intercept_scaling', 'l1_ratios', 'max_iter', 'multi_class', 'n_jobs', 'penalty', 'random_state', 'refit', 'scoring', 'solver', 'tol', 'verbose'])"
      ]
     },
     "execution_count": 197,
     "metadata": {},
     "output_type": "execute_result"
    }
   ],
   "source": [
    "LogisticRegressionCV.get_params(LogisticRegressionCV()).keys()"
   ]
  },
  {
   "cell_type": "code",
   "execution_count": 180,
   "metadata": {
    "ExecuteTime": {
     "end_time": "2021-04-11T10:14:40.478122Z",
     "start_time": "2021-04-11T10:14:40.466714Z"
    }
   },
   "outputs": [
    {
     "data": {
      "text/plain": [
       "dict_keys(['C', 'class_weight', 'dual', 'fit_intercept', 'intercept_scaling', 'l1_ratio', 'max_iter', 'multi_class', 'n_jobs', 'penalty', 'random_state', 'solver', 'tol', 'verbose', 'warm_start'])"
      ]
     },
     "execution_count": 180,
     "metadata": {},
     "output_type": "execute_result"
    }
   ],
   "source": [
    "GridSearchCV.get_params(LogisticRegression()).keys()"
   ]
  },
  {
   "cell_type": "code",
   "execution_count": null,
   "metadata": {
    "ExecuteTime": {
     "end_time": "2021-04-06T13:48:06.547929Z",
     "start_time": "2021-04-06T13:48:06.515074Z"
    }
   },
   "outputs": [],
   "source": [
    "def scale(train_data, scatter_show_YN=False, kdeplot_show_YN=False):    \n",
    "    from sklearn.preprocessing import MinMaxScaler\n",
    "    minMaxScaler = MinMaxScaler()\n",
    "    %time print(minMaxScaler.fit(train_data))\n",
    "    train_data_minMaxScaled =  pd.DataFrame(minMaxScaler.transform(train_data), columns=['x1', 'x2'])\n",
    "\n",
    "    from sklearn.preprocessing import MaxAbsScaler\n",
    "    maxAbsScaler = MaxAbsScaler()\n",
    "    %time print(maxAbsScaler.fit(train_data))\n",
    "    train_data_maxAbsScaled = pd.DataFrame(maxAbsScaler.transform(train_data), columns=['x1', 'x2'])\n",
    "\n",
    "    from sklearn.preprocessing import StandardScaler\n",
    "    standardScaler = StandardScaler()\n",
    "    %time print(standardScaler.fit(train_data))\n",
    "    train_data_standardScaled = pd.DataFrame(standardScaler.transform(train_data), columns=['x1', 'x2'])\n",
    "\n",
    "    from sklearn.preprocessing import RobustScaler\n",
    "    robustScaler = RobustScaler()\n",
    "    %time print(robustScaler.fit(train_data))\n",
    "    train_data_robustScaled = pd.DataFrame(robustScaler.transform(train_data), columns=['x1', 'x2'])\n",
    "\n",
    "    if(kdeplot_show_YN is True):\n",
    "        kdeplot_show(train_data, train_data_minMaxScaled, train_data_maxAbsScaled, train_data_standardScaled, train_data_robustScaled)    \n",
    "    \n",
    "    if(scatter_show_YN is True):\n",
    "        scatter_show(train_data, train_data_minMaxScaled, train_data_maxAbsScaled, train_data_standardScaled, train_data_robustScaled)"
   ]
  },
  {
   "cell_type": "code",
   "execution_count": null,
   "metadata": {
    "ExecuteTime": {
     "end_time": "2021-04-06T13:48:07.184777Z",
     "start_time": "2021-04-06T13:48:07.171352Z"
    }
   },
   "outputs": [],
   "source": [
    "def scatter_show(train_data, train_data_minMaxScaled, train_data_maxAbsScaled, train_data_standardScaled, train_data_robustScaled):    \n",
    "    fig, ax = plt.subplots(nrows=1, ncols=5, figsize=(19,4))\n",
    "    scatter_sub_draw(sub_ax=ax[0], x=train_data['x1'], y=train_data['x2'],\n",
    "                                  title='train_data', size=2, color1='k', color2='c')\n",
    "    scatter_sub_draw(sub_ax=ax[1], x=train_data_minMaxScaled['x1'], y=train_data_minMaxScaled['x2'],\n",
    "                                  title='train_data_minMaxScaled', size=2, color1='g', color2='c')\n",
    "    scatter_sub_draw(sub_ax=ax[2], x=train_data_maxAbsScaled['x1'], y=train_data_maxAbsScaled['x2'],\n",
    "                                  title='train_data_maxAbsScaled', size=2, color1='g', color2='c')\n",
    "    scatter_sub_draw(sub_ax=ax[3], x=train_data_standardScaled['x1'], y=train_data_standardScaled['x2'],\n",
    "                                  title='train_data_standardScaled', size=2, color1='g', color2='c')\n",
    "    scatter_sub_draw(sub_ax=ax[4], x=train_data_robustScaled['x1'], y=train_data_robustScaled['x2'],\n",
    "                                  title='train_data_robustScaled', size=2, color1='g', color2='c')\n",
    "    \n",
    "def scatter_sub_draw(sub_ax, x, y, title, size, color1, color2):\n",
    "    sub_ax.scatter(x, y, s=size, color=color1)\n",
    "    sub_ax.grid(True)\n",
    "    sub_ax.set_title(title)\n",
    "    sub_ax.set_xlabel(x.name)\n",
    "    sub_ax.set_ylabel(y.name)\n",
    "    # median  line draw\n",
    "    sub_ax.axvline(x=x.median(), color=color2, linestyle='--', linewidth=0.5)\n",
    "    sub_ax.axhline(y=y.median(), color=color2, linestyle='--', linewidth=0.5)"
   ]
  },
  {
   "cell_type": "code",
   "execution_count": null,
   "metadata": {
    "ExecuteTime": {
     "end_time": "2021-04-06T13:48:07.700963Z",
     "start_time": "2021-04-06T13:48:07.686324Z"
    }
   },
   "outputs": [],
   "source": [
    "def kdeplot_show(train_data, train_data_minMaxScaled, train_data_maxAbsScaled, train_data_standardScaled, train_data_robustScaled):\n",
    "    fig, ax = plt.subplots(nrows=1, ncols=5, figsize=(19,4))\n",
    "    kdeplot_sub_draw(sub_ax=ax[0], x=train_data['x1'], y=train_data['x2'], \n",
    "                                  title='train_data', size=1, color1='r', color2='b')\n",
    "    kdeplot_sub_draw(sub_ax=ax[1], x=train_data_minMaxScaled['x1'], y=train_data_minMaxScaled['x2'], \n",
    "                                  title='train_data_minMaxScaled', size=1, color1='r', color2='b')\n",
    "    kdeplot_sub_draw(sub_ax=ax[2], x=train_data_maxAbsScaled['x1'], y=train_data_maxAbsScaled['x2'], \n",
    "                                  title='train_data_maxAbsScaled', size=1, color1='r', color2='b')\n",
    "    kdeplot_sub_draw(sub_ax=ax[3], x=train_data_standardScaled['x1'], y=train_data_standardScaled['x2'], \n",
    "                                  title='train_data_standardScaled', size=1, color1='r', color2='b')\n",
    "    kdeplot_sub_draw(sub_ax=ax[4], x=train_data_robustScaled['x1'], y=train_data_robustScaled['x2'], \n",
    "                                  title='train_data_robustScaled', size=1, color1='r', color2='b')\n",
    "    \n",
    "def kdeplot_sub_draw(sub_ax, x, y, title, size, color1, color2):\n",
    "    # sns.kdeplot: Fit and plot a univariate or bivariate kernel density estimate\n",
    "    import seaborn as sns\n",
    "    sub_ax.grid(True)\n",
    "    sub_ax.set_title(title)\n",
    "    sns.kdeplot(x, ax=sub_ax, shade=True, color=color1)\n",
    "    sns.kdeplot(y, ax=sub_ax, shade=True, color=color2)\n",
    "    # median  line draw\n",
    "    sub_ax.axvline(x=x.median(), color=color1, linestyle='--', linewidth=0.5)\n",
    "    sub_ax.axvline(x=y.median(), color=color2, linestyle='--', linewidth=0.5)"
   ]
  },
  {
   "cell_type": "code",
   "execution_count": null,
   "metadata": {
    "ExecuteTime": {
     "end_time": "2021-04-06T13:52:33.505632Z",
     "start_time": "2021-04-06T13:52:33.501650Z"
    }
   },
   "outputs": [],
   "source": [
    "train_data = pd.DataFrame({\n",
    "    'x1': X[1],\n",
    "    'x2': X[2]\n",
    "})"
   ]
  },
  {
   "cell_type": "code",
   "execution_count": null,
   "metadata": {
    "ExecuteTime": {
     "end_time": "2021-04-06T13:52:38.128726Z",
     "start_time": "2021-04-06T13:52:35.068594Z"
    },
    "scrolled": false
   },
   "outputs": [],
   "source": [
    "scale(train_data, scatter_show_YN=True, kdeplot_show_YN=True)"
   ]
  }
 ],
 "metadata": {
  "kernelspec": {
   "display_name": "Python 3",
   "language": "python",
   "name": "python3"
  },
  "language_info": {
   "codemirror_mode": {
    "name": "ipython",
    "version": 3
   },
   "file_extension": ".py",
   "mimetype": "text/x-python",
   "name": "python",
   "nbconvert_exporter": "python",
   "pygments_lexer": "ipython3",
   "version": "3.8.5"
  },
  "latex_envs": {
   "LaTeX_envs_menu_present": true,
   "autoclose": false,
   "autocomplete": true,
   "bibliofile": "biblio.bib",
   "cite_by": "apalike",
   "current_citInitial": 1,
   "eqLabelWithNumbers": true,
   "eqNumInitial": 1,
   "hotkeys": {
    "equation": "Ctrl-E",
    "itemize": "Ctrl-I"
   },
   "labels_anchors": false,
   "latex_user_defs": false,
   "report_style_numbering": false,
   "user_envs_cfg": false
  },
  "varInspector": {
   "cols": {
    "lenName": 16,
    "lenType": 16,
    "lenVar": 40
   },
   "kernels_config": {
    "python": {
     "delete_cmd_postfix": "",
     "delete_cmd_prefix": "del ",
     "library": "var_list.py",
     "varRefreshCmd": "print(var_dic_list())"
    },
    "r": {
     "delete_cmd_postfix": ") ",
     "delete_cmd_prefix": "rm(",
     "library": "var_list.r",
     "varRefreshCmd": "cat(var_dic_list()) "
    }
   },
   "types_to_exclude": [
    "module",
    "function",
    "builtin_function_or_method",
    "instance",
    "_Feature"
   ],
   "window_display": false
  }
 },
 "nbformat": 4,
 "nbformat_minor": 2
}
